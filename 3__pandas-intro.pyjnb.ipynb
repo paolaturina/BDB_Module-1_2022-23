{
 "cells": [
  {
   "cell_type": "markdown",
   "metadata": {
    "id": "hGMFY3zh1-qZ",
    "tags": []
   },
   "source": [
    "# Biomedical Data Bases 2022-23   --   Module I\n",
    "## Introduction to pandas  --  The Python Data Analysis Library\n",
    "### Data Analysis, Data Manipulation, Data Visualization\n",
    "\n",
    "<br>\n",
    "<br>\n",
    "Documentation:   https://pandas.pydata.org/docs/index.html\n",
    "\n",
    "Some useful sites:    \n",
    "https://jakevdp.github.io/PythonDataScienceHandbook/   \n",
    "https://medium.com/@harrypotter0/an-introduction-to-data-analysis-with-pandas-27ecbce2853\n",
    "\n"
   ]
  },
  {
   "cell_type": "markdown",
   "metadata": {
    "tags": []
   },
   "source": [
    "### &emsp; &emsp; 1. Pandas objects: Series and DataFrame\n",
    "### &emsp; &emsp; 2. Accessing elements (by index or conditions)\n",
    "### &emsp; &emsp; 3. Data Manipulation\n",
    "### &emsp; &emsp; 4. Reading and Writing\n",
    "### &emsp; &emsp; 5. Plot data\n",
    "### &emsp; &emsp; 6. Grouping\n",
    "<br>"
   ]
  },
  {
   "cell_type": "code",
   "execution_count": 1,
   "metadata": {
    "id": "ELY8FQxG0ab0"
   },
   "outputs": [],
   "source": [
    "import numpy as np\n",
    "import pandas as pd"
   ]
  },
  {
   "cell_type": "markdown",
   "metadata": {
    "tags": []
   },
   "source": [
    "### 1. Pandas objects:  Series and DataFrame"
   ]
  },
  {
   "cell_type": "markdown",
   "metadata": {
    "id": "lmK4fx9c3i2V",
    "tags": []
   },
   "source": [
    "#### 1.1 Pandas Series"
   ]
  },
  {
   "cell_type": "code",
   "execution_count": 2,
   "metadata": {
    "colab": {
     "base_uri": "https://localhost:8080/"
    },
    "id": "sJWcFPPZ0zjg",
    "outputId": "2fec2ba8-b441-4b0a-b581-d02f8ad408ea"
   },
   "outputs": [
    {
     "data": {
      "text/plain": [
       "0    0.25\n",
       "1    0.50\n",
       "2    0.75\n",
       "3    1.00\n",
       "4    1.25\n",
       "5    1.50\n",
       "dtype: float64"
      ]
     },
     "execution_count": 2,
     "metadata": {},
     "output_type": "execute_result"
    }
   ],
   "source": [
    "mySeries = pd.Series([0.25, 0.5, 0.75, 1.0, 1.25, 1.5])\n",
    "mySeries"
   ]
  },
  {
   "cell_type": "markdown",
   "metadata": {
    "id": "GhYFUplu3HFo"
   },
   "source": [
    "##### Series is an object which is similar to the Python list but differs from it because it has associated label with each element or so-called index."
   ]
  },
  {
   "cell_type": "markdown",
   "metadata": {
    "id": "kCtTOw1L4mDf"
   },
   "source": [
    "##### Series has attributes to extract its values and index:"
   ]
  },
  {
   "cell_type": "code",
   "execution_count": 3,
   "metadata": {
    "colab": {
     "base_uri": "https://localhost:8080/"
    },
    "id": "iB0yfBW43YoP",
    "outputId": "67e3e46d-f9eb-4a7e-fe61-4723b2d6f534"
   },
   "outputs": [
    {
     "data": {
      "text/plain": [
       "array([0.25, 0.5 , 0.75, 1.  , 1.25, 1.5 ])"
      ]
     },
     "execution_count": 3,
     "metadata": {},
     "output_type": "execute_result"
    }
   ],
   "source": [
    "mySeries.values\n",
    "\n",
    "#print (mySeries.values)\n",
    "\n",
    "#type (mySeries.values)"
   ]
  },
  {
   "cell_type": "markdown",
   "metadata": {
    "id": "jsYl0IW55vXW"
   },
   "source": [
    "##### The \"values\" are a numpy array"
   ]
  },
  {
   "cell_type": "code",
   "execution_count": 4,
   "metadata": {
    "colab": {
     "base_uri": "https://localhost:8080/"
    },
    "id": "_VYHSRcd4z7W",
    "outputId": "18f9c181-5469-4347-d199-a7d33cf55fed"
   },
   "outputs": [
    {
     "name": "stdout",
     "output_type": "stream",
     "text": [
      "RangeIndex(start=0, stop=6, step=1)\n"
     ]
    },
    {
     "data": {
      "text/plain": [
       "pandas.core.indexes.range.RangeIndex"
      ]
     },
     "execution_count": 4,
     "metadata": {},
     "output_type": "execute_result"
    }
   ],
   "source": [
    "print (mySeries.index)\n",
    "\n",
    "type (mySeries.index)"
   ]
  },
  {
   "cell_type": "code",
   "execution_count": 5,
   "metadata": {},
   "outputs": [
    {
     "name": "stdout",
     "output_type": "stream",
     "text": [
      "0\n",
      "1\n",
      "2\n",
      "3\n",
      "4\n",
      "5\n"
     ]
    }
   ],
   "source": [
    "for i in mySeries.index:\n",
    "    print (i)"
   ]
  },
  {
   "cell_type": "markdown",
   "metadata": {
    "id": "GJjyHz424xye"
   },
   "source": [
    "##### The index is an array-like object of type pd.Index, or more precisely in this case, of type pd.RangeIndex"
   ]
  },
  {
   "cell_type": "markdown",
   "metadata": {
    "id": "ebrHAlmP-7vT",
    "tags": []
   },
   "source": [
    "##### Like with a python list or with a NumPy array, data can be accessed by the associated index via the python square-bracket notation:"
   ]
  },
  {
   "cell_type": "code",
   "execution_count": 6,
   "metadata": {
    "colab": {
     "base_uri": "https://localhost:8080/"
    },
    "id": "zGswgoiM-w5k",
    "outputId": "3616ef51-9596-40a3-db79-ffd11f0493e5"
   },
   "outputs": [
    {
     "data": {
      "text/plain": [
       "0.75"
      ]
     },
     "execution_count": 6,
     "metadata": {},
     "output_type": "execute_result"
    }
   ],
   "source": [
    "mySeries[2]"
   ]
  },
  {
   "cell_type": "code",
   "execution_count": 7,
   "metadata": {
    "colab": {
     "base_uri": "https://localhost:8080/"
    },
    "id": "EAFIeHrSGo91",
    "outputId": "a393c0ca-4118-412c-c27e-82dd308611e3"
   },
   "outputs": [
    {
     "data": {
      "text/plain": [
       "1    0.50\n",
       "2    0.75\n",
       "3    1.00\n",
       "dtype: float64"
      ]
     },
     "execution_count": 7,
     "metadata": {},
     "output_type": "execute_result"
    }
   ],
   "source": [
    "mySeries[1:4]\n"
   ]
  },
  {
   "cell_type": "markdown",
   "metadata": {
    "id": "gVyKcerHHVJE"
   },
   "source": [
    "##### While a list has no index, and a one-dimensional NumPy array has an implicitly defined integer index, the Pandas Series has an explicitly defined index -- which, in addition, need not be an integer:\n"
   ]
  },
  {
   "cell_type": "code",
   "execution_count": 8,
   "metadata": {
    "colab": {
     "base_uri": "https://localhost:8080/"
    },
    "id": "QdvaMEN2-Viu",
    "outputId": "68c93ea4-26d9-49ec-cc8f-0d21664b9bd5"
   },
   "outputs": [
    {
     "data": {
      "text/plain": [
       "a    0.25\n",
       "b    0.50\n",
       "c    0.75\n",
       "d    1.00\n",
       "e    1.25\n",
       "f    1.50\n",
       "dtype: float64"
      ]
     },
     "execution_count": 8,
     "metadata": {},
     "output_type": "execute_result"
    }
   ],
   "source": [
    "#mySeries2 = pd.Series([0.25, 0.5, 0.75, 1.0, 1.25, 1.5], index=['a', 'b', 'c', 'd', 'e', 'f'])\n",
    "#mySeries2 \n",
    "\n",
    "mySeries2 = pd.Series([0.25, 0.5, 0.75, 1.0, 1.25, 1.5], index= list('abcdef'))\n",
    "mySeries2 \n",
    "\n"
   ]
  },
  {
   "cell_type": "code",
   "execution_count": 9,
   "metadata": {
    "colab": {
     "base_uri": "https://localhost:8080/"
    },
    "id": "LddejMYL-Vzc",
    "outputId": "8aabb814-99d3-412f-959e-6b96c0e18b10"
   },
   "outputs": [
    {
     "data": {
      "text/plain": [
       "Index(['a', 'b', 'c', 'd', 'e', 'f'], dtype='object')"
      ]
     },
     "execution_count": 9,
     "metadata": {},
     "output_type": "execute_result"
    }
   ],
   "source": [
    "mySeries2.index"
   ]
  },
  {
   "cell_type": "markdown",
   "metadata": {},
   "source": [
    "##### Notice that with a not integer index, slicing has different rules "
   ]
  },
  {
   "cell_type": "code",
   "execution_count": 10,
   "metadata": {
    "colab": {
     "base_uri": "https://localhost:8080/"
    },
    "id": "s7MC2GqC-WVz",
    "outputId": "2526d984-3d44-48b2-844f-b1abe2976371"
   },
   "outputs": [
    {
     "data": {
      "text/plain": [
       "a    0.25\n",
       "b    0.50\n",
       "c    0.75\n",
       "dtype: float64"
      ]
     },
     "execution_count": 10,
     "metadata": {},
     "output_type": "execute_result"
    }
   ],
   "source": [
    "mySeries2['a':'c']     "
   ]
  },
  {
   "cell_type": "markdown",
   "metadata": {
    "id": "O-eSAXw7aB4x"
   },
   "source": [
    "##### One can retrieve 1, or more than 1, elements by their indexes:"
   ]
  },
  {
   "cell_type": "code",
   "execution_count": 11,
   "metadata": {
    "colab": {
     "base_uri": "https://localhost:8080/"
    },
    "id": "qUPW8-WlZ8Wj",
    "outputId": "88d41d12-5745-4440-a071-899126c30e15"
   },
   "outputs": [
    {
     "name": "stdout",
     "output_type": "stream",
     "text": [
      "a    0.25\n",
      "dtype: float64 \n",
      "\n",
      "a    0.25\n",
      "c    0.75\n",
      "e    1.25\n",
      "dtype: float64\n"
     ]
    }
   ],
   "source": [
    "print (mySeries2[['a']], '\\n')\n",
    "\n",
    "print (mySeries2[['a','c','e']])"
   ]
  },
  {
   "cell_type": "markdown",
   "metadata": {},
   "source": [
    "##### ...or make group assignment:"
   ]
  },
  {
   "cell_type": "code",
   "execution_count": 12,
   "metadata": {
    "colab": {
     "base_uri": "https://localhost:8080/"
    },
    "id": "5c_QGzMua6-M",
    "outputId": "0484d582-868f-40a7-839b-9f7337e0a517"
   },
   "outputs": [
    {
     "data": {
      "text/plain": [
       "a    0.0\n",
       "b    0.5\n",
       "c    0.0\n",
       "d    1.0\n",
       "e    0.0\n",
       "f    1.5\n",
       "dtype: float64"
      ]
     },
     "execution_count": 12,
     "metadata": {},
     "output_type": "execute_result"
    }
   ],
   "source": [
    "mySeries2[['a','c','e']]=0\n",
    "mySeries2"
   ]
  },
  {
   "cell_type": "markdown",
   "metadata": {
    "id": "392skG4tbsDc"
   },
   "source": [
    "##### Filtering and math operations can be done as well:"
   ]
  },
  {
   "cell_type": "code",
   "execution_count": 13,
   "metadata": {
    "colab": {
     "base_uri": "https://localhost:8080/"
    },
    "id": "BGDna7kNb6ox",
    "outputId": "262a372b-f83a-40d9-ec72-5a5d8afef0fa"
   },
   "outputs": [
    {
     "data": {
      "text/plain": [
       "d    1.0\n",
       "f    1.5\n",
       "dtype: float64"
      ]
     },
     "execution_count": 13,
     "metadata": {},
     "output_type": "execute_result"
    }
   ],
   "source": [
    "mySeries2[mySeries2 > 0.7]"
   ]
  },
  {
   "cell_type": "code",
   "execution_count": 14,
   "metadata": {
    "colab": {
     "base_uri": "https://localhost:8080/"
    },
    "id": "1SLfUM29cdUL",
    "outputId": "ec3a6f03-a09b-4161-fef1-d47abcda1240"
   },
   "outputs": [
    {
     "data": {
      "text/plain": [
       "d    5.0\n",
       "f    5.5\n",
       "dtype: float64"
      ]
     },
     "execution_count": 14,
     "metadata": {},
     "output_type": "execute_result"
    }
   ],
   "source": [
    "mySeries2[mySeries2 > 0.7] + 4\n"
   ]
  },
  {
   "cell_type": "markdown",
   "metadata": {},
   "source": [
    "#####  Notice that the assignment has changed the Series, while the math operation not:"
   ]
  },
  {
   "cell_type": "code",
   "execution_count": 15,
   "metadata": {},
   "outputs": [
    {
     "data": {
      "text/plain": [
       "a    0.0\n",
       "b    0.5\n",
       "c    0.0\n",
       "d    1.0\n",
       "e    0.0\n",
       "f    1.5\n",
       "dtype: float64"
      ]
     },
     "execution_count": 15,
     "metadata": {},
     "output_type": "execute_result"
    }
   ],
   "source": [
    "mySeries2"
   ]
  },
  {
   "cell_type": "markdown",
   "metadata": {
    "id": "Mky1Hv2GevTx"
   },
   "source": [
    "##### You can also build pandas Series out of Python dictionaries:"
   ]
  },
  {
   "cell_type": "code",
   "execution_count": 16,
   "metadata": {
    "colab": {
     "base_uri": "https://localhost:8080/"
    },
    "id": "V7sVIX7ye37P",
    "outputId": "e8f92443-b591-47db-e881-614a81022fa3"
   },
   "outputs": [
    {
     "data": {
      "text/plain": [
       "a    5\n",
       "b    6\n",
       "c    7\n",
       "d    8\n",
       "dtype: int64"
      ]
     },
     "execution_count": 16,
     "metadata": {},
     "output_type": "execute_result"
    }
   ],
   "source": [
    "myDict = {'a': 5, 'b': 6, 'c': 7, 'd': 8}\n",
    "\n",
    "mySeries3 = pd.Series(myDict)\n",
    "mySeries3"
   ]
  },
  {
   "cell_type": "markdown",
   "metadata": {
    "id": "qjBrQfMsnxbF"
   },
   "source": [
    "##### Series object and its index have name attributes, so you can label them:"
   ]
  },
  {
   "cell_type": "code",
   "execution_count": 17,
   "metadata": {
    "colab": {
     "base_uri": "https://localhost:8080/"
    },
    "id": "eI_CPNj8n-Bs",
    "outputId": "2754e486-f21d-4096-a8dc-19c5bd6e690a"
   },
   "outputs": [
    {
     "name": "stdout",
     "output_type": "stream",
     "text": [
      "letters\n",
      "a    0.0\n",
      "b    0.5\n",
      "c    0.0\n",
      "d    1.0\n",
      "e    0.0\n",
      "f    1.5\n",
      "Name: numbers, dtype: float64\n",
      "Name =  numbers\n",
      "Index name = letters\n"
     ]
    }
   ],
   "source": [
    "mySeries2.name = 'numbers'\n",
    "mySeries2.index.name = 'letters'\n",
    "\n",
    "print (mySeries2)\n",
    "\n",
    "print (\"Name = \", mySeries2.name)\n",
    "print (\"Index name =\", mySeries2.index.name)"
   ]
  },
  {
   "cell_type": "markdown",
   "metadata": {},
   "source": [
    "##### ...or unlabel them:"
   ]
  },
  {
   "cell_type": "code",
   "execution_count": 18,
   "metadata": {},
   "outputs": [
    {
     "name": "stdout",
     "output_type": "stream",
     "text": [
      "a    0.0\n",
      "b    0.5\n",
      "c    0.0\n",
      "d    1.0\n",
      "e    0.0\n",
      "f    1.5\n",
      "dtype: float64\n",
      "None\n",
      "None\n"
     ]
    }
   ],
   "source": [
    "mySeries2.name = None\n",
    "mySeries2.index.name = None\n",
    "\n",
    "print (mySeries2)\n",
    "\n",
    "print (mySeries2.name)\n",
    "print (mySeries2.index.name)"
   ]
  },
  {
   "cell_type": "markdown",
   "metadata": {},
   "source": [
    "##### One can also apply python string methods to modify Series elements:"
   ]
  },
  {
   "cell_type": "code",
   "execution_count": 19,
   "metadata": {
    "colab": {
     "base_uri": "https://localhost:8080/"
    },
    "id": "kk8_vXDBomFr",
    "outputId": "9f7168ee-712c-4fa5-9fb7-a74e4c87e1b1"
   },
   "outputs": [
    {
     "name": "stdout",
     "output_type": "stream",
     "text": [
      "A    0.0\n",
      "B    0.5\n",
      "C    0.0\n",
      "D    1.0\n",
      "E    0.0\n",
      "F    1.5\n",
      "dtype: float64\n"
     ]
    }
   ],
   "source": [
    "mySeries2.index = mySeries2.index.str.upper()\n",
    "print (mySeries2)"
   ]
  },
  {
   "cell_type": "code",
   "execution_count": 20,
   "metadata": {},
   "outputs": [
    {
     "name": "stdout",
     "output_type": "stream",
     "text": [
      "a    0.0\n",
      "b    0.5\n",
      "c    0.0\n",
      "d    1.0\n",
      "e    0.0\n",
      "f    1.5\n",
      "dtype: float64\n"
     ]
    }
   ],
   "source": [
    "mySeries2.index = mySeries2.index.str.lower()\n",
    "print (mySeries2)"
   ]
  },
  {
   "cell_type": "markdown",
   "metadata": {},
   "source": [
    "#### 1.2 Pandas DataFrame"
   ]
  },
  {
   "cell_type": "markdown",
   "metadata": {
    "id": "Icl4QmxnpL-7"
   },
   "source": [
    "##### A DataFrame is in essence a table. It has rows and columns. \n",
    "\n",
    "##### Each column in a DataFrame is a Series object, rows consist of elements inside Series.\n",
    "\n",
    "##### A DataFrame can be built using e.g. a Python dictionary"
   ]
  },
  {
   "cell_type": "code",
   "execution_count": 21,
   "metadata": {},
   "outputs": [
    {
     "name": "stdout",
     "output_type": "stream",
     "text": [
      "Dictionary items = dict_items([('Spanish', 'Buenos días'), ('German', 'Guten Morgen'), ('Swedish', 'God Morgon')]) \n",
      "\n",
      "Value of the Swedish key = God Morgon \n",
      "\n",
      "All keys = dict_keys(['Spanish', 'German', 'Swedish']) \n",
      "\n"
     ]
    }
   ],
   "source": [
    "# brief recall of python dictionaries\n",
    "\n",
    "# create a dictionary:  d = {key1:value1, key2:value2, etc}\n",
    "dict_test = dict({'Spanish':'Buenos días', 'German': 'Guten Morgen', 'Swedish':'God Morgon'})\n",
    "\n",
    "# print the items of dictionary\n",
    "print ('Dictionary items =', dict_test.items(), '\\n')\n",
    "\n",
    "# get a value by its key\n",
    "print ('Value of the Swedish key =', dict_test['Swedish'], '\\n' ) \n",
    "\n",
    "# get all keys\n",
    "print ('All keys =', dict_test.keys(), '\\n')\n"
   ]
  },
  {
   "cell_type": "markdown",
   "metadata": {},
   "source": [
    "##### A DataFrame can be built using e.g. a Python dictionary:"
   ]
  },
  {
   "cell_type": "code",
   "execution_count": 22,
   "metadata": {
    "colab": {
     "base_uri": "https://localhost:8080/",
     "height": 206
    },
    "id": "l9r5-ehEro55",
    "outputId": "1aab4e2b-9618-44ee-8c12-14c8a8dfee07"
   },
   "outputs": [
    {
     "data": {
      "text/html": [
       "<div>\n",
       "<style scoped>\n",
       "    .dataframe tbody tr th:only-of-type {\n",
       "        vertical-align: middle;\n",
       "    }\n",
       "\n",
       "    .dataframe tbody tr th {\n",
       "        vertical-align: top;\n",
       "    }\n",
       "\n",
       "    .dataframe thead th {\n",
       "        text-align: right;\n",
       "    }\n",
       "</style>\n",
       "<table border=\"1\" class=\"dataframe\">\n",
       "  <thead>\n",
       "    <tr style=\"text-align: right;\">\n",
       "      <th></th>\n",
       "      <th>country</th>\n",
       "      <th>population</th>\n",
       "      <th>square_km</th>\n",
       "    </tr>\n",
       "  </thead>\n",
       "  <tbody>\n",
       "    <tr>\n",
       "      <th>0</th>\n",
       "      <td>Germany</td>\n",
       "      <td>83.78</td>\n",
       "      <td>348560</td>\n",
       "    </tr>\n",
       "    <tr>\n",
       "      <th>1</th>\n",
       "      <td>United Kingdom</td>\n",
       "      <td>67.89</td>\n",
       "      <td>241930</td>\n",
       "    </tr>\n",
       "    <tr>\n",
       "      <th>2</th>\n",
       "      <td>France</td>\n",
       "      <td>65.27</td>\n",
       "      <td>547557</td>\n",
       "    </tr>\n",
       "    <tr>\n",
       "      <th>3</th>\n",
       "      <td>Italy</td>\n",
       "      <td>60.46</td>\n",
       "      <td>294140</td>\n",
       "    </tr>\n",
       "    <tr>\n",
       "      <th>4</th>\n",
       "      <td>Spain</td>\n",
       "      <td>46.75</td>\n",
       "      <td>498800</td>\n",
       "    </tr>\n",
       "  </tbody>\n",
       "</table>\n",
       "</div>"
      ],
      "text/plain": [
       "          country  population  square_km\n",
       "0         Germany       83.78     348560\n",
       "1  United Kingdom       67.89     241930\n",
       "2          France       65.27     547557\n",
       "3           Italy       60.46     294140\n",
       "4           Spain       46.75     498800"
      ]
     },
     "execution_count": 22,
     "metadata": {},
     "output_type": "execute_result"
    }
   ],
   "source": [
    "my_dict = {\n",
    "...     'country': ['Germany', 'United Kingdom', 'France', 'Italy', 'Spain'],\n",
    "...     'population': [83.78, 67.89, 65.27, 60.46, 46.75],\n",
    "...     'square_km': [348560, 241930, 547557, 294140, 498800]\n",
    "... }\n",
    "\n",
    "df = pd.DataFrame(my_dict)\n",
    "df"
   ]
  },
  {
   "cell_type": "markdown",
   "metadata": {},
   "source": [
    "##### Notice that the 'values' of 'my_dict' are lists. The number of rows of the resulting Dataframe will be the same as the number of elements in each list.\n",
    "##### The 'keys' of the dictionary become the names of the columns."
   ]
  },
  {
   "cell_type": "markdown",
   "metadata": {
    "id": "MHmeSJZqi-gt"
   },
   "source": [
    "##### Or, more direcly, you can obtain the same by inserting the dictionary in the Dataframe function explicity:"
   ]
  },
  {
   "cell_type": "code",
   "execution_count": 23,
   "metadata": {
    "colab": {
     "base_uri": "https://localhost:8080/",
     "height": 206
    },
    "id": "7xLrWgI9iYQx",
    "outputId": "df459cde-b13d-4798-89d1-ca8b2db815d9"
   },
   "outputs": [
    {
     "data": {
      "text/html": [
       "<div>\n",
       "<style scoped>\n",
       "    .dataframe tbody tr th:only-of-type {\n",
       "        vertical-align: middle;\n",
       "    }\n",
       "\n",
       "    .dataframe tbody tr th {\n",
       "        vertical-align: top;\n",
       "    }\n",
       "\n",
       "    .dataframe thead th {\n",
       "        text-align: right;\n",
       "    }\n",
       "</style>\n",
       "<table border=\"1\" class=\"dataframe\">\n",
       "  <thead>\n",
       "    <tr style=\"text-align: right;\">\n",
       "      <th></th>\n",
       "      <th>country</th>\n",
       "      <th>population</th>\n",
       "      <th>square_km</th>\n",
       "    </tr>\n",
       "  </thead>\n",
       "  <tbody>\n",
       "    <tr>\n",
       "      <th>0</th>\n",
       "      <td>Germany</td>\n",
       "      <td>83.78</td>\n",
       "      <td>348560</td>\n",
       "    </tr>\n",
       "    <tr>\n",
       "      <th>1</th>\n",
       "      <td>United Kingdom</td>\n",
       "      <td>67.89</td>\n",
       "      <td>241930</td>\n",
       "    </tr>\n",
       "    <tr>\n",
       "      <th>2</th>\n",
       "      <td>France</td>\n",
       "      <td>65.27</td>\n",
       "      <td>547557</td>\n",
       "    </tr>\n",
       "    <tr>\n",
       "      <th>3</th>\n",
       "      <td>Italy</td>\n",
       "      <td>60.46</td>\n",
       "      <td>294140</td>\n",
       "    </tr>\n",
       "    <tr>\n",
       "      <th>4</th>\n",
       "      <td>Spain</td>\n",
       "      <td>46.75</td>\n",
       "      <td>498800</td>\n",
       "    </tr>\n",
       "  </tbody>\n",
       "</table>\n",
       "</div>"
      ],
      "text/plain": [
       "          country  population  square_km\n",
       "0         Germany       83.78     348560\n",
       "1  United Kingdom       67.89     241930\n",
       "2          France       65.27     547557\n",
       "3           Italy       60.46     294140\n",
       "4           Spain       46.75     498800"
      ]
     },
     "execution_count": 23,
     "metadata": {},
     "output_type": "execute_result"
    }
   ],
   "source": [
    "df = pd.DataFrame({\n",
    "...     'country': ['Germany', 'United Kingdom', 'France', 'Italy', 'Spain'],\n",
    "...     'population': [83.78, 67.89, 65.27, 60.46, 46.75],\n",
    "...     'square_km': [348560, 241930, 547557, 294140, 498800]\n",
    "... })\n",
    "df"
   ]
  },
  {
   "cell_type": "markdown",
   "metadata": {
    "id": "JnAOY7pAY_V6"
   },
   "source": [
    "##### You can also do the same, by starting from 3 Series (you insert as 'values' of the dictionary Series in place of lists:"
   ]
  },
  {
   "cell_type": "code",
   "execution_count": 24,
   "metadata": {
    "colab": {
     "base_uri": "https://localhost:8080/",
     "height": 206
    },
    "id": "5FNpG8bjTgjv",
    "outputId": "9920926b-26ac-4da3-ddef-9ff8a0942153"
   },
   "outputs": [
    {
     "data": {
      "text/html": [
       "<div>\n",
       "<style scoped>\n",
       "    .dataframe tbody tr th:only-of-type {\n",
       "        vertical-align: middle;\n",
       "    }\n",
       "\n",
       "    .dataframe tbody tr th {\n",
       "        vertical-align: top;\n",
       "    }\n",
       "\n",
       "    .dataframe thead th {\n",
       "        text-align: right;\n",
       "    }\n",
       "</style>\n",
       "<table border=\"1\" class=\"dataframe\">\n",
       "  <thead>\n",
       "    <tr style=\"text-align: right;\">\n",
       "      <th></th>\n",
       "      <th>country</th>\n",
       "      <th>population</th>\n",
       "      <th>square_km</th>\n",
       "    </tr>\n",
       "  </thead>\n",
       "  <tbody>\n",
       "    <tr>\n",
       "      <th>0</th>\n",
       "      <td>Germany</td>\n",
       "      <td>83.78</td>\n",
       "      <td>348560</td>\n",
       "    </tr>\n",
       "    <tr>\n",
       "      <th>1</th>\n",
       "      <td>United Kingdom</td>\n",
       "      <td>67.89</td>\n",
       "      <td>241930</td>\n",
       "    </tr>\n",
       "    <tr>\n",
       "      <th>2</th>\n",
       "      <td>France</td>\n",
       "      <td>65.27</td>\n",
       "      <td>547557</td>\n",
       "    </tr>\n",
       "    <tr>\n",
       "      <th>3</th>\n",
       "      <td>Italy</td>\n",
       "      <td>60.46</td>\n",
       "      <td>294140</td>\n",
       "    </tr>\n",
       "    <tr>\n",
       "      <th>4</th>\n",
       "      <td>Spain</td>\n",
       "      <td>46.75</td>\n",
       "      <td>498800</td>\n",
       "    </tr>\n",
       "  </tbody>\n",
       "</table>\n",
       "</div>"
      ],
      "text/plain": [
       "          country  population  square_km\n",
       "0         Germany       83.78     348560\n",
       "1  United Kingdom       67.89     241930\n",
       "2          France       65.27     547557\n",
       "3           Italy       60.46     294140\n",
       "4           Spain       46.75     498800"
      ]
     },
     "execution_count": 24,
     "metadata": {},
     "output_type": "execute_result"
    }
   ],
   "source": [
    "myseries_country = pd.Series(['Germany', 'United Kingdom', 'France', 'Italy', 'Spain'])\n",
    "myseries_pop = pd.Series([83.78, 67.89, 65.27, 60.46, 46.75])\n",
    "myseries_area = pd.Series([348560, 241930, 547557, 294140, 498800])\n",
    "\n",
    "\n",
    "df2  = pd.DataFrame({'country': myseries_country, 'population': myseries_pop, 'square_km': myseries_area })\n",
    "df2"
   ]
  },
  {
   "cell_type": "markdown",
   "metadata": {},
   "source": [
    "##### ...or, e.g., using the function 'concat': "
   ]
  },
  {
   "cell_type": "code",
   "execution_count": 25,
   "metadata": {},
   "outputs": [
    {
     "data": {
      "text/html": [
       "<div>\n",
       "<style scoped>\n",
       "    .dataframe tbody tr th:only-of-type {\n",
       "        vertical-align: middle;\n",
       "    }\n",
       "\n",
       "    .dataframe tbody tr th {\n",
       "        vertical-align: top;\n",
       "    }\n",
       "\n",
       "    .dataframe thead th {\n",
       "        text-align: right;\n",
       "    }\n",
       "</style>\n",
       "<table border=\"1\" class=\"dataframe\">\n",
       "  <thead>\n",
       "    <tr style=\"text-align: right;\">\n",
       "      <th></th>\n",
       "      <th>0</th>\n",
       "      <th>1</th>\n",
       "      <th>2</th>\n",
       "    </tr>\n",
       "  </thead>\n",
       "  <tbody>\n",
       "    <tr>\n",
       "      <th>0</th>\n",
       "      <td>Germany</td>\n",
       "      <td>83.78</td>\n",
       "      <td>348560</td>\n",
       "    </tr>\n",
       "    <tr>\n",
       "      <th>1</th>\n",
       "      <td>United Kingdom</td>\n",
       "      <td>67.89</td>\n",
       "      <td>241930</td>\n",
       "    </tr>\n",
       "    <tr>\n",
       "      <th>2</th>\n",
       "      <td>France</td>\n",
       "      <td>65.27</td>\n",
       "      <td>547557</td>\n",
       "    </tr>\n",
       "    <tr>\n",
       "      <th>3</th>\n",
       "      <td>Italy</td>\n",
       "      <td>60.46</td>\n",
       "      <td>294140</td>\n",
       "    </tr>\n",
       "    <tr>\n",
       "      <th>4</th>\n",
       "      <td>Spain</td>\n",
       "      <td>46.75</td>\n",
       "      <td>498800</td>\n",
       "    </tr>\n",
       "  </tbody>\n",
       "</table>\n",
       "</div>"
      ],
      "text/plain": [
       "                0      1       2\n",
       "0         Germany  83.78  348560\n",
       "1  United Kingdom  67.89  241930\n",
       "2          France  65.27  547557\n",
       "3           Italy  60.46  294140\n",
       "4           Spain  46.75  498800"
      ]
     },
     "execution_count": 25,
     "metadata": {},
     "output_type": "execute_result"
    }
   ],
   "source": [
    "df3 = pd.concat([myseries_country, myseries_pop, myseries_area], axis=1)\n",
    "df3"
   ]
  },
  {
   "cell_type": "markdown",
   "metadata": {
    "id": "D75nMDtTb9kc"
   },
   "source": [
    "##### while creating the Series, you can assign names to them, they will become column names:"
   ]
  },
  {
   "cell_type": "code",
   "execution_count": 26,
   "metadata": {
    "colab": {
     "base_uri": "https://localhost:8080/",
     "height": 206
    },
    "id": "QY4Nc62hcOFQ",
    "outputId": "23c3a4e0-9975-405f-a53e-3fa631f16664"
   },
   "outputs": [
    {
     "data": {
      "text/html": [
       "<div>\n",
       "<style scoped>\n",
       "    .dataframe tbody tr th:only-of-type {\n",
       "        vertical-align: middle;\n",
       "    }\n",
       "\n",
       "    .dataframe tbody tr th {\n",
       "        vertical-align: top;\n",
       "    }\n",
       "\n",
       "    .dataframe thead th {\n",
       "        text-align: right;\n",
       "    }\n",
       "</style>\n",
       "<table border=\"1\" class=\"dataframe\">\n",
       "  <thead>\n",
       "    <tr style=\"text-align: right;\">\n",
       "      <th></th>\n",
       "      <th>country</th>\n",
       "      <th>population</th>\n",
       "      <th>square_km</th>\n",
       "    </tr>\n",
       "  </thead>\n",
       "  <tbody>\n",
       "    <tr>\n",
       "      <th>0</th>\n",
       "      <td>Germany</td>\n",
       "      <td>83.78</td>\n",
       "      <td>348560</td>\n",
       "    </tr>\n",
       "    <tr>\n",
       "      <th>1</th>\n",
       "      <td>United Kingdom</td>\n",
       "      <td>67.89</td>\n",
       "      <td>241930</td>\n",
       "    </tr>\n",
       "    <tr>\n",
       "      <th>2</th>\n",
       "      <td>France</td>\n",
       "      <td>65.27</td>\n",
       "      <td>547557</td>\n",
       "    </tr>\n",
       "    <tr>\n",
       "      <th>3</th>\n",
       "      <td>Italy</td>\n",
       "      <td>60.46</td>\n",
       "      <td>294140</td>\n",
       "    </tr>\n",
       "    <tr>\n",
       "      <th>4</th>\n",
       "      <td>Spain</td>\n",
       "      <td>46.75</td>\n",
       "      <td>498800</td>\n",
       "    </tr>\n",
       "  </tbody>\n",
       "</table>\n",
       "</div>"
      ],
      "text/plain": [
       "          country  population  square_km\n",
       "0         Germany       83.78     348560\n",
       "1  United Kingdom       67.89     241930\n",
       "2          France       65.27     547557\n",
       "3           Italy       60.46     294140\n",
       "4           Spain       46.75     498800"
      ]
     },
     "execution_count": 26,
     "metadata": {},
     "output_type": "execute_result"
    }
   ],
   "source": [
    "myseries_country = pd.Series(['Germany', 'United Kingdom', 'France', 'Italy', 'Spain'], name = 'country')\n",
    "myseries_pop = pd.Series([83.78, 67.89, 65.27, 60.46, 46.75],                           name = 'population')\n",
    "myseries_area = pd.Series([348560, 241930, 547557, 294140, 498800],                     name = 'square_km')\n",
    "\n",
    "\n",
    "df3 = pd.concat([myseries_country, myseries_pop, myseries_area], axis =1)\n",
    "df3"
   ]
  },
  {
   "cell_type": "markdown",
   "metadata": {},
   "source": [
    "##### Alternatively, assign keys while concatenating:"
   ]
  },
  {
   "cell_type": "code",
   "execution_count": 27,
   "metadata": {},
   "outputs": [
    {
     "data": {
      "text/html": [
       "<div>\n",
       "<style scoped>\n",
       "    .dataframe tbody tr th:only-of-type {\n",
       "        vertical-align: middle;\n",
       "    }\n",
       "\n",
       "    .dataframe tbody tr th {\n",
       "        vertical-align: top;\n",
       "    }\n",
       "\n",
       "    .dataframe thead th {\n",
       "        text-align: right;\n",
       "    }\n",
       "</style>\n",
       "<table border=\"1\" class=\"dataframe\">\n",
       "  <thead>\n",
       "    <tr style=\"text-align: right;\">\n",
       "      <th></th>\n",
       "      <th>Country</th>\n",
       "      <th>Population</th>\n",
       "      <th>Square_km</th>\n",
       "    </tr>\n",
       "  </thead>\n",
       "  <tbody>\n",
       "    <tr>\n",
       "      <th>0</th>\n",
       "      <td>Germany</td>\n",
       "      <td>83.78</td>\n",
       "      <td>348560</td>\n",
       "    </tr>\n",
       "    <tr>\n",
       "      <th>1</th>\n",
       "      <td>United Kingdom</td>\n",
       "      <td>67.89</td>\n",
       "      <td>241930</td>\n",
       "    </tr>\n",
       "    <tr>\n",
       "      <th>2</th>\n",
       "      <td>France</td>\n",
       "      <td>65.27</td>\n",
       "      <td>547557</td>\n",
       "    </tr>\n",
       "    <tr>\n",
       "      <th>3</th>\n",
       "      <td>Italy</td>\n",
       "      <td>60.46</td>\n",
       "      <td>294140</td>\n",
       "    </tr>\n",
       "    <tr>\n",
       "      <th>4</th>\n",
       "      <td>Spain</td>\n",
       "      <td>46.75</td>\n",
       "      <td>498800</td>\n",
       "    </tr>\n",
       "  </tbody>\n",
       "</table>\n",
       "</div>"
      ],
      "text/plain": [
       "          Country  Population  Square_km\n",
       "0         Germany       83.78     348560\n",
       "1  United Kingdom       67.89     241930\n",
       "2          France       65.27     547557\n",
       "3           Italy       60.46     294140\n",
       "4           Spain       46.75     498800"
      ]
     },
     "execution_count": 27,
     "metadata": {},
     "output_type": "execute_result"
    }
   ],
   "source": [
    "myseries_country = pd.Series(['Germany', 'United Kingdom', 'France', 'Italy', 'Spain'])\n",
    "myseries_pop = pd.Series([83.78, 67.89, 65.27, 60.46, 46.75])\n",
    "myseries_area = pd.Series([348560, 241930, 547557, 294140, 498800])\n",
    "\n",
    "df4 = pd.concat([myseries_country, myseries_pop, myseries_area], axis=1, keys=['Country', 'Population', 'Square_km'])\n",
    "df4\n"
   ]
  },
  {
   "cell_type": "markdown",
   "metadata": {
    "id": "qE4cdlnhNlKL"
   },
   "source": [
    "##### You can think of a DataFrame which 'degenerates' to a single column:"
   ]
  },
  {
   "cell_type": "code",
   "execution_count": 28,
   "metadata": {
    "colab": {
     "base_uri": "https://localhost:8080/",
     "height": 206
    },
    "id": "qBLUo8BZL_T5",
    "outputId": "b8f8f487-dd4a-44a0-c7ef-6a54d0fcdbf2"
   },
   "outputs": [
    {
     "data": {
      "text/html": [
       "<div>\n",
       "<style scoped>\n",
       "    .dataframe tbody tr th:only-of-type {\n",
       "        vertical-align: middle;\n",
       "    }\n",
       "\n",
       "    .dataframe tbody tr th {\n",
       "        vertical-align: top;\n",
       "    }\n",
       "\n",
       "    .dataframe thead th {\n",
       "        text-align: right;\n",
       "    }\n",
       "</style>\n",
       "<table border=\"1\" class=\"dataframe\">\n",
       "  <thead>\n",
       "    <tr style=\"text-align: right;\">\n",
       "      <th></th>\n",
       "      <th>country</th>\n",
       "    </tr>\n",
       "  </thead>\n",
       "  <tbody>\n",
       "    <tr>\n",
       "      <th>0</th>\n",
       "      <td>Germany</td>\n",
       "    </tr>\n",
       "    <tr>\n",
       "      <th>1</th>\n",
       "      <td>United Kingdom</td>\n",
       "    </tr>\n",
       "    <tr>\n",
       "      <th>2</th>\n",
       "      <td>France</td>\n",
       "    </tr>\n",
       "    <tr>\n",
       "      <th>3</th>\n",
       "      <td>Italy</td>\n",
       "    </tr>\n",
       "    <tr>\n",
       "      <th>4</th>\n",
       "      <td>Spain</td>\n",
       "    </tr>\n",
       "  </tbody>\n",
       "</table>\n",
       "</div>"
      ],
      "text/plain": [
       "          country\n",
       "0         Germany\n",
       "1  United Kingdom\n",
       "2          France\n",
       "3           Italy\n",
       "4           Spain"
      ]
     },
     "execution_count": 28,
     "metadata": {},
     "output_type": "execute_result"
    }
   ],
   "source": [
    "myseries_country = pd.Series(['Germany', 'United Kingdom', 'France', 'Italy', 'Spain'])\n",
    "\n",
    "df_deg = pd.DataFrame({'country':myseries_country})\n",
    "df_deg"
   ]
  },
  {
   "cell_type": "markdown",
   "metadata": {
    "id": "XhNkgPL2O9SV"
   },
   "source": [
    "##### ... and convert it back to a Series:"
   ]
  },
  {
   "cell_type": "code",
   "execution_count": 29,
   "metadata": {
    "colab": {
     "base_uri": "https://localhost:8080/"
    },
    "id": "eNxZCOyvOkQl",
    "outputId": "01b9c545-b8c0-4bf7-91e6-9e42b949a029"
   },
   "outputs": [
    {
     "name": "stdout",
     "output_type": "stream",
     "text": [
      "0           Germany\n",
      "1    United Kingdom\n",
      "2            France\n",
      "3             Italy\n",
      "4             Spain\n",
      "Name: country, dtype: object\n"
     ]
    },
    {
     "data": {
      "text/plain": [
       "pandas.core.series.Series"
      ]
     },
     "execution_count": 29,
     "metadata": {},
     "output_type": "execute_result"
    }
   ],
   "source": [
    "series_from_df_deg = df_deg['country']\n",
    "print (series_from_df_deg)\n",
    "type (series_from_df_deg)"
   ]
  },
  {
   "cell_type": "markdown",
   "metadata": {},
   "source": [
    "##### By the way, a Series can be converted to a python list:"
   ]
  },
  {
   "cell_type": "code",
   "execution_count": 30,
   "metadata": {},
   "outputs": [
    {
     "name": "stdout",
     "output_type": "stream",
     "text": [
      "['Germany', 'United Kingdom', 'France', 'Italy', 'Spain']\n"
     ]
    },
    {
     "data": {
      "text/plain": [
       "list"
      ]
     },
     "execution_count": 30,
     "metadata": {},
     "output_type": "execute_result"
    }
   ],
   "source": [
    "list_from_Series = df_deg['country'].to_list()\n",
    "print (list_from_Series)\n",
    "type (list_from_Series)"
   ]
  },
  {
   "cell_type": "markdown",
   "metadata": {},
   "source": [
    "##### ... and a Dataframe can be converted to a python dictionary"
   ]
  },
  {
   "cell_type": "code",
   "execution_count": 31,
   "metadata": {},
   "outputs": [
    {
     "data": {
      "text/html": [
       "<div>\n",
       "<style scoped>\n",
       "    .dataframe tbody tr th:only-of-type {\n",
       "        vertical-align: middle;\n",
       "    }\n",
       "\n",
       "    .dataframe tbody tr th {\n",
       "        vertical-align: top;\n",
       "    }\n",
       "\n",
       "    .dataframe thead th {\n",
       "        text-align: right;\n",
       "    }\n",
       "</style>\n",
       "<table border=\"1\" class=\"dataframe\">\n",
       "  <thead>\n",
       "    <tr style=\"text-align: right;\">\n",
       "      <th></th>\n",
       "      <th>country</th>\n",
       "      <th>population</th>\n",
       "      <th>square_km</th>\n",
       "    </tr>\n",
       "  </thead>\n",
       "  <tbody>\n",
       "    <tr>\n",
       "      <th>0</th>\n",
       "      <td>Germany</td>\n",
       "      <td>83.78</td>\n",
       "      <td>348560</td>\n",
       "    </tr>\n",
       "    <tr>\n",
       "      <th>1</th>\n",
       "      <td>United Kingdom</td>\n",
       "      <td>67.89</td>\n",
       "      <td>241930</td>\n",
       "    </tr>\n",
       "    <tr>\n",
       "      <th>2</th>\n",
       "      <td>France</td>\n",
       "      <td>65.27</td>\n",
       "      <td>547557</td>\n",
       "    </tr>\n",
       "    <tr>\n",
       "      <th>3</th>\n",
       "      <td>Italy</td>\n",
       "      <td>60.46</td>\n",
       "      <td>294140</td>\n",
       "    </tr>\n",
       "    <tr>\n",
       "      <th>4</th>\n",
       "      <td>Spain</td>\n",
       "      <td>46.75</td>\n",
       "      <td>498800</td>\n",
       "    </tr>\n",
       "  </tbody>\n",
       "</table>\n",
       "</div>"
      ],
      "text/plain": [
       "          country  population  square_km\n",
       "0         Germany       83.78     348560\n",
       "1  United Kingdom       67.89     241930\n",
       "2          France       65.27     547557\n",
       "3           Italy       60.46     294140\n",
       "4           Spain       46.75     498800"
      ]
     },
     "execution_count": 31,
     "metadata": {},
     "output_type": "execute_result"
    }
   ],
   "source": [
    "df"
   ]
  },
  {
   "cell_type": "code",
   "execution_count": 32,
   "metadata": {},
   "outputs": [
    {
     "name": "stdout",
     "output_type": "stream",
     "text": [
      "{'country': {0: 'Germany', 1: 'United Kingdom', 2: 'France', 3: 'Italy', 4: 'Spain'}, 'population': {0: 83.78, 1: 67.89, 2: 65.27, 3: 60.46, 4: 46.75}, 'square_km': {0: 348560, 1: 241930, 2: 547557, 3: 294140, 4: 498800}}\n"
     ]
    },
    {
     "data": {
      "text/plain": [
       "dict"
      ]
     },
     "execution_count": 32,
     "metadata": {},
     "output_type": "execute_result"
    }
   ],
   "source": [
    "dict_from_dataframe = df.to_dict()\n",
    "print (dict_from_dataframe)\n",
    "type (dict_from_dataframe)\n"
   ]
  },
  {
   "cell_type": "markdown",
   "metadata": {},
   "source": [
    "##### You can output each column separately:"
   ]
  },
  {
   "cell_type": "code",
   "execution_count": 33,
   "metadata": {},
   "outputs": [
    {
     "name": "stdout",
     "output_type": "stream",
     "text": [
      "0           Germany\n",
      "1    United Kingdom\n",
      "2            France\n",
      "3             Italy\n",
      "4             Spain\n",
      "Name: country, dtype: object\n",
      "0           Germany\n",
      "1    United Kingdom\n",
      "2            France\n",
      "3             Italy\n",
      "4             Spain\n",
      "Name: country, dtype: object\n"
     ]
    }
   ],
   "source": [
    "print (df['country'])   # Python dictionary notation\n",
    "\n",
    "print (df.country)      # attribute notation"
   ]
  },
  {
   "cell_type": "markdown",
   "metadata": {},
   "source": [
    "##### The two synthaxes are almost always equivalent (unless the name of a column happens to coincide with the name of a Dataframe method, or, also, if the name of the column contains spaces):"
   ]
  },
  {
   "cell_type": "code",
   "execution_count": 34,
   "metadata": {},
   "outputs": [
    {
     "data": {
      "text/plain": [
       "0    True\n",
       "1    True\n",
       "2    True\n",
       "3    True\n",
       "4    True\n",
       "Name: country, dtype: bool"
      ]
     },
     "execution_count": 34,
     "metadata": {},
     "output_type": "execute_result"
    }
   ],
   "source": [
    "df['country'] == df.country"
   ]
  },
  {
   "cell_type": "markdown",
   "metadata": {},
   "source": [
    "##### Notice that the use of double square bracket generate a Dataframe, while single square bracket generate a Series:"
   ]
  },
  {
   "cell_type": "code",
   "execution_count": 35,
   "metadata": {},
   "outputs": [
    {
     "name": "stdout",
     "output_type": "stream",
     "text": [
      "type(df[['country']]) =   <class 'pandas.core.frame.DataFrame'>\n",
      "type(df['country']) =   <class 'pandas.core.series.Series'>\n",
      "type(df.country) =   <class 'pandas.core.series.Series'>\n"
     ]
    }
   ],
   "source": [
    "print (\"type(df[['country']]) =  \", type(df[['country']]))\n",
    "print (\"type(df['country']) =  \",  type(df['country']))\n",
    "print (\"type(df.country) =  \",  type(df.country))"
   ]
  },
  {
   "cell_type": "markdown",
   "metadata": {
    "id": "ndI_LD5OZyMZ"
   },
   "source": [
    " #####\n",
    " ### 2. Accessing elements (by index or conditions)"
   ]
  },
  {
   "cell_type": "markdown",
   "metadata": {
    "id": "B0GyUggGPmT9"
   },
   "source": [
    "##### The DataFrame object has 2 indexes: column index and row index:"
   ]
  },
  {
   "cell_type": "code",
   "execution_count": 36,
   "metadata": {
    "colab": {
     "base_uri": "https://localhost:8080/"
    },
    "id": "2uKMMME7P6tX",
    "outputId": "d6889805-00fb-42c9-f194-247a060ad6ca"
   },
   "outputs": [
    {
     "name": "stdout",
     "output_type": "stream",
     "text": [
      "RangeIndex(start=0, stop=5, step=1)\n"
     ]
    }
   ],
   "source": [
    "print (df.index)"
   ]
  },
  {
   "cell_type": "code",
   "execution_count": 37,
   "metadata": {
    "colab": {
     "base_uri": "https://localhost:8080/"
    },
    "id": "rlxhhaPCQQit",
    "outputId": "56d59cb6-1828-4c78-a249-a904fbc57cc2"
   },
   "outputs": [
    {
     "name": "stdout",
     "output_type": "stream",
     "text": [
      "Index(['country', 'population', 'square_km'], dtype='object')\n"
     ]
    }
   ],
   "source": [
    "print (df.columns)"
   ]
  },
  {
   "cell_type": "markdown",
   "metadata": {
    "id": "SFVM5qhsUf67"
   },
   "source": [
    "##### You can provide row index explicitly:"
   ]
  },
  {
   "cell_type": "code",
   "execution_count": 38,
   "metadata": {
    "colab": {
     "base_uri": "https://localhost:8080/",
     "height": 206
    },
    "id": "XrxnrAVvTijI",
    "outputId": "a7d62a46-562e-49fd-9c6d-f8ee2291286b"
   },
   "outputs": [
    {
     "data": {
      "text/html": [
       "<div>\n",
       "<style scoped>\n",
       "    .dataframe tbody tr th:only-of-type {\n",
       "        vertical-align: middle;\n",
       "    }\n",
       "\n",
       "    .dataframe tbody tr th {\n",
       "        vertical-align: top;\n",
       "    }\n",
       "\n",
       "    .dataframe thead th {\n",
       "        text-align: right;\n",
       "    }\n",
       "</style>\n",
       "<table border=\"1\" class=\"dataframe\">\n",
       "  <thead>\n",
       "    <tr style=\"text-align: right;\">\n",
       "      <th></th>\n",
       "      <th>country</th>\n",
       "      <th>population</th>\n",
       "      <th>square_km</th>\n",
       "    </tr>\n",
       "  </thead>\n",
       "  <tbody>\n",
       "    <tr>\n",
       "      <th>DE</th>\n",
       "      <td>Germany</td>\n",
       "      <td>83.78</td>\n",
       "      <td>348560</td>\n",
       "    </tr>\n",
       "    <tr>\n",
       "      <th>UK</th>\n",
       "      <td>United Kingdom</td>\n",
       "      <td>67.89</td>\n",
       "      <td>241930</td>\n",
       "    </tr>\n",
       "    <tr>\n",
       "      <th>FR</th>\n",
       "      <td>France</td>\n",
       "      <td>65.27</td>\n",
       "      <td>547557</td>\n",
       "    </tr>\n",
       "    <tr>\n",
       "      <th>IT</th>\n",
       "      <td>Italy</td>\n",
       "      <td>60.46</td>\n",
       "      <td>294140</td>\n",
       "    </tr>\n",
       "    <tr>\n",
       "      <th>SP</th>\n",
       "      <td>Spain</td>\n",
       "      <td>46.75</td>\n",
       "      <td>498800</td>\n",
       "    </tr>\n",
       "  </tbody>\n",
       "</table>\n",
       "</div>"
      ],
      "text/plain": [
       "           country  population  square_km\n",
       "DE         Germany       83.78     348560\n",
       "UK  United Kingdom       67.89     241930\n",
       "FR          France       65.27     547557\n",
       "IT           Italy       60.46     294140\n",
       "SP           Spain       46.75     498800"
      ]
     },
     "execution_count": 38,
     "metadata": {},
     "output_type": "execute_result"
    }
   ],
   "source": [
    "df.index = ['DE', 'UK', 'FR', 'IT', 'SP']\n",
    "df"
   ]
  },
  {
   "cell_type": "markdown",
   "metadata": {
    "id": "ke8XOrcrU7jj"
   },
   "source": [
    "##### ... and an index name:"
   ]
  },
  {
   "cell_type": "code",
   "execution_count": 39,
   "metadata": {},
   "outputs": [
    {
     "name": "stdout",
     "output_type": "stream",
     "text": [
      "None\n"
     ]
    }
   ],
   "source": [
    "print (df.index.name)"
   ]
  },
  {
   "cell_type": "code",
   "execution_count": 40,
   "metadata": {
    "colab": {
     "base_uri": "https://localhost:8080/",
     "height": 237
    },
    "id": "6gyahZFNVH0c",
    "outputId": "6a151c4d-5eed-4fed-bc11-f98fa6d07b01"
   },
   "outputs": [
    {
     "data": {
      "text/html": [
       "<div>\n",
       "<style scoped>\n",
       "    .dataframe tbody tr th:only-of-type {\n",
       "        vertical-align: middle;\n",
       "    }\n",
       "\n",
       "    .dataframe tbody tr th {\n",
       "        vertical-align: top;\n",
       "    }\n",
       "\n",
       "    .dataframe thead th {\n",
       "        text-align: right;\n",
       "    }\n",
       "</style>\n",
       "<table border=\"1\" class=\"dataframe\">\n",
       "  <thead>\n",
       "    <tr style=\"text-align: right;\">\n",
       "      <th></th>\n",
       "      <th>country</th>\n",
       "      <th>population</th>\n",
       "      <th>square_km</th>\n",
       "    </tr>\n",
       "    <tr>\n",
       "      <th>country_code</th>\n",
       "      <th></th>\n",
       "      <th></th>\n",
       "      <th></th>\n",
       "    </tr>\n",
       "  </thead>\n",
       "  <tbody>\n",
       "    <tr>\n",
       "      <th>DE</th>\n",
       "      <td>Germany</td>\n",
       "      <td>83.78</td>\n",
       "      <td>348560</td>\n",
       "    </tr>\n",
       "    <tr>\n",
       "      <th>UK</th>\n",
       "      <td>United Kingdom</td>\n",
       "      <td>67.89</td>\n",
       "      <td>241930</td>\n",
       "    </tr>\n",
       "    <tr>\n",
       "      <th>FR</th>\n",
       "      <td>France</td>\n",
       "      <td>65.27</td>\n",
       "      <td>547557</td>\n",
       "    </tr>\n",
       "    <tr>\n",
       "      <th>IT</th>\n",
       "      <td>Italy</td>\n",
       "      <td>60.46</td>\n",
       "      <td>294140</td>\n",
       "    </tr>\n",
       "    <tr>\n",
       "      <th>SP</th>\n",
       "      <td>Spain</td>\n",
       "      <td>46.75</td>\n",
       "      <td>498800</td>\n",
       "    </tr>\n",
       "  </tbody>\n",
       "</table>\n",
       "</div>"
      ],
      "text/plain": [
       "                     country  population  square_km\n",
       "country_code                                       \n",
       "DE                   Germany       83.78     348560\n",
       "UK            United Kingdom       67.89     241930\n",
       "FR                    France       65.27     547557\n",
       "IT                     Italy       60.46     294140\n",
       "SP                     Spain       46.75     498800"
      ]
     },
     "execution_count": 40,
     "metadata": {},
     "output_type": "execute_result"
    }
   ],
   "source": [
    "df.index.name = 'country_code'\n",
    "df"
   ]
  },
  {
   "cell_type": "code",
   "execution_count": 41,
   "metadata": {
    "colab": {
     "base_uri": "https://localhost:8080/"
    },
    "id": "SWOy8LqqVfTT",
    "outputId": "86bee7d7-7b7f-47b7-ca74-acf139d409d9"
   },
   "outputs": [
    {
     "data": {
      "text/html": [
       "<div>\n",
       "<style scoped>\n",
       "    .dataframe tbody tr th:only-of-type {\n",
       "        vertical-align: middle;\n",
       "    }\n",
       "\n",
       "    .dataframe tbody tr th {\n",
       "        vertical-align: top;\n",
       "    }\n",
       "\n",
       "    .dataframe thead th {\n",
       "        text-align: right;\n",
       "    }\n",
       "</style>\n",
       "<table border=\"1\" class=\"dataframe\">\n",
       "  <thead>\n",
       "    <tr style=\"text-align: right;\">\n",
       "      <th></th>\n",
       "      <th>country</th>\n",
       "    </tr>\n",
       "    <tr>\n",
       "      <th>country_code</th>\n",
       "      <th></th>\n",
       "    </tr>\n",
       "  </thead>\n",
       "  <tbody>\n",
       "    <tr>\n",
       "      <th>DE</th>\n",
       "      <td>Germany</td>\n",
       "    </tr>\n",
       "    <tr>\n",
       "      <th>UK</th>\n",
       "      <td>United Kingdom</td>\n",
       "    </tr>\n",
       "    <tr>\n",
       "      <th>FR</th>\n",
       "      <td>France</td>\n",
       "    </tr>\n",
       "    <tr>\n",
       "      <th>IT</th>\n",
       "      <td>Italy</td>\n",
       "    </tr>\n",
       "    <tr>\n",
       "      <th>SP</th>\n",
       "      <td>Spain</td>\n",
       "    </tr>\n",
       "  </tbody>\n",
       "</table>\n",
       "</div>"
      ],
      "text/plain": [
       "                     country\n",
       "country_code                \n",
       "DE                   Germany\n",
       "UK            United Kingdom\n",
       "FR                    France\n",
       "IT                     Italy\n",
       "SP                     Spain"
      ]
     },
     "execution_count": 41,
     "metadata": {},
     "output_type": "execute_result"
    }
   ],
   "source": [
    "df[['country']]"
   ]
  },
  {
   "cell_type": "markdown",
   "metadata": {
    "id": "F9QRgHMIWUtL"
   },
   "source": [
    "##### Row access using index can be performed:\n",
    "#####  &emsp; &emsp; * using .loc and providing index label\n",
    "##### &emsp; &emsp;  * using .iloc and providing index number\n",
    "\n"
   ]
  },
  {
   "cell_type": "code",
   "execution_count": 42,
   "metadata": {
    "colab": {
     "base_uri": "https://localhost:8080/"
    },
    "id": "PCRuEs86WkWO",
    "outputId": "6596761c-7eef-487e-b056-b6a88fbb3d60"
   },
   "outputs": [
    {
     "name": "stdout",
     "output_type": "stream",
     "text": [
      "country       France\n",
      "population     65.27\n",
      "square_km     547557\n",
      "Name: FR, dtype: object\n"
     ]
    },
    {
     "data": {
      "text/html": [
       "<div>\n",
       "<style scoped>\n",
       "    .dataframe tbody tr th:only-of-type {\n",
       "        vertical-align: middle;\n",
       "    }\n",
       "\n",
       "    .dataframe tbody tr th {\n",
       "        vertical-align: top;\n",
       "    }\n",
       "\n",
       "    .dataframe thead th {\n",
       "        text-align: right;\n",
       "    }\n",
       "</style>\n",
       "<table border=\"1\" class=\"dataframe\">\n",
       "  <thead>\n",
       "    <tr style=\"text-align: right;\">\n",
       "      <th></th>\n",
       "      <th>country</th>\n",
       "      <th>population</th>\n",
       "      <th>square_km</th>\n",
       "    </tr>\n",
       "    <tr>\n",
       "      <th>country_code</th>\n",
       "      <th></th>\n",
       "      <th></th>\n",
       "      <th></th>\n",
       "    </tr>\n",
       "  </thead>\n",
       "  <tbody>\n",
       "    <tr>\n",
       "      <th>FR</th>\n",
       "      <td>France</td>\n",
       "      <td>65.27</td>\n",
       "      <td>547557</td>\n",
       "    </tr>\n",
       "  </tbody>\n",
       "</table>\n",
       "</div>"
      ],
      "text/plain": [
       "             country  population  square_km\n",
       "country_code                               \n",
       "FR            France       65.27     547557"
      ]
     },
     "execution_count": 42,
     "metadata": {},
     "output_type": "execute_result"
    }
   ],
   "source": [
    "print (df.loc['FR'])     # output a Series\n",
    "df.loc[['FR']]           # output a Dataframe\n"
   ]
  },
  {
   "cell_type": "code",
   "execution_count": 43,
   "metadata": {
    "colab": {
     "base_uri": "https://localhost:8080/"
    },
    "id": "NbXj3Gl6WzZT",
    "outputId": "f50df04f-da97-4f04-cbf6-d7eda6f0d1d7"
   },
   "outputs": [
    {
     "name": "stdout",
     "output_type": "stream",
     "text": [
      "country       France\n",
      "population     65.27\n",
      "square_km     547557\n",
      "Name: FR, dtype: object\n"
     ]
    },
    {
     "data": {
      "text/html": [
       "<div>\n",
       "<style scoped>\n",
       "    .dataframe tbody tr th:only-of-type {\n",
       "        vertical-align: middle;\n",
       "    }\n",
       "\n",
       "    .dataframe tbody tr th {\n",
       "        vertical-align: top;\n",
       "    }\n",
       "\n",
       "    .dataframe thead th {\n",
       "        text-align: right;\n",
       "    }\n",
       "</style>\n",
       "<table border=\"1\" class=\"dataframe\">\n",
       "  <thead>\n",
       "    <tr style=\"text-align: right;\">\n",
       "      <th></th>\n",
       "      <th>country</th>\n",
       "      <th>population</th>\n",
       "      <th>square_km</th>\n",
       "    </tr>\n",
       "    <tr>\n",
       "      <th>country_code</th>\n",
       "      <th></th>\n",
       "      <th></th>\n",
       "      <th></th>\n",
       "    </tr>\n",
       "  </thead>\n",
       "  <tbody>\n",
       "    <tr>\n",
       "      <th>FR</th>\n",
       "      <td>France</td>\n",
       "      <td>65.27</td>\n",
       "      <td>547557</td>\n",
       "    </tr>\n",
       "  </tbody>\n",
       "</table>\n",
       "</div>"
      ],
      "text/plain": [
       "             country  population  square_km\n",
       "country_code                               \n",
       "FR            France       65.27     547557"
      ]
     },
     "execution_count": 43,
     "metadata": {},
     "output_type": "execute_result"
    }
   ],
   "source": [
    "print (df.iloc[2])       # output a Series\n",
    "df.iloc[[2]]             # output a Dataframe\n"
   ]
  },
  {
   "cell_type": "markdown",
   "metadata": {
    "id": "sjc9ANhgXH46"
   },
   "source": [
    "##### .iloc and .loc take actually 2 arguments: index list and column list:"
   ]
  },
  {
   "cell_type": "code",
   "execution_count": 44,
   "metadata": {},
   "outputs": [
    {
     "data": {
      "text/html": [
       "<div>\n",
       "<style scoped>\n",
       "    .dataframe tbody tr th:only-of-type {\n",
       "        vertical-align: middle;\n",
       "    }\n",
       "\n",
       "    .dataframe tbody tr th {\n",
       "        vertical-align: top;\n",
       "    }\n",
       "\n",
       "    .dataframe thead th {\n",
       "        text-align: right;\n",
       "    }\n",
       "</style>\n",
       "<table border=\"1\" class=\"dataframe\">\n",
       "  <thead>\n",
       "    <tr style=\"text-align: right;\">\n",
       "      <th></th>\n",
       "      <th>country</th>\n",
       "      <th>square_km</th>\n",
       "    </tr>\n",
       "    <tr>\n",
       "      <th>country_code</th>\n",
       "      <th></th>\n",
       "      <th></th>\n",
       "    </tr>\n",
       "  </thead>\n",
       "  <tbody>\n",
       "    <tr>\n",
       "      <th>DE</th>\n",
       "      <td>Germany</td>\n",
       "      <td>348560</td>\n",
       "    </tr>\n",
       "    <tr>\n",
       "      <th>FR</th>\n",
       "      <td>France</td>\n",
       "      <td>547557</td>\n",
       "    </tr>\n",
       "    <tr>\n",
       "      <th>SP</th>\n",
       "      <td>Spain</td>\n",
       "      <td>498800</td>\n",
       "    </tr>\n",
       "  </tbody>\n",
       "</table>\n",
       "</div>"
      ],
      "text/plain": [
       "              country  square_km\n",
       "country_code                    \n",
       "DE            Germany     348560\n",
       "FR             France     547557\n",
       "SP              Spain     498800"
      ]
     },
     "execution_count": 44,
     "metadata": {},
     "output_type": "execute_result"
    }
   ],
   "source": [
    "df.iloc[[0,2,4], [0,2] ]"
   ]
  },
  {
   "cell_type": "code",
   "execution_count": 45,
   "metadata": {
    "colab": {
     "base_uri": "https://localhost:8080/",
     "height": 144
    },
    "id": "KsrE48lBXNsj",
    "outputId": "252f9672-4ffc-49cf-cd63-29b675eedf33"
   },
   "outputs": [
    {
     "data": {
      "text/html": [
       "<div>\n",
       "<style scoped>\n",
       "    .dataframe tbody tr th:only-of-type {\n",
       "        vertical-align: middle;\n",
       "    }\n",
       "\n",
       "    .dataframe tbody tr th {\n",
       "        vertical-align: top;\n",
       "    }\n",
       "\n",
       "    .dataframe thead th {\n",
       "        text-align: right;\n",
       "    }\n",
       "</style>\n",
       "<table border=\"1\" class=\"dataframe\">\n",
       "  <thead>\n",
       "    <tr style=\"text-align: right;\">\n",
       "      <th></th>\n",
       "      <th>country</th>\n",
       "      <th>square_km</th>\n",
       "    </tr>\n",
       "    <tr>\n",
       "      <th>country_code</th>\n",
       "      <th></th>\n",
       "      <th></th>\n",
       "    </tr>\n",
       "  </thead>\n",
       "  <tbody>\n",
       "    <tr>\n",
       "      <th>DE</th>\n",
       "      <td>Germany</td>\n",
       "      <td>348560</td>\n",
       "    </tr>\n",
       "    <tr>\n",
       "      <th>FR</th>\n",
       "      <td>France</td>\n",
       "      <td>547557</td>\n",
       "    </tr>\n",
       "    <tr>\n",
       "      <th>SP</th>\n",
       "      <td>Spain</td>\n",
       "      <td>498800</td>\n",
       "    </tr>\n",
       "  </tbody>\n",
       "</table>\n",
       "</div>"
      ],
      "text/plain": [
       "              country  square_km\n",
       "country_code                    \n",
       "DE            Germany     348560\n",
       "FR             France     547557\n",
       "SP              Spain     498800"
      ]
     },
     "execution_count": 45,
     "metadata": {},
     "output_type": "execute_result"
    }
   ],
   "source": [
    "df.loc[['DE','FR','SP'], ['country', 'square_km']]"
   ]
  },
  {
   "cell_type": "markdown",
   "metadata": {},
   "source": [
    "##### Notice the different behavior of slicing in .loc (strings) and in .iloc (integers):"
   ]
  },
  {
   "cell_type": "code",
   "execution_count": 46,
   "metadata": {},
   "outputs": [
    {
     "name": "stdout",
     "output_type": "stream",
     "text": [
      "             country  population  square_km\n",
      "country_code                               \n",
      "FR            France       65.27     547557\n",
      "IT             Italy       60.46     294140\n",
      "             country  population  square_km\n",
      "country_code                               \n",
      "FR            France       65.27     547557\n",
      "IT             Italy       60.46     294140\n"
     ]
    }
   ],
   "source": [
    "print(df.loc['FR':'IT',:])\n",
    "print (df.iloc[2:4,:])"
   ]
  },
  {
   "cell_type": "markdown",
   "metadata": {
    "id": "w7y71PrDbOSZ"
   },
   "source": [
    "#####\n",
    "##### Filtering by condition is performed using so-called Boolean arrays:"
   ]
  },
  {
   "cell_type": "code",
   "execution_count": 47,
   "metadata": {},
   "outputs": [
    {
     "data": {
      "text/plain": [
       "country_code\n",
       "DE     True\n",
       "UK     True\n",
       "FR     True\n",
       "IT     True\n",
       "SP    False\n",
       "Name: population, dtype: bool"
      ]
     },
     "execution_count": 47,
     "metadata": {},
     "output_type": "execute_result"
    }
   ],
   "source": [
    "df.population > 60           # output a Series (with Boolean values)\n",
    "\n",
    "# df['population'] > 60      # same as above\n",
    "\n",
    "# df[['population']] > 60    # output a Dataframe (with Boolean values)\n"
   ]
  },
  {
   "cell_type": "markdown",
   "metadata": {},
   "source": [
    "#####  To obtain a filtered Dataframe, you give in input the boolean array to the dataframe:"
   ]
  },
  {
   "cell_type": "code",
   "execution_count": 48,
   "metadata": {},
   "outputs": [
    {
     "data": {
      "text/html": [
       "<div>\n",
       "<style scoped>\n",
       "    .dataframe tbody tr th:only-of-type {\n",
       "        vertical-align: middle;\n",
       "    }\n",
       "\n",
       "    .dataframe tbody tr th {\n",
       "        vertical-align: top;\n",
       "    }\n",
       "\n",
       "    .dataframe thead th {\n",
       "        text-align: right;\n",
       "    }\n",
       "</style>\n",
       "<table border=\"1\" class=\"dataframe\">\n",
       "  <thead>\n",
       "    <tr style=\"text-align: right;\">\n",
       "      <th></th>\n",
       "      <th>country</th>\n",
       "      <th>population</th>\n",
       "      <th>square_km</th>\n",
       "    </tr>\n",
       "    <tr>\n",
       "      <th>country_code</th>\n",
       "      <th></th>\n",
       "      <th></th>\n",
       "      <th></th>\n",
       "    </tr>\n",
       "  </thead>\n",
       "  <tbody>\n",
       "    <tr>\n",
       "      <th>DE</th>\n",
       "      <td>Germany</td>\n",
       "      <td>83.78</td>\n",
       "      <td>348560</td>\n",
       "    </tr>\n",
       "    <tr>\n",
       "      <th>UK</th>\n",
       "      <td>United Kingdom</td>\n",
       "      <td>67.89</td>\n",
       "      <td>241930</td>\n",
       "    </tr>\n",
       "    <tr>\n",
       "      <th>FR</th>\n",
       "      <td>France</td>\n",
       "      <td>65.27</td>\n",
       "      <td>547557</td>\n",
       "    </tr>\n",
       "    <tr>\n",
       "      <th>IT</th>\n",
       "      <td>Italy</td>\n",
       "      <td>60.46</td>\n",
       "      <td>294140</td>\n",
       "    </tr>\n",
       "  </tbody>\n",
       "</table>\n",
       "</div>"
      ],
      "text/plain": [
       "                     country  population  square_km\n",
       "country_code                                       \n",
       "DE                   Germany       83.78     348560\n",
       "UK            United Kingdom       67.89     241930\n",
       "FR                    France       65.27     547557\n",
       "IT                     Italy       60.46     294140"
      ]
     },
     "execution_count": 48,
     "metadata": {},
     "output_type": "execute_result"
    }
   ],
   "source": [
    "df[(df.population > 60)] "
   ]
  },
  {
   "cell_type": "markdown",
   "metadata": {},
   "source": [
    "##### A slightly more complex condition:"
   ]
  },
  {
   "cell_type": "code",
   "execution_count": 49,
   "metadata": {
    "colab": {
     "base_uri": "https://localhost:8080/",
     "height": 206
    },
    "id": "aDEPf_1mbPr6",
    "outputId": "2a91be8e-2194-4c1a-9029-43f4b54bb62e"
   },
   "outputs": [
    {
     "data": {
      "text/html": [
       "<div>\n",
       "<style scoped>\n",
       "    .dataframe tbody tr th:only-of-type {\n",
       "        vertical-align: middle;\n",
       "    }\n",
       "\n",
       "    .dataframe tbody tr th {\n",
       "        vertical-align: top;\n",
       "    }\n",
       "\n",
       "    .dataframe thead th {\n",
       "        text-align: right;\n",
       "    }\n",
       "</style>\n",
       "<table border=\"1\" class=\"dataframe\">\n",
       "  <thead>\n",
       "    <tr style=\"text-align: right;\">\n",
       "      <th></th>\n",
       "      <th>country</th>\n",
       "      <th>population</th>\n",
       "      <th>square_km</th>\n",
       "    </tr>\n",
       "    <tr>\n",
       "      <th>country_code</th>\n",
       "      <th></th>\n",
       "      <th></th>\n",
       "      <th></th>\n",
       "    </tr>\n",
       "  </thead>\n",
       "  <tbody>\n",
       "    <tr>\n",
       "      <th>UK</th>\n",
       "      <td>United Kingdom</td>\n",
       "      <td>67.89</td>\n",
       "      <td>241930</td>\n",
       "    </tr>\n",
       "    <tr>\n",
       "      <th>IT</th>\n",
       "      <td>Italy</td>\n",
       "      <td>60.46</td>\n",
       "      <td>294140</td>\n",
       "    </tr>\n",
       "  </tbody>\n",
       "</table>\n",
       "</div>"
      ],
      "text/plain": [
       "                     country  population  square_km\n",
       "country_code                                       \n",
       "UK            United Kingdom       67.89     241930\n",
       "IT                     Italy       60.46     294140"
      ]
     },
     "execution_count": 49,
     "metadata": {},
     "output_type": "execute_result"
    }
   ],
   "source": [
    "df[(df.population > 60) & (df.square_km < 300000)]"
   ]
  },
  {
   "cell_type": "markdown",
   "metadata": {},
   "source": [
    "##### The _query_ function allows for applying filtering conditions as strings:"
   ]
  },
  {
   "cell_type": "code",
   "execution_count": 50,
   "metadata": {
    "scrolled": true
   },
   "outputs": [
    {
     "data": {
      "text/html": [
       "<div>\n",
       "<style scoped>\n",
       "    .dataframe tbody tr th:only-of-type {\n",
       "        vertical-align: middle;\n",
       "    }\n",
       "\n",
       "    .dataframe tbody tr th {\n",
       "        vertical-align: top;\n",
       "    }\n",
       "\n",
       "    .dataframe thead th {\n",
       "        text-align: right;\n",
       "    }\n",
       "</style>\n",
       "<table border=\"1\" class=\"dataframe\">\n",
       "  <thead>\n",
       "    <tr style=\"text-align: right;\">\n",
       "      <th></th>\n",
       "      <th>country</th>\n",
       "      <th>population</th>\n",
       "      <th>square_km</th>\n",
       "    </tr>\n",
       "    <tr>\n",
       "      <th>country_code</th>\n",
       "      <th></th>\n",
       "      <th></th>\n",
       "      <th></th>\n",
       "    </tr>\n",
       "  </thead>\n",
       "  <tbody>\n",
       "    <tr>\n",
       "      <th>DE</th>\n",
       "      <td>Germany</td>\n",
       "      <td>83.78</td>\n",
       "      <td>348560</td>\n",
       "    </tr>\n",
       "    <tr>\n",
       "      <th>UK</th>\n",
       "      <td>United Kingdom</td>\n",
       "      <td>67.89</td>\n",
       "      <td>241930</td>\n",
       "    </tr>\n",
       "    <tr>\n",
       "      <th>FR</th>\n",
       "      <td>France</td>\n",
       "      <td>65.27</td>\n",
       "      <td>547557</td>\n",
       "    </tr>\n",
       "    <tr>\n",
       "      <th>IT</th>\n",
       "      <td>Italy</td>\n",
       "      <td>60.46</td>\n",
       "      <td>294140</td>\n",
       "    </tr>\n",
       "  </tbody>\n",
       "</table>\n",
       "</div>"
      ],
      "text/plain": [
       "                     country  population  square_km\n",
       "country_code                                       \n",
       "DE                   Germany       83.78     348560\n",
       "UK            United Kingdom       67.89     241930\n",
       "FR                    France       65.27     547557\n",
       "IT                     Italy       60.46     294140"
      ]
     },
     "execution_count": 50,
     "metadata": {},
     "output_type": "execute_result"
    }
   ],
   "source": [
    "df.query(\"population > 60\")"
   ]
  },
  {
   "cell_type": "markdown",
   "metadata": {},
   "source": [
    "##### With the 'query' method, the boolean operators are also inserted as strings:"
   ]
  },
  {
   "cell_type": "code",
   "execution_count": 53,
   "metadata": {},
   "outputs": [
    {
     "data": {
      "text/html": [
       "<div>\n",
       "<style scoped>\n",
       "    .dataframe tbody tr th:only-of-type {\n",
       "        vertical-align: middle;\n",
       "    }\n",
       "\n",
       "    .dataframe tbody tr th {\n",
       "        vertical-align: top;\n",
       "    }\n",
       "\n",
       "    .dataframe thead th {\n",
       "        text-align: right;\n",
       "    }\n",
       "</style>\n",
       "<table border=\"1\" class=\"dataframe\">\n",
       "  <thead>\n",
       "    <tr style=\"text-align: right;\">\n",
       "      <th></th>\n",
       "      <th>country</th>\n",
       "      <th>population</th>\n",
       "      <th>square_km</th>\n",
       "    </tr>\n",
       "    <tr>\n",
       "      <th>country_code</th>\n",
       "      <th></th>\n",
       "      <th></th>\n",
       "      <th></th>\n",
       "    </tr>\n",
       "  </thead>\n",
       "  <tbody>\n",
       "    <tr>\n",
       "      <th>UK</th>\n",
       "      <td>United Kingdom</td>\n",
       "      <td>67.89</td>\n",
       "      <td>241930</td>\n",
       "    </tr>\n",
       "    <tr>\n",
       "      <th>IT</th>\n",
       "      <td>Italy</td>\n",
       "      <td>60.46</td>\n",
       "      <td>294140</td>\n",
       "    </tr>\n",
       "  </tbody>\n",
       "</table>\n",
       "</div>"
      ],
      "text/plain": [
       "                     country  population  square_km\n",
       "country_code                                       \n",
       "UK            United Kingdom       67.89     241930\n",
       "IT                     Italy       60.46     294140"
      ]
     },
     "execution_count": 53,
     "metadata": {},
     "output_type": "execute_result"
    }
   ],
   "source": [
    "df.query(\"population > 60 and square_km < 300000\")"
   ]
  },
  {
   "cell_type": "markdown",
   "metadata": {},
   "source": [
    "#####\n",
    "### 3. Data Manipulation"
   ]
  },
  {
   "cell_type": "code",
   "execution_count": 59,
   "metadata": {},
   "outputs": [
    {
     "data": {
      "text/html": [
       "<div>\n",
       "<style scoped>\n",
       "    .dataframe tbody tr th:only-of-type {\n",
       "        vertical-align: middle;\n",
       "    }\n",
       "\n",
       "    .dataframe tbody tr th {\n",
       "        vertical-align: top;\n",
       "    }\n",
       "\n",
       "    .dataframe thead th {\n",
       "        text-align: right;\n",
       "    }\n",
       "</style>\n",
       "<table border=\"1\" class=\"dataframe\">\n",
       "  <thead>\n",
       "    <tr style=\"text-align: right;\">\n",
       "      <th></th>\n",
       "      <th>country</th>\n",
       "      <th>population</th>\n",
       "      <th>square_km</th>\n",
       "    </tr>\n",
       "  </thead>\n",
       "  <tbody>\n",
       "    <tr>\n",
       "      <th>DE</th>\n",
       "      <td>Germany</td>\n",
       "      <td>83.78</td>\n",
       "      <td>348560</td>\n",
       "    </tr>\n",
       "    <tr>\n",
       "      <th>UK</th>\n",
       "      <td>United Kingdom</td>\n",
       "      <td>67.89</td>\n",
       "      <td>241930</td>\n",
       "    </tr>\n",
       "    <tr>\n",
       "      <th>FR</th>\n",
       "      <td>France</td>\n",
       "      <td>65.27</td>\n",
       "      <td>547557</td>\n",
       "    </tr>\n",
       "    <tr>\n",
       "      <th>IT</th>\n",
       "      <td>Italy</td>\n",
       "      <td>60.46</td>\n",
       "      <td>294140</td>\n",
       "    </tr>\n",
       "    <tr>\n",
       "      <th>SP</th>\n",
       "      <td>Spain</td>\n",
       "      <td>46.75</td>\n",
       "      <td>498800</td>\n",
       "    </tr>\n",
       "  </tbody>\n",
       "</table>\n",
       "</div>"
      ],
      "text/plain": [
       "           country  population  square_km\n",
       "DE         Germany       83.78     348560\n",
       "UK  United Kingdom       67.89     241930\n",
       "FR          France       65.27     547557\n",
       "IT           Italy       60.46     294140\n",
       "SP           Spain       46.75     498800"
      ]
     },
     "execution_count": 59,
     "metadata": {},
     "output_type": "execute_result"
    }
   ],
   "source": [
    "# this command re-create the Dataframe named 'df'\n",
    "\n",
    "df = pd.DataFrame({'country': ['Germany', 'United Kingdom', 'France', 'Italy', 'Spain'],\\\n",
    "                   'population': [83.78, 67.89, 65.27, 60.46, 46.75],\\\n",
    "                   'square_km': [348560, 241930, 547557, 294140, 498800]}, \\\n",
    "                  index=['DE','UK','FR','IT','SP']) \n",
    "df"
   ]
  },
  {
   "cell_type": "markdown",
   "metadata": {
    "id": "_DCk4jR8ebiI"
   },
   "source": [
    "##### One can add a new column (with population density):"
   ]
  },
  {
   "cell_type": "code",
   "execution_count": 61,
   "metadata": {
    "colab": {
     "base_uri": "https://localhost:8080/",
     "height": 237
    },
    "id": "-trBgirkeiyr",
    "outputId": "77eaa6d4-5bbe-4562-ef44-80458ddd98ea"
   },
   "outputs": [
    {
     "data": {
      "text/html": [
       "<div>\n",
       "<style scoped>\n",
       "    .dataframe tbody tr th:only-of-type {\n",
       "        vertical-align: middle;\n",
       "    }\n",
       "\n",
       "    .dataframe tbody tr th {\n",
       "        vertical-align: top;\n",
       "    }\n",
       "\n",
       "    .dataframe thead th {\n",
       "        text-align: right;\n",
       "    }\n",
       "</style>\n",
       "<table border=\"1\" class=\"dataframe\">\n",
       "  <thead>\n",
       "    <tr style=\"text-align: right;\">\n",
       "      <th></th>\n",
       "      <th>country</th>\n",
       "      <th>population</th>\n",
       "      <th>square_km</th>\n",
       "      <th>density</th>\n",
       "    </tr>\n",
       "  </thead>\n",
       "  <tbody>\n",
       "    <tr>\n",
       "      <th>DE</th>\n",
       "      <td>Germany</td>\n",
       "      <td>83.78</td>\n",
       "      <td>348560</td>\n",
       "      <td>240.360340</td>\n",
       "    </tr>\n",
       "    <tr>\n",
       "      <th>UK</th>\n",
       "      <td>United Kingdom</td>\n",
       "      <td>67.89</td>\n",
       "      <td>241930</td>\n",
       "      <td>280.618361</td>\n",
       "    </tr>\n",
       "    <tr>\n",
       "      <th>FR</th>\n",
       "      <td>France</td>\n",
       "      <td>65.27</td>\n",
       "      <td>547557</td>\n",
       "      <td>119.202202</td>\n",
       "    </tr>\n",
       "    <tr>\n",
       "      <th>IT</th>\n",
       "      <td>Italy</td>\n",
       "      <td>60.46</td>\n",
       "      <td>294140</td>\n",
       "      <td>205.548378</td>\n",
       "    </tr>\n",
       "    <tr>\n",
       "      <th>SP</th>\n",
       "      <td>Spain</td>\n",
       "      <td>46.75</td>\n",
       "      <td>498800</td>\n",
       "      <td>93.724940</td>\n",
       "    </tr>\n",
       "  </tbody>\n",
       "</table>\n",
       "</div>"
      ],
      "text/plain": [
       "           country  population  square_km     density\n",
       "DE         Germany       83.78     348560  240.360340\n",
       "UK  United Kingdom       67.89     241930  280.618361\n",
       "FR          France       65.27     547557  119.202202\n",
       "IT           Italy       60.46     294140  205.548378\n",
       "SP           Spain       46.75     498800   93.724940"
      ]
     },
     "execution_count": 61,
     "metadata": {},
     "output_type": "execute_result"
    }
   ],
   "source": [
    "df['density'] = df['population'] / df['square_km'] * 1000000\n",
    "df"
   ]
  },
  {
   "cell_type": "code",
   "execution_count": 62,
   "metadata": {},
   "outputs": [
    {
     "data": {
      "text/plain": [
       "dtype('float64')"
      ]
     },
     "execution_count": 62,
     "metadata": {},
     "output_type": "execute_result"
    }
   ],
   "source": [
    "df.density.dtypes"
   ]
  },
  {
   "cell_type": "markdown",
   "metadata": {},
   "source": [
    "##### Let's change to integer type:"
   ]
  },
  {
   "cell_type": "code",
   "execution_count": 63,
   "metadata": {},
   "outputs": [
    {
     "name": "stdout",
     "output_type": "stream",
     "text": [
      "country        object\n",
      "population    float64\n",
      "square_km       int64\n",
      "density         int64\n",
      "dtype: object\n"
     ]
    },
    {
     "data": {
      "text/html": [
       "<div>\n",
       "<style scoped>\n",
       "    .dataframe tbody tr th:only-of-type {\n",
       "        vertical-align: middle;\n",
       "    }\n",
       "\n",
       "    .dataframe tbody tr th {\n",
       "        vertical-align: top;\n",
       "    }\n",
       "\n",
       "    .dataframe thead th {\n",
       "        text-align: right;\n",
       "    }\n",
       "</style>\n",
       "<table border=\"1\" class=\"dataframe\">\n",
       "  <thead>\n",
       "    <tr style=\"text-align: right;\">\n",
       "      <th></th>\n",
       "      <th>country</th>\n",
       "      <th>population</th>\n",
       "      <th>square_km</th>\n",
       "      <th>density</th>\n",
       "    </tr>\n",
       "  </thead>\n",
       "  <tbody>\n",
       "    <tr>\n",
       "      <th>DE</th>\n",
       "      <td>Germany</td>\n",
       "      <td>83.78</td>\n",
       "      <td>348560</td>\n",
       "      <td>240</td>\n",
       "    </tr>\n",
       "    <tr>\n",
       "      <th>UK</th>\n",
       "      <td>United Kingdom</td>\n",
       "      <td>67.89</td>\n",
       "      <td>241930</td>\n",
       "      <td>280</td>\n",
       "    </tr>\n",
       "    <tr>\n",
       "      <th>FR</th>\n",
       "      <td>France</td>\n",
       "      <td>65.27</td>\n",
       "      <td>547557</td>\n",
       "      <td>119</td>\n",
       "    </tr>\n",
       "    <tr>\n",
       "      <th>IT</th>\n",
       "      <td>Italy</td>\n",
       "      <td>60.46</td>\n",
       "      <td>294140</td>\n",
       "      <td>205</td>\n",
       "    </tr>\n",
       "    <tr>\n",
       "      <th>SP</th>\n",
       "      <td>Spain</td>\n",
       "      <td>46.75</td>\n",
       "      <td>498800</td>\n",
       "      <td>93</td>\n",
       "    </tr>\n",
       "  </tbody>\n",
       "</table>\n",
       "</div>"
      ],
      "text/plain": [
       "           country  population  square_km  density\n",
       "DE         Germany       83.78     348560      240\n",
       "UK  United Kingdom       67.89     241930      280\n",
       "FR          France       65.27     547557      119\n",
       "IT           Italy       60.46     294140      205\n",
       "SP           Spain       46.75     498800       93"
      ]
     },
     "execution_count": 63,
     "metadata": {},
     "output_type": "execute_result"
    }
   ],
   "source": [
    "df.density = df.density.astype('int64')\n",
    "print (df.dtypes)\n",
    "df\n"
   ]
  },
  {
   "cell_type": "markdown",
   "metadata": {},
   "source": [
    "##### Or we could have also added the column directly:"
   ]
  },
  {
   "cell_type": "code",
   "execution_count": 64,
   "metadata": {},
   "outputs": [
    {
     "data": {
      "text/html": [
       "<div>\n",
       "<style scoped>\n",
       "    .dataframe tbody tr th:only-of-type {\n",
       "        vertical-align: middle;\n",
       "    }\n",
       "\n",
       "    .dataframe tbody tr th {\n",
       "        vertical-align: top;\n",
       "    }\n",
       "\n",
       "    .dataframe thead th {\n",
       "        text-align: right;\n",
       "    }\n",
       "</style>\n",
       "<table border=\"1\" class=\"dataframe\">\n",
       "  <thead>\n",
       "    <tr style=\"text-align: right;\">\n",
       "      <th></th>\n",
       "      <th>country</th>\n",
       "      <th>population</th>\n",
       "      <th>square_km</th>\n",
       "      <th>density</th>\n",
       "      <th>density_by_hand</th>\n",
       "    </tr>\n",
       "  </thead>\n",
       "  <tbody>\n",
       "    <tr>\n",
       "      <th>DE</th>\n",
       "      <td>Germany</td>\n",
       "      <td>83.78</td>\n",
       "      <td>348560</td>\n",
       "      <td>240</td>\n",
       "      <td>240</td>\n",
       "    </tr>\n",
       "    <tr>\n",
       "      <th>UK</th>\n",
       "      <td>United Kingdom</td>\n",
       "      <td>67.89</td>\n",
       "      <td>241930</td>\n",
       "      <td>280</td>\n",
       "      <td>280</td>\n",
       "    </tr>\n",
       "    <tr>\n",
       "      <th>FR</th>\n",
       "      <td>France</td>\n",
       "      <td>65.27</td>\n",
       "      <td>547557</td>\n",
       "      <td>119</td>\n",
       "      <td>119</td>\n",
       "    </tr>\n",
       "    <tr>\n",
       "      <th>IT</th>\n",
       "      <td>Italy</td>\n",
       "      <td>60.46</td>\n",
       "      <td>294140</td>\n",
       "      <td>205</td>\n",
       "      <td>205</td>\n",
       "    </tr>\n",
       "    <tr>\n",
       "      <th>SP</th>\n",
       "      <td>Spain</td>\n",
       "      <td>46.75</td>\n",
       "      <td>498800</td>\n",
       "      <td>93</td>\n",
       "      <td>93</td>\n",
       "    </tr>\n",
       "  </tbody>\n",
       "</table>\n",
       "</div>"
      ],
      "text/plain": [
       "           country  population  square_km  density  density_by_hand\n",
       "DE         Germany       83.78     348560      240              240\n",
       "UK  United Kingdom       67.89     241930      280              280\n",
       "FR          France       65.27     547557      119              119\n",
       "IT           Italy       60.46     294140      205              205\n",
       "SP           Spain       46.75     498800       93               93"
      ]
     },
     "execution_count": 64,
     "metadata": {},
     "output_type": "execute_result"
    }
   ],
   "source": [
    "df['density_by_hand'] = pd.Series([240,280,119,205,93]).values\n",
    "df\n",
    "\n",
    "#pd.Series([240,280,119,205,93]).values"
   ]
  },
  {
   "cell_type": "markdown",
   "metadata": {
    "id": "BYcaCWnsfIDP"
   },
   "source": [
    "##### ...or we can delete it:"
   ]
  },
  {
   "cell_type": "code",
   "execution_count": 65,
   "metadata": {
    "colab": {
     "base_uri": "https://localhost:8080/",
     "height": 237
    },
    "id": "QrPFngQAfLaP",
    "outputId": "4c1b91c5-6c9e-42f2-fdc5-1b3e1988fa58"
   },
   "outputs": [
    {
     "data": {
      "text/html": [
       "<div>\n",
       "<style scoped>\n",
       "    .dataframe tbody tr th:only-of-type {\n",
       "        vertical-align: middle;\n",
       "    }\n",
       "\n",
       "    .dataframe tbody tr th {\n",
       "        vertical-align: top;\n",
       "    }\n",
       "\n",
       "    .dataframe thead th {\n",
       "        text-align: right;\n",
       "    }\n",
       "</style>\n",
       "<table border=\"1\" class=\"dataframe\">\n",
       "  <thead>\n",
       "    <tr style=\"text-align: right;\">\n",
       "      <th></th>\n",
       "      <th>country</th>\n",
       "      <th>population</th>\n",
       "      <th>square_km</th>\n",
       "      <th>density</th>\n",
       "    </tr>\n",
       "  </thead>\n",
       "  <tbody>\n",
       "    <tr>\n",
       "      <th>DE</th>\n",
       "      <td>Germany</td>\n",
       "      <td>83.78</td>\n",
       "      <td>348560</td>\n",
       "      <td>240</td>\n",
       "    </tr>\n",
       "    <tr>\n",
       "      <th>UK</th>\n",
       "      <td>United Kingdom</td>\n",
       "      <td>67.89</td>\n",
       "      <td>241930</td>\n",
       "      <td>280</td>\n",
       "    </tr>\n",
       "    <tr>\n",
       "      <th>FR</th>\n",
       "      <td>France</td>\n",
       "      <td>65.27</td>\n",
       "      <td>547557</td>\n",
       "      <td>119</td>\n",
       "    </tr>\n",
       "    <tr>\n",
       "      <th>IT</th>\n",
       "      <td>Italy</td>\n",
       "      <td>60.46</td>\n",
       "      <td>294140</td>\n",
       "      <td>205</td>\n",
       "    </tr>\n",
       "    <tr>\n",
       "      <th>SP</th>\n",
       "      <td>Spain</td>\n",
       "      <td>46.75</td>\n",
       "      <td>498800</td>\n",
       "      <td>93</td>\n",
       "    </tr>\n",
       "  </tbody>\n",
       "</table>\n",
       "</div>"
      ],
      "text/plain": [
       "           country  population  square_km  density\n",
       "DE         Germany       83.78     348560      240\n",
       "UK  United Kingdom       67.89     241930      280\n",
       "FR          France       65.27     547557      119\n",
       "IT           Italy       60.46     294140      205\n",
       "SP           Spain       46.75     498800       93"
      ]
     },
     "execution_count": 65,
     "metadata": {},
     "output_type": "execute_result"
    }
   ],
   "source": [
    "df_5 = df.drop(['density_by_hand'], axis=1)\n",
    "df_5\n",
    "\n",
    "        #or equivalently\n",
    "\n",
    "#df_5 = df.drop(columns=['density_by_hand'])\n",
    "#df_5"
   ]
  },
  {
   "cell_type": "markdown",
   "metadata": {
    "id": "ycL6eE4ai0fc"
   },
   "source": [
    "##### Use of \"inplace=True\":"
   ]
  },
  {
   "cell_type": "code",
   "execution_count": 66,
   "metadata": {
    "colab": {
     "base_uri": "https://localhost:8080/",
     "height": 237
    },
    "id": "QrPFngQAfLaP",
    "outputId": "4c1b91c5-6c9e-42f2-fdc5-1b3e1988fa58"
   },
   "outputs": [
    {
     "data": {
      "text/html": [
       "<div>\n",
       "<style scoped>\n",
       "    .dataframe tbody tr th:only-of-type {\n",
       "        vertical-align: middle;\n",
       "    }\n",
       "\n",
       "    .dataframe tbody tr th {\n",
       "        vertical-align: top;\n",
       "    }\n",
       "\n",
       "    .dataframe thead th {\n",
       "        text-align: right;\n",
       "    }\n",
       "</style>\n",
       "<table border=\"1\" class=\"dataframe\">\n",
       "  <thead>\n",
       "    <tr style=\"text-align: right;\">\n",
       "      <th></th>\n",
       "      <th>country</th>\n",
       "      <th>population</th>\n",
       "      <th>square_km</th>\n",
       "      <th>density</th>\n",
       "      <th>density_by_hand</th>\n",
       "    </tr>\n",
       "  </thead>\n",
       "  <tbody>\n",
       "    <tr>\n",
       "      <th>DE</th>\n",
       "      <td>Germany</td>\n",
       "      <td>83.78</td>\n",
       "      <td>348560</td>\n",
       "      <td>240</td>\n",
       "      <td>240</td>\n",
       "    </tr>\n",
       "    <tr>\n",
       "      <th>UK</th>\n",
       "      <td>United Kingdom</td>\n",
       "      <td>67.89</td>\n",
       "      <td>241930</td>\n",
       "      <td>280</td>\n",
       "      <td>280</td>\n",
       "    </tr>\n",
       "    <tr>\n",
       "      <th>FR</th>\n",
       "      <td>France</td>\n",
       "      <td>65.27</td>\n",
       "      <td>547557</td>\n",
       "      <td>119</td>\n",
       "      <td>119</td>\n",
       "    </tr>\n",
       "    <tr>\n",
       "      <th>IT</th>\n",
       "      <td>Italy</td>\n",
       "      <td>60.46</td>\n",
       "      <td>294140</td>\n",
       "      <td>205</td>\n",
       "      <td>205</td>\n",
       "    </tr>\n",
       "    <tr>\n",
       "      <th>SP</th>\n",
       "      <td>Spain</td>\n",
       "      <td>46.75</td>\n",
       "      <td>498800</td>\n",
       "      <td>93</td>\n",
       "      <td>93</td>\n",
       "    </tr>\n",
       "  </tbody>\n",
       "</table>\n",
       "</div>"
      ],
      "text/plain": [
       "           country  population  square_km  density  density_by_hand\n",
       "DE         Germany       83.78     348560      240              240\n",
       "UK  United Kingdom       67.89     241930      280              280\n",
       "FR          France       65.27     547557      119              119\n",
       "IT           Italy       60.46     294140      205              205\n",
       "SP           Spain       46.75     498800       93               93"
      ]
     },
     "execution_count": 66,
     "metadata": {},
     "output_type": "execute_result"
    }
   ],
   "source": [
    "df.drop(['density_by_hand'], axis = 1)\n",
    "df"
   ]
  },
  {
   "cell_type": "markdown",
   "metadata": {},
   "source": [
    "##### It seems not to work. In reality, the .drop() method has a default value 'False' for the parameter \"inplace\"  (check e.g. the pandas documentation).\n",
    "##### By switching to 'inplace= True', the changes are effectively made to the Dataframe in a permanent way:"
   ]
  },
  {
   "cell_type": "code",
   "execution_count": 67,
   "metadata": {},
   "outputs": [
    {
     "data": {
      "text/html": [
       "<div>\n",
       "<style scoped>\n",
       "    .dataframe tbody tr th:only-of-type {\n",
       "        vertical-align: middle;\n",
       "    }\n",
       "\n",
       "    .dataframe tbody tr th {\n",
       "        vertical-align: top;\n",
       "    }\n",
       "\n",
       "    .dataframe thead th {\n",
       "        text-align: right;\n",
       "    }\n",
       "</style>\n",
       "<table border=\"1\" class=\"dataframe\">\n",
       "  <thead>\n",
       "    <tr style=\"text-align: right;\">\n",
       "      <th></th>\n",
       "      <th>country</th>\n",
       "      <th>population</th>\n",
       "      <th>square_km</th>\n",
       "      <th>density</th>\n",
       "    </tr>\n",
       "  </thead>\n",
       "  <tbody>\n",
       "    <tr>\n",
       "      <th>DE</th>\n",
       "      <td>Germany</td>\n",
       "      <td>83.78</td>\n",
       "      <td>348560</td>\n",
       "      <td>240</td>\n",
       "    </tr>\n",
       "    <tr>\n",
       "      <th>UK</th>\n",
       "      <td>United Kingdom</td>\n",
       "      <td>67.89</td>\n",
       "      <td>241930</td>\n",
       "      <td>280</td>\n",
       "    </tr>\n",
       "    <tr>\n",
       "      <th>FR</th>\n",
       "      <td>France</td>\n",
       "      <td>65.27</td>\n",
       "      <td>547557</td>\n",
       "      <td>119</td>\n",
       "    </tr>\n",
       "    <tr>\n",
       "      <th>IT</th>\n",
       "      <td>Italy</td>\n",
       "      <td>60.46</td>\n",
       "      <td>294140</td>\n",
       "      <td>205</td>\n",
       "    </tr>\n",
       "    <tr>\n",
       "      <th>SP</th>\n",
       "      <td>Spain</td>\n",
       "      <td>46.75</td>\n",
       "      <td>498800</td>\n",
       "      <td>93</td>\n",
       "    </tr>\n",
       "  </tbody>\n",
       "</table>\n",
       "</div>"
      ],
      "text/plain": [
       "           country  population  square_km  density\n",
       "DE         Germany       83.78     348560      240\n",
       "UK  United Kingdom       67.89     241930      280\n",
       "FR          France       65.27     547557      119\n",
       "IT           Italy       60.46     294140      205\n",
       "SP           Spain       46.75     498800       93"
      ]
     },
     "execution_count": 67,
     "metadata": {},
     "output_type": "execute_result"
    }
   ],
   "source": [
    "df.drop(['density_by_hand'], axis = 1, inplace=True)\n",
    "df"
   ]
  },
  {
   "cell_type": "markdown",
   "metadata": {},
   "source": [
    "##### Of course one can also drop e.g. rows:"
   ]
  },
  {
   "cell_type": "code",
   "execution_count": null,
   "metadata": {
    "colab": {
     "base_uri": "https://localhost:8080/",
     "height": 206
    },
    "id": "t6QA-_TxgLiv",
    "outputId": "8b603d2f-815b-4fd0-b596-db63a0db9733"
   },
   "outputs": [],
   "source": [
    "df6 = df.drop('UK')    # axis=0 is the default\n",
    "df6\n"
   ]
  },
  {
   "cell_type": "markdown",
   "metadata": {
    "id": "h3C7U25OkZHd"
   },
   "source": [
    "##### Columns can be renamed\n",
    "##### (1) by the 'rename' function"
   ]
  },
  {
   "cell_type": "code",
   "execution_count": 68,
   "metadata": {
    "colab": {
     "base_uri": "https://localhost:8080/",
     "height": 237
    },
    "id": "iqaUG2zmkcln",
    "outputId": "a9a9ca81-63e0-4372-9bd0-b8d244e1a495"
   },
   "outputs": [
    {
     "data": {
      "text/html": [
       "<div>\n",
       "<style scoped>\n",
       "    .dataframe tbody tr th:only-of-type {\n",
       "        vertical-align: middle;\n",
       "    }\n",
       "\n",
       "    .dataframe tbody tr th {\n",
       "        vertical-align: top;\n",
       "    }\n",
       "\n",
       "    .dataframe thead th {\n",
       "        text-align: right;\n",
       "    }\n",
       "</style>\n",
       "<table border=\"1\" class=\"dataframe\">\n",
       "  <thead>\n",
       "    <tr style=\"text-align: right;\">\n",
       "      <th></th>\n",
       "      <th>country</th>\n",
       "      <th>population</th>\n",
       "      <th>square_km</th>\n",
       "      <th>density_per_square_km</th>\n",
       "    </tr>\n",
       "  </thead>\n",
       "  <tbody>\n",
       "    <tr>\n",
       "      <th>DE</th>\n",
       "      <td>Germany</td>\n",
       "      <td>83.78</td>\n",
       "      <td>348560</td>\n",
       "      <td>240</td>\n",
       "    </tr>\n",
       "    <tr>\n",
       "      <th>UK</th>\n",
       "      <td>United Kingdom</td>\n",
       "      <td>67.89</td>\n",
       "      <td>241930</td>\n",
       "      <td>280</td>\n",
       "    </tr>\n",
       "    <tr>\n",
       "      <th>FR</th>\n",
       "      <td>France</td>\n",
       "      <td>65.27</td>\n",
       "      <td>547557</td>\n",
       "      <td>119</td>\n",
       "    </tr>\n",
       "    <tr>\n",
       "      <th>IT</th>\n",
       "      <td>Italy</td>\n",
       "      <td>60.46</td>\n",
       "      <td>294140</td>\n",
       "      <td>205</td>\n",
       "    </tr>\n",
       "    <tr>\n",
       "      <th>SP</th>\n",
       "      <td>Spain</td>\n",
       "      <td>46.75</td>\n",
       "      <td>498800</td>\n",
       "      <td>93</td>\n",
       "    </tr>\n",
       "  </tbody>\n",
       "</table>\n",
       "</div>"
      ],
      "text/plain": [
       "           country  population  square_km  density_per_square_km\n",
       "DE         Germany       83.78     348560                    240\n",
       "UK  United Kingdom       67.89     241930                    280\n",
       "FR          France       65.27     547557                    119\n",
       "IT           Italy       60.46     294140                    205\n",
       "SP           Spain       46.75     498800                     93"
      ]
     },
     "execution_count": 68,
     "metadata": {},
     "output_type": "execute_result"
    }
   ],
   "source": [
    "df7 = df.rename(columns={'density': 'density_per_square_km'})\n",
    "df7\n"
   ]
  },
  {
   "cell_type": "markdown",
   "metadata": {},
   "source": [
    "##### ... or (2) by assigning a list of new column names:"
   ]
  },
  {
   "cell_type": "code",
   "execution_count": 69,
   "metadata": {},
   "outputs": [
    {
     "data": {
      "text/html": [
       "<div>\n",
       "<style scoped>\n",
       "    .dataframe tbody tr th:only-of-type {\n",
       "        vertical-align: middle;\n",
       "    }\n",
       "\n",
       "    .dataframe tbody tr th {\n",
       "        vertical-align: top;\n",
       "    }\n",
       "\n",
       "    .dataframe thead th {\n",
       "        text-align: right;\n",
       "    }\n",
       "</style>\n",
       "<table border=\"1\" class=\"dataframe\">\n",
       "  <thead>\n",
       "    <tr style=\"text-align: right;\">\n",
       "      <th></th>\n",
       "      <th>Country</th>\n",
       "      <th>Population</th>\n",
       "      <th>Square_km</th>\n",
       "      <th>Density_per_square_km</th>\n",
       "    </tr>\n",
       "  </thead>\n",
       "  <tbody>\n",
       "    <tr>\n",
       "      <th>DE</th>\n",
       "      <td>Germany</td>\n",
       "      <td>83.78</td>\n",
       "      <td>348560</td>\n",
       "      <td>240</td>\n",
       "    </tr>\n",
       "    <tr>\n",
       "      <th>UK</th>\n",
       "      <td>United Kingdom</td>\n",
       "      <td>67.89</td>\n",
       "      <td>241930</td>\n",
       "      <td>280</td>\n",
       "    </tr>\n",
       "    <tr>\n",
       "      <th>FR</th>\n",
       "      <td>France</td>\n",
       "      <td>65.27</td>\n",
       "      <td>547557</td>\n",
       "      <td>119</td>\n",
       "    </tr>\n",
       "    <tr>\n",
       "      <th>IT</th>\n",
       "      <td>Italy</td>\n",
       "      <td>60.46</td>\n",
       "      <td>294140</td>\n",
       "      <td>205</td>\n",
       "    </tr>\n",
       "    <tr>\n",
       "      <th>SP</th>\n",
       "      <td>Spain</td>\n",
       "      <td>46.75</td>\n",
       "      <td>498800</td>\n",
       "      <td>93</td>\n",
       "    </tr>\n",
       "  </tbody>\n",
       "</table>\n",
       "</div>"
      ],
      "text/plain": [
       "           Country  Population  Square_km  Density_per_square_km\n",
       "DE         Germany       83.78     348560                    240\n",
       "UK  United Kingdom       67.89     241930                    280\n",
       "FR          France       65.27     547557                    119\n",
       "IT           Italy       60.46     294140                    205\n",
       "SP           Spain       46.75     498800                     93"
      ]
     },
     "execution_count": 69,
     "metadata": {},
     "output_type": "execute_result"
    }
   ],
   "source": [
    "df7.columns = ['Country', 'Population' ,'Square_km', 'Density_per_square_km']\n",
    "df7\n"
   ]
  },
  {
   "cell_type": "markdown",
   "metadata": {},
   "source": [
    "##### Here is a bit more complex way to bringing back the uppercase to lowercase:"
   ]
  },
  {
   "cell_type": "code",
   "execution_count": 70,
   "metadata": {},
   "outputs": [
    {
     "data": {
      "text/html": [
       "<div>\n",
       "<style scoped>\n",
       "    .dataframe tbody tr th:only-of-type {\n",
       "        vertical-align: middle;\n",
       "    }\n",
       "\n",
       "    .dataframe tbody tr th {\n",
       "        vertical-align: top;\n",
       "    }\n",
       "\n",
       "    .dataframe thead th {\n",
       "        text-align: right;\n",
       "    }\n",
       "</style>\n",
       "<table border=\"1\" class=\"dataframe\">\n",
       "  <thead>\n",
       "    <tr style=\"text-align: right;\">\n",
       "      <th></th>\n",
       "      <th>country</th>\n",
       "      <th>population</th>\n",
       "      <th>square_km</th>\n",
       "      <th>density_per_square_km</th>\n",
       "    </tr>\n",
       "  </thead>\n",
       "  <tbody>\n",
       "    <tr>\n",
       "      <th>DE</th>\n",
       "      <td>Germany</td>\n",
       "      <td>83.78</td>\n",
       "      <td>348560</td>\n",
       "      <td>240</td>\n",
       "    </tr>\n",
       "    <tr>\n",
       "      <th>UK</th>\n",
       "      <td>United Kingdom</td>\n",
       "      <td>67.89</td>\n",
       "      <td>241930</td>\n",
       "      <td>280</td>\n",
       "    </tr>\n",
       "    <tr>\n",
       "      <th>FR</th>\n",
       "      <td>France</td>\n",
       "      <td>65.27</td>\n",
       "      <td>547557</td>\n",
       "      <td>119</td>\n",
       "    </tr>\n",
       "    <tr>\n",
       "      <th>IT</th>\n",
       "      <td>Italy</td>\n",
       "      <td>60.46</td>\n",
       "      <td>294140</td>\n",
       "      <td>205</td>\n",
       "    </tr>\n",
       "    <tr>\n",
       "      <th>SP</th>\n",
       "      <td>Spain</td>\n",
       "      <td>46.75</td>\n",
       "      <td>498800</td>\n",
       "      <td>93</td>\n",
       "    </tr>\n",
       "  </tbody>\n",
       "</table>\n",
       "</div>"
      ],
      "text/plain": [
       "           country  population  square_km  density_per_square_km\n",
       "DE         Germany       83.78     348560                    240\n",
       "UK  United Kingdom       67.89     241930                    280\n",
       "FR          France       65.27     547557                    119\n",
       "IT           Italy       60.46     294140                    205\n",
       "SP           Spain       46.75     498800                     93"
      ]
     },
     "execution_count": 70,
     "metadata": {},
     "output_type": "execute_result"
    }
   ],
   "source": [
    "df7.columns=pd.Series(df7.columns).str.lower().to_list()\n",
    "df7"
   ]
  },
  {
   "cell_type": "markdown",
   "metadata": {},
   "source": [
    "### 4. Reading and Writing"
   ]
  },
  {
   "cell_type": "markdown",
   "metadata": {
    "id": "mlI7f33Krjtf"
   },
   "source": [
    "##### Pandas supports many popular file formats including CSV, XML, HTML, Excel, SQL, JSON and many more.\n",
    "\n",
    "##### Probably one of the most used format is CSV. &emsp;To save your DataFrame to a csv file: \n"
   ]
  },
  {
   "cell_type": "code",
   "execution_count": 71,
   "metadata": {},
   "outputs": [
    {
     "data": {
      "text/html": [
       "<div>\n",
       "<style scoped>\n",
       "    .dataframe tbody tr th:only-of-type {\n",
       "        vertical-align: middle;\n",
       "    }\n",
       "\n",
       "    .dataframe tbody tr th {\n",
       "        vertical-align: top;\n",
       "    }\n",
       "\n",
       "    .dataframe thead th {\n",
       "        text-align: right;\n",
       "    }\n",
       "</style>\n",
       "<table border=\"1\" class=\"dataframe\">\n",
       "  <thead>\n",
       "    <tr style=\"text-align: right;\">\n",
       "      <th></th>\n",
       "      <th>country</th>\n",
       "      <th>population</th>\n",
       "      <th>square_km</th>\n",
       "      <th>density</th>\n",
       "    </tr>\n",
       "  </thead>\n",
       "  <tbody>\n",
       "    <tr>\n",
       "      <th>DE</th>\n",
       "      <td>Germany</td>\n",
       "      <td>83.78</td>\n",
       "      <td>348560</td>\n",
       "      <td>240</td>\n",
       "    </tr>\n",
       "    <tr>\n",
       "      <th>UK</th>\n",
       "      <td>United Kingdom</td>\n",
       "      <td>67.89</td>\n",
       "      <td>241930</td>\n",
       "      <td>280</td>\n",
       "    </tr>\n",
       "    <tr>\n",
       "      <th>FR</th>\n",
       "      <td>France</td>\n",
       "      <td>65.27</td>\n",
       "      <td>547557</td>\n",
       "      <td>119</td>\n",
       "    </tr>\n",
       "    <tr>\n",
       "      <th>IT</th>\n",
       "      <td>Italy</td>\n",
       "      <td>60.46</td>\n",
       "      <td>294140</td>\n",
       "      <td>205</td>\n",
       "    </tr>\n",
       "    <tr>\n",
       "      <th>SP</th>\n",
       "      <td>Spain</td>\n",
       "      <td>46.75</td>\n",
       "      <td>498800</td>\n",
       "      <td>93</td>\n",
       "    </tr>\n",
       "  </tbody>\n",
       "</table>\n",
       "</div>"
      ],
      "text/plain": [
       "           country  population  square_km  density\n",
       "DE         Germany       83.78     348560      240\n",
       "UK  United Kingdom       67.89     241930      280\n",
       "FR          France       65.27     547557      119\n",
       "IT           Italy       60.46     294140      205\n",
       "SP           Spain       46.75     498800       93"
      ]
     },
     "execution_count": 71,
     "metadata": {},
     "output_type": "execute_result"
    }
   ],
   "source": [
    "df"
   ]
  },
  {
   "cell_type": "code",
   "execution_count": 72,
   "metadata": {
    "id": "MFxArZ0M3h9w"
   },
   "outputs": [],
   "source": [
    "df.to_csv('df_table.csv')"
   ]
  },
  {
   "cell_type": "code",
   "execution_count": 73,
   "metadata": {
    "colab": {
     "base_uri": "https://localhost:8080/"
    },
    "id": "sPJrgvhAruei",
    "outputId": "1479dbcc-f5fa-45e3-cd5a-5684a3f64249"
   },
   "outputs": [
    {
     "name": "stdout",
     "output_type": "stream",
     "text": [
      "covid19-sample.csv  df_table.csv\n"
     ]
    }
   ],
   "source": [
    "! ls *.csv"
   ]
  },
  {
   "cell_type": "code",
   "execution_count": null,
   "metadata": {},
   "outputs": [],
   "source": [
    "! cat df_table.csv"
   ]
  },
  {
   "cell_type": "markdown",
   "metadata": {
    "id": "qaJY0GWH4fKF"
   },
   "source": [
    "##### The 'to_csv' method takes many arguments (for example, the type of separator character)."
   ]
  },
  {
   "cell_type": "markdown",
   "metadata": {
    "id": "Q1z8RhHU6rh_"
   },
   "source": [
    "##### What about *reading* data ?"
   ]
  },
  {
   "cell_type": "code",
   "execution_count": 74,
   "metadata": {
    "colab": {
     "base_uri": "https://localhost:8080/",
     "height": 206
    },
    "id": "NiID25Fh6-gP",
    "outputId": "9a3373a0-b648-4727-dc7f-fa7656ba994a"
   },
   "outputs": [
    {
     "data": {
      "text/html": [
       "<div>\n",
       "<style scoped>\n",
       "    .dataframe tbody tr th:only-of-type {\n",
       "        vertical-align: middle;\n",
       "    }\n",
       "\n",
       "    .dataframe tbody tr th {\n",
       "        vertical-align: top;\n",
       "    }\n",
       "\n",
       "    .dataframe thead th {\n",
       "        text-align: right;\n",
       "    }\n",
       "</style>\n",
       "<table border=\"1\" class=\"dataframe\">\n",
       "  <thead>\n",
       "    <tr style=\"text-align: right;\">\n",
       "      <th></th>\n",
       "      <th>Unnamed: 0</th>\n",
       "      <th>country</th>\n",
       "      <th>population</th>\n",
       "      <th>square_km</th>\n",
       "      <th>density</th>\n",
       "    </tr>\n",
       "  </thead>\n",
       "  <tbody>\n",
       "    <tr>\n",
       "      <th>0</th>\n",
       "      <td>DE</td>\n",
       "      <td>Germany</td>\n",
       "      <td>83.78</td>\n",
       "      <td>348560</td>\n",
       "      <td>240</td>\n",
       "    </tr>\n",
       "    <tr>\n",
       "      <th>1</th>\n",
       "      <td>UK</td>\n",
       "      <td>United Kingdom</td>\n",
       "      <td>67.89</td>\n",
       "      <td>241930</td>\n",
       "      <td>280</td>\n",
       "    </tr>\n",
       "    <tr>\n",
       "      <th>2</th>\n",
       "      <td>FR</td>\n",
       "      <td>France</td>\n",
       "      <td>65.27</td>\n",
       "      <td>547557</td>\n",
       "      <td>119</td>\n",
       "    </tr>\n",
       "    <tr>\n",
       "      <th>3</th>\n",
       "      <td>IT</td>\n",
       "      <td>Italy</td>\n",
       "      <td>60.46</td>\n",
       "      <td>294140</td>\n",
       "      <td>205</td>\n",
       "    </tr>\n",
       "    <tr>\n",
       "      <th>4</th>\n",
       "      <td>SP</td>\n",
       "      <td>Spain</td>\n",
       "      <td>46.75</td>\n",
       "      <td>498800</td>\n",
       "      <td>93</td>\n",
       "    </tr>\n",
       "  </tbody>\n",
       "</table>\n",
       "</div>"
      ],
      "text/plain": [
       "  Unnamed: 0         country  population  square_km  density\n",
       "0         DE         Germany       83.78     348560      240\n",
       "1         UK  United Kingdom       67.89     241930      280\n",
       "2         FR          France       65.27     547557      119\n",
       "3         IT           Italy       60.46     294140      205\n",
       "4         SP           Spain       46.75     498800       93"
      ]
     },
     "execution_count": 74,
     "metadata": {},
     "output_type": "execute_result"
    }
   ],
   "source": [
    "df_uploaded = pd.read_csv('df_table.csv')\n",
    "df_uploaded"
   ]
  },
  {
   "cell_type": "markdown",
   "metadata": {},
   "source": [
    "##### To recompose the original dataframe: "
   ]
  },
  {
   "cell_type": "code",
   "execution_count": 75,
   "metadata": {},
   "outputs": [
    {
     "data": {
      "text/html": [
       "<div>\n",
       "<style scoped>\n",
       "    .dataframe tbody tr th:only-of-type {\n",
       "        vertical-align: middle;\n",
       "    }\n",
       "\n",
       "    .dataframe tbody tr th {\n",
       "        vertical-align: top;\n",
       "    }\n",
       "\n",
       "    .dataframe thead th {\n",
       "        text-align: right;\n",
       "    }\n",
       "</style>\n",
       "<table border=\"1\" class=\"dataframe\">\n",
       "  <thead>\n",
       "    <tr style=\"text-align: right;\">\n",
       "      <th></th>\n",
       "      <th>country</th>\n",
       "      <th>population</th>\n",
       "      <th>square_km</th>\n",
       "      <th>density</th>\n",
       "    </tr>\n",
       "  </thead>\n",
       "  <tbody>\n",
       "    <tr>\n",
       "      <th>DE</th>\n",
       "      <td>Germany</td>\n",
       "      <td>83.78</td>\n",
       "      <td>348560</td>\n",
       "      <td>240</td>\n",
       "    </tr>\n",
       "    <tr>\n",
       "      <th>UK</th>\n",
       "      <td>United Kingdom</td>\n",
       "      <td>67.89</td>\n",
       "      <td>241930</td>\n",
       "      <td>280</td>\n",
       "    </tr>\n",
       "    <tr>\n",
       "      <th>FR</th>\n",
       "      <td>France</td>\n",
       "      <td>65.27</td>\n",
       "      <td>547557</td>\n",
       "      <td>119</td>\n",
       "    </tr>\n",
       "    <tr>\n",
       "      <th>IT</th>\n",
       "      <td>Italy</td>\n",
       "      <td>60.46</td>\n",
       "      <td>294140</td>\n",
       "      <td>205</td>\n",
       "    </tr>\n",
       "    <tr>\n",
       "      <th>SP</th>\n",
       "      <td>Spain</td>\n",
       "      <td>46.75</td>\n",
       "      <td>498800</td>\n",
       "      <td>93</td>\n",
       "    </tr>\n",
       "  </tbody>\n",
       "</table>\n",
       "</div>"
      ],
      "text/plain": [
       "           country  population  square_km  density\n",
       "DE         Germany       83.78     348560      240\n",
       "UK  United Kingdom       67.89     241930      280\n",
       "FR          France       65.27     547557      119\n",
       "IT           Italy       60.46     294140      205\n",
       "SP           Spain       46.75     498800       93"
      ]
     },
     "execution_count": 75,
     "metadata": {},
     "output_type": "execute_result"
    }
   ],
   "source": [
    "df_uploaded = pd.read_csv('df_table.csv', index_col=[0])\n",
    "df_uploaded"
   ]
  },
  {
   "cell_type": "markdown",
   "metadata": {},
   "source": [
    "##### ooooooooooooooooooooooooooooooooooooooooooooooooooooooooooooooooooooooooooo\n",
    "#####    "
   ]
  },
  {
   "cell_type": "markdown",
   "metadata": {
    "id": "DcSxsUquB-K8"
   },
   "source": [
    "##### Write and read Excel files:"
   ]
  },
  {
   "cell_type": "code",
   "execution_count": 76,
   "metadata": {
    "colab": {
     "base_uri": "https://localhost:8080/"
    },
    "id": "VzExzgfOAJlm",
    "outputId": "23dd8768-fea1-4a12-e373-c140e69064ba"
   },
   "outputs": [
    {
     "name": "stdout",
     "output_type": "stream",
     "text": [
      "covid19-sample.xlsx  df_table.xlsx\n"
     ]
    }
   ],
   "source": [
    "df.to_excel('df_table.xlsx')\n",
    "!ls *.xlsx"
   ]
  },
  {
   "cell_type": "markdown",
   "metadata": {},
   "source": [
    "##### The above command should issue an error, if you have not installed the 'openpyxl' package.  So please do it:"
   ]
  },
  {
   "cell_type": "code",
   "execution_count": 77,
   "metadata": {},
   "outputs": [
    {
     "name": "stdout",
     "output_type": "stream",
     "text": [
      "Requirement already satisfied: openpyxl in /opt/conda/lib/python3.9/site-packages (3.0.10)\n",
      "Requirement already satisfied: et-xmlfile in /opt/conda/lib/python3.9/site-packages (from openpyxl) (1.1.0)\n"
     ]
    }
   ],
   "source": [
    "! pip install openpyxl"
   ]
  },
  {
   "cell_type": "code",
   "execution_count": 79,
   "metadata": {},
   "outputs": [
    {
     "name": "stdout",
     "output_type": "stream",
     "text": [
      "covid19-sample.xlsx  df_table.xlsx\n"
     ]
    }
   ],
   "source": [
    "df.to_excel('df_table.xlsx')\n",
    "!ls *.xlsx"
   ]
  },
  {
   "cell_type": "code",
   "execution_count": 80,
   "metadata": {
    "id": "1thcn2tZAzjD"
   },
   "outputs": [
    {
     "data": {
      "text/html": [
       "<div>\n",
       "<style scoped>\n",
       "    .dataframe tbody tr th:only-of-type {\n",
       "        vertical-align: middle;\n",
       "    }\n",
       "\n",
       "    .dataframe tbody tr th {\n",
       "        vertical-align: top;\n",
       "    }\n",
       "\n",
       "    .dataframe thead th {\n",
       "        text-align: right;\n",
       "    }\n",
       "</style>\n",
       "<table border=\"1\" class=\"dataframe\">\n",
       "  <thead>\n",
       "    <tr style=\"text-align: right;\">\n",
       "      <th></th>\n",
       "      <th>country</th>\n",
       "      <th>population</th>\n",
       "      <th>square_km</th>\n",
       "      <th>density</th>\n",
       "    </tr>\n",
       "  </thead>\n",
       "  <tbody>\n",
       "    <tr>\n",
       "      <th>DE</th>\n",
       "      <td>Germany</td>\n",
       "      <td>83.78</td>\n",
       "      <td>348560</td>\n",
       "      <td>240</td>\n",
       "    </tr>\n",
       "    <tr>\n",
       "      <th>UK</th>\n",
       "      <td>United Kingdom</td>\n",
       "      <td>67.89</td>\n",
       "      <td>241930</td>\n",
       "      <td>280</td>\n",
       "    </tr>\n",
       "    <tr>\n",
       "      <th>FR</th>\n",
       "      <td>France</td>\n",
       "      <td>65.27</td>\n",
       "      <td>547557</td>\n",
       "      <td>119</td>\n",
       "    </tr>\n",
       "    <tr>\n",
       "      <th>IT</th>\n",
       "      <td>Italy</td>\n",
       "      <td>60.46</td>\n",
       "      <td>294140</td>\n",
       "      <td>205</td>\n",
       "    </tr>\n",
       "    <tr>\n",
       "      <th>SP</th>\n",
       "      <td>Spain</td>\n",
       "      <td>46.75</td>\n",
       "      <td>498800</td>\n",
       "      <td>93</td>\n",
       "    </tr>\n",
       "  </tbody>\n",
       "</table>\n",
       "</div>"
      ],
      "text/plain": [
       "           country  population  square_km  density\n",
       "DE         Germany       83.78     348560      240\n",
       "UK  United Kingdom       67.89     241930      280\n",
       "FR          France       65.27     547557      119\n",
       "IT           Italy       60.46     294140      205\n",
       "SP           Spain       46.75     498800       93"
      ]
     },
     "execution_count": 80,
     "metadata": {},
     "output_type": "execute_result"
    }
   ],
   "source": [
    "df_from_excel = pd.read_excel('df_table.xlsx', index_col=[0])\n",
    "df_from_excel "
   ]
  },
  {
   "cell_type": "markdown",
   "metadata": {
    "id": "sjLRVi_pGGwQ"
   },
   "source": [
    "##### Create a dataframe from a URL:"
   ]
  },
  {
   "cell_type": "code",
   "execution_count": 81,
   "metadata": {},
   "outputs": [
    {
     "name": "stdout",
     "output_type": "stream",
     "text": [
      "--2022-11-25 20:35:53--  http://bit.ly/movieusers\n",
      "Resolving bit.ly (bit.ly)... 67.199.248.11, 67.199.248.10\n",
      "Connecting to bit.ly (bit.ly)|67.199.248.11|:80... connected.\n",
      "HTTP request sent, awaiting response... 301 Moved Permanently\n",
      "Location: https://raw.githubusercontent.com/justmarkham/pandas-videos/master/data/u.user [following]\n",
      "--2022-11-25 20:35:54--  https://raw.githubusercontent.com/justmarkham/pandas-videos/master/data/u.user\n",
      "Resolving raw.githubusercontent.com (raw.githubusercontent.com)... 185.199.110.133, 185.199.111.133, 185.199.108.133, ...\n",
      "Connecting to raw.githubusercontent.com (raw.githubusercontent.com)|185.199.110.133|:443... connected.\n",
      "HTTP request sent, awaiting response... 200 OK\n",
      "Length: 22628 (22K) [text/plain]\n",
      "Saving to: ‘movieusers.1’\n",
      "\n",
      "movieusers.1        100%[===================>]  22.10K  --.-KB/s    in 0.04s   \n",
      "\n",
      "2022-11-25 20:35:54 (614 KB/s) - ‘movieusers.1’ saved [22628/22628]\n",
      "\n"
     ]
    }
   ],
   "source": [
    "! wget http://bit.ly/movieusers"
   ]
  },
  {
   "cell_type": "code",
   "execution_count": 82,
   "metadata": {},
   "outputs": [
    {
     "name": "stdout",
     "output_type": "stream",
     "text": [
      "1|24|M|technician|85711\n",
      "2|53|F|other|94043\n",
      "3|23|M|writer|32067\n",
      "4|24|M|technician|43537\n",
      "5|33|F|other|15213\n",
      "6|42|M|executive|98101\n",
      "7|57|M|administrator|91344\n",
      "8|36|M|administrator|05201\n",
      "9|29|M|student|01002\n",
      "10|53|M|lawyer|90703\n",
      "11|39|F|other|30329\n",
      "12|28|F|other|06405\n",
      "13|47|M|educator|29206\n",
      "14|45|M|scientist|55106\n",
      "15|49|F|educator|97301\n",
      "16|21|M|entertainment|10309\n",
      "17|30|M|programmer|06355\n",
      "18|35|F|other|37212\n",
      "19|40|M|librarian|02138\n",
      "20|42|F|homemaker|95660\n",
      "21|26|M|writer|30068\n",
      "22|25|M|writer|40206\n",
      "23|30|F|artist|48197\n",
      "24|21|F|artist|94533\n",
      "25|39|M|engineer|55107\n",
      "26|49|M|engineer|21044\n",
      "27|40|F|librarian|30030\n",
      "28|32|M|writer|55369\n",
      "29|41|M|programmer|94043\n",
      "30|7|M|student|55436\n",
      "31|24|M|artist|10003\n",
      "32|28|F|student|78741\n",
      "33|23|M|student|27510\n",
      "34|38|F|administrator|42141\n",
      "35|20|F|homemaker|42459\n",
      "36|19|F|student|93117\n",
      "37|23|M|student|55105\n",
      "38|28|F|other|54467\n",
      "39|41|M|entertainment|01040\n",
      "40|38|M|scientist|27514\n",
      "41|33|M|engineer|80525\n",
      "42|30|M|administrator|17870\n",
      "43|29|F|librarian|20854\n",
      "44|26|M|technician|46260\n",
      "45|29|M|programmer|50233\n",
      "46|27|F|marketing|46538\n",
      "47|53|M|marketing|07102\n",
      "48|45|M|administrator|12550\n",
      "49|23|F|student|76111\n",
      "50|21|M|writer|52245\n",
      "51|28|M|educator|16509\n",
      "52|18|F|student|55105\n",
      "53|26|M|programmer|55414\n",
      "54|22|M|executive|66315\n",
      "55|37|M|programmer|01331\n",
      "56|25|M|librarian|46260\n",
      "57|16|M|none|84010\n",
      "58|27|M|programmer|52246\n",
      "59|49|M|educator|08403\n",
      "60|50|M|healthcare|06472\n",
      "61|36|M|engineer|30040\n",
      "62|27|F|administrator|97214\n",
      "63|31|M|marketing|75240\n",
      "64|32|M|educator|43202\n",
      "65|51|F|educator|48118\n",
      "66|23|M|student|80521\n",
      "67|17|M|student|60402\n",
      "68|19|M|student|22904\n",
      "69|24|M|engineer|55337\n",
      "70|27|M|engineer|60067\n",
      "71|39|M|scientist|98034\n",
      "72|48|F|administrator|73034\n",
      "73|24|M|student|41850\n",
      "74|39|M|scientist|T8H1N\n",
      "75|24|M|entertainment|08816\n",
      "76|20|M|student|02215\n",
      "77|30|M|technician|29379\n",
      "78|26|M|administrator|61801\n",
      "79|39|F|administrator|03755\n",
      "80|34|F|administrator|52241\n",
      "81|21|M|student|21218\n",
      "82|50|M|programmer|22902\n",
      "83|40|M|other|44133\n",
      "84|32|M|executive|55369\n",
      "85|51|M|educator|20003\n",
      "86|26|M|administrator|46005\n",
      "87|47|M|administrator|89503\n",
      "88|49|F|librarian|11701\n",
      "89|43|F|administrator|68106\n",
      "90|60|M|educator|78155\n",
      "91|55|M|marketing|01913\n",
      "92|32|M|entertainment|80525\n",
      "93|48|M|executive|23112\n",
      "94|26|M|student|71457\n",
      "95|31|M|administrator|10707\n",
      "96|25|F|artist|75206\n",
      "97|43|M|artist|98006\n",
      "98|49|F|executive|90291\n",
      "99|20|M|student|63129\n",
      "100|36|M|executive|90254\n",
      "101|15|M|student|05146\n",
      "102|38|M|programmer|30220\n",
      "103|26|M|student|55108\n",
      "104|27|M|student|55108\n",
      "105|24|M|engineer|94043\n",
      "106|61|M|retired|55125\n",
      "107|39|M|scientist|60466\n",
      "108|44|M|educator|63130\n",
      "109|29|M|other|55423\n",
      "110|19|M|student|77840\n",
      "111|57|M|engineer|90630\n",
      "112|30|M|salesman|60613\n",
      "113|47|M|executive|95032\n",
      "114|27|M|programmer|75013\n",
      "115|31|M|engineer|17110\n",
      "116|40|M|healthcare|97232\n",
      "117|20|M|student|16125\n",
      "118|21|M|administrator|90210\n",
      "119|32|M|programmer|67401\n",
      "120|47|F|other|06260\n",
      "121|54|M|librarian|99603\n",
      "122|32|F|writer|22206\n",
      "123|48|F|artist|20008\n",
      "124|34|M|student|60615\n",
      "125|30|M|lawyer|22202\n",
      "126|28|F|lawyer|20015\n",
      "127|33|M|none|73439\n",
      "128|24|F|marketing|20009\n",
      "129|36|F|marketing|07039\n",
      "130|20|M|none|60115\n",
      "131|59|F|administrator|15237\n",
      "132|24|M|other|94612\n",
      "133|53|M|engineer|78602\n",
      "134|31|M|programmer|80236\n",
      "135|23|M|student|38401\n",
      "136|51|M|other|97365\n",
      "137|50|M|educator|84408\n",
      "138|46|M|doctor|53211\n",
      "139|20|M|student|08904\n",
      "140|30|F|student|32250\n",
      "141|49|M|programmer|36117\n",
      "142|13|M|other|48118\n",
      "143|42|M|technician|08832\n",
      "144|53|M|programmer|20910\n",
      "145|31|M|entertainment|V3N4P\n",
      "146|45|M|artist|83814\n",
      "147|40|F|librarian|02143\n",
      "148|33|M|engineer|97006\n",
      "149|35|F|marketing|17325\n",
      "150|20|F|artist|02139\n",
      "151|38|F|administrator|48103\n",
      "152|33|F|educator|68767\n",
      "153|25|M|student|60641\n",
      "154|25|M|student|53703\n",
      "155|32|F|other|11217\n",
      "156|25|M|educator|08360\n",
      "157|57|M|engineer|70808\n",
      "158|50|M|educator|27606\n",
      "159|23|F|student|55346\n",
      "160|27|M|programmer|66215\n",
      "161|50|M|lawyer|55104\n",
      "162|25|M|artist|15610\n",
      "163|49|M|administrator|97212\n",
      "164|47|M|healthcare|80123\n",
      "165|20|F|other|53715\n",
      "166|47|M|educator|55113\n",
      "167|37|M|other|L9G2B\n",
      "168|48|M|other|80127\n",
      "169|52|F|other|53705\n",
      "170|53|F|healthcare|30067\n",
      "171|48|F|educator|78750\n",
      "172|55|M|marketing|22207\n",
      "173|56|M|other|22306\n",
      "174|30|F|administrator|52302\n",
      "175|26|F|scientist|21911\n",
      "176|28|M|scientist|07030\n",
      "177|20|M|programmer|19104\n",
      "178|26|M|other|49512\n",
      "179|15|M|entertainment|20755\n",
      "180|22|F|administrator|60202\n",
      "181|26|M|executive|21218\n",
      "182|36|M|programmer|33884\n",
      "183|33|M|scientist|27708\n",
      "184|37|M|librarian|76013\n",
      "185|53|F|librarian|97403\n",
      "186|39|F|executive|00000\n",
      "187|26|M|educator|16801\n",
      "188|42|M|student|29440\n",
      "189|32|M|artist|95014\n",
      "190|30|M|administrator|95938\n",
      "191|33|M|administrator|95161\n",
      "192|42|M|educator|90840\n",
      "193|29|M|student|49931\n",
      "194|38|M|administrator|02154\n",
      "195|42|M|scientist|93555\n",
      "196|49|M|writer|55105\n",
      "197|55|M|technician|75094\n",
      "198|21|F|student|55414\n",
      "199|30|M|writer|17604\n",
      "200|40|M|programmer|93402\n",
      "201|27|M|writer|E2A4H\n",
      "202|41|F|educator|60201\n",
      "203|25|F|student|32301\n",
      "204|52|F|librarian|10960\n",
      "205|47|M|lawyer|06371\n",
      "206|14|F|student|53115\n",
      "207|39|M|marketing|92037\n",
      "208|43|M|engineer|01720\n",
      "209|33|F|educator|85710\n",
      "210|39|M|engineer|03060\n",
      "211|66|M|salesman|32605\n",
      "212|49|F|educator|61401\n",
      "213|33|M|executive|55345\n",
      "214|26|F|librarian|11231\n",
      "215|35|M|programmer|63033\n",
      "216|22|M|engineer|02215\n",
      "217|22|M|other|11727\n",
      "218|37|M|administrator|06513\n",
      "219|32|M|programmer|43212\n",
      "220|30|M|librarian|78205\n",
      "221|19|M|student|20685\n",
      "222|29|M|programmer|27502\n",
      "223|19|F|student|47906\n",
      "224|31|F|educator|43512\n",
      "225|51|F|administrator|58202\n",
      "226|28|M|student|92103\n",
      "227|46|M|executive|60659\n",
      "228|21|F|student|22003\n",
      "229|29|F|librarian|22903\n",
      "230|28|F|student|14476\n",
      "231|48|M|librarian|01080\n",
      "232|45|M|scientist|99709\n",
      "233|38|M|engineer|98682\n",
      "234|60|M|retired|94702\n",
      "235|37|M|educator|22973\n",
      "236|44|F|writer|53214\n",
      "237|49|M|administrator|63146\n",
      "238|42|F|administrator|44124\n",
      "239|39|M|artist|95628\n",
      "240|23|F|educator|20784\n",
      "241|26|F|student|20001\n",
      "242|33|M|educator|31404\n",
      "243|33|M|educator|60201\n",
      "244|28|M|technician|80525\n",
      "245|22|M|student|55109\n",
      "246|19|M|student|28734\n",
      "247|28|M|engineer|20770\n",
      "248|25|M|student|37235\n",
      "249|25|M|student|84103\n",
      "250|29|M|executive|95110\n",
      "251|28|M|doctor|85032\n",
      "252|42|M|engineer|07733\n",
      "253|26|F|librarian|22903\n",
      "254|44|M|educator|42647\n",
      "255|23|M|entertainment|07029\n",
      "256|35|F|none|39042\n",
      "257|17|M|student|77005\n",
      "258|19|F|student|77801\n",
      "259|21|M|student|48823\n",
      "260|40|F|artist|89801\n",
      "261|28|M|administrator|85202\n",
      "262|19|F|student|78264\n",
      "263|41|M|programmer|55346\n",
      "264|36|F|writer|90064\n",
      "265|26|M|executive|84601\n",
      "266|62|F|administrator|78756\n",
      "267|23|M|engineer|83716\n",
      "268|24|M|engineer|19422\n",
      "269|31|F|librarian|43201\n",
      "270|18|F|student|63119\n",
      "271|51|M|engineer|22932\n",
      "272|33|M|scientist|53706\n",
      "273|50|F|other|10016\n",
      "274|20|F|student|55414\n",
      "275|38|M|engineer|92064\n",
      "276|21|M|student|95064\n",
      "277|35|F|administrator|55406\n",
      "278|37|F|librarian|30033\n",
      "279|33|M|programmer|85251\n",
      "280|30|F|librarian|22903\n",
      "281|15|F|student|06059\n",
      "282|22|M|administrator|20057\n",
      "283|28|M|programmer|55305\n",
      "284|40|M|executive|92629\n",
      "285|25|M|programmer|53713\n",
      "286|27|M|student|15217\n",
      "287|21|M|salesman|31211\n",
      "288|34|M|marketing|23226\n",
      "289|11|M|none|94619\n",
      "290|40|M|engineer|93550\n",
      "291|19|M|student|44106\n",
      "292|35|F|programmer|94703\n",
      "293|24|M|writer|60804\n",
      "294|34|M|technician|92110\n",
      "295|31|M|educator|50325\n",
      "296|43|F|administrator|16803\n",
      "297|29|F|educator|98103\n",
      "298|44|M|executive|01581\n",
      "299|29|M|doctor|63108\n",
      "300|26|F|programmer|55106\n",
      "301|24|M|student|55439\n",
      "302|42|M|educator|77904\n",
      "303|19|M|student|14853\n",
      "304|22|F|student|71701\n",
      "305|23|M|programmer|94086\n",
      "306|45|M|other|73132\n",
      "307|25|M|student|55454\n",
      "308|60|M|retired|95076\n",
      "309|40|M|scientist|70802\n",
      "310|37|M|educator|91711\n",
      "311|32|M|technician|73071\n",
      "312|48|M|other|02110\n",
      "313|41|M|marketing|60035\n",
      "314|20|F|student|08043\n",
      "315|31|M|educator|18301\n",
      "316|43|F|other|77009\n",
      "317|22|M|administrator|13210\n",
      "318|65|M|retired|06518\n",
      "319|38|M|programmer|22030\n",
      "320|19|M|student|24060\n",
      "321|49|F|educator|55413\n",
      "322|20|M|student|50613\n",
      "323|21|M|student|19149\n",
      "324|21|F|student|02176\n",
      "325|48|M|technician|02139\n",
      "326|41|M|administrator|15235\n",
      "327|22|M|student|11101\n",
      "328|51|M|administrator|06779\n",
      "329|48|M|educator|01720\n",
      "330|35|F|educator|33884\n",
      "331|33|M|entertainment|91344\n",
      "332|20|M|student|40504\n",
      "333|47|M|other|V0R2M\n",
      "334|32|M|librarian|30002\n",
      "335|45|M|executive|33775\n",
      "336|23|M|salesman|42101\n",
      "337|37|M|scientist|10522\n",
      "338|39|F|librarian|59717\n",
      "339|35|M|lawyer|37901\n",
      "340|46|M|engineer|80123\n",
      "341|17|F|student|44405\n",
      "342|25|F|other|98006\n",
      "343|43|M|engineer|30093\n",
      "344|30|F|librarian|94117\n",
      "345|28|F|librarian|94143\n",
      "346|34|M|other|76059\n",
      "347|18|M|student|90210\n",
      "348|24|F|student|45660\n",
      "349|68|M|retired|61455\n",
      "350|32|M|student|97301\n",
      "351|61|M|educator|49938\n",
      "352|37|F|programmer|55105\n",
      "353|25|M|scientist|28480\n",
      "354|29|F|librarian|48197\n",
      "355|25|M|student|60135\n",
      "356|32|F|homemaker|92688\n",
      "357|26|M|executive|98133\n",
      "358|40|M|educator|10022\n",
      "359|22|M|student|61801\n",
      "360|51|M|other|98027\n",
      "361|22|M|student|44074\n",
      "362|35|F|homemaker|85233\n",
      "363|20|M|student|87501\n",
      "364|63|M|engineer|01810\n",
      "365|29|M|lawyer|20009\n",
      "366|20|F|student|50670\n",
      "367|17|M|student|37411\n",
      "368|18|M|student|92113\n",
      "369|24|M|student|91335\n",
      "370|52|M|writer|08534\n",
      "371|36|M|engineer|99206\n",
      "372|25|F|student|66046\n",
      "373|24|F|other|55116\n",
      "374|36|M|executive|78746\n",
      "375|17|M|entertainment|37777\n",
      "376|28|F|other|10010\n",
      "377|22|M|student|18015\n",
      "378|35|M|student|02859\n",
      "379|44|M|programmer|98117\n",
      "380|32|M|engineer|55117\n",
      "381|33|M|artist|94608\n",
      "382|45|M|engineer|01824\n",
      "383|42|M|administrator|75204\n",
      "384|52|M|programmer|45218\n",
      "385|36|M|writer|10003\n",
      "386|36|M|salesman|43221\n",
      "387|33|M|entertainment|37412\n",
      "388|31|M|other|36106\n",
      "389|44|F|writer|83702\n",
      "390|42|F|writer|85016\n",
      "391|23|M|student|84604\n",
      "392|52|M|writer|59801\n",
      "393|19|M|student|83686\n",
      "394|25|M|administrator|96819\n",
      "395|43|M|other|44092\n",
      "396|57|M|engineer|94551\n",
      "397|17|M|student|27514\n",
      "398|40|M|other|60008\n",
      "399|25|M|other|92374\n",
      "400|33|F|administrator|78213\n",
      "401|46|F|healthcare|84107\n",
      "402|30|M|engineer|95129\n",
      "403|37|M|other|06811\n",
      "404|29|F|programmer|55108\n",
      "405|22|F|healthcare|10019\n",
      "406|52|M|educator|93109\n",
      "407|29|M|engineer|03261\n",
      "408|23|M|student|61755\n",
      "409|48|M|administrator|98225\n",
      "410|30|F|artist|94025\n",
      "411|34|M|educator|44691\n",
      "412|25|M|educator|15222\n",
      "413|55|M|educator|78212\n",
      "414|24|M|programmer|38115\n",
      "415|39|M|educator|85711\n",
      "416|20|F|student|92626\n",
      "417|27|F|other|48103\n",
      "418|55|F|none|21206\n",
      "419|37|M|lawyer|43215\n",
      "420|53|M|educator|02140\n",
      "421|38|F|programmer|55105\n",
      "422|26|M|entertainment|94533\n",
      "423|64|M|other|91606\n",
      "424|36|F|marketing|55422\n",
      "425|19|M|student|58644\n",
      "426|55|M|educator|01602\n",
      "427|51|M|doctor|85258\n",
      "428|28|M|student|55414\n",
      "429|27|M|student|29205\n",
      "430|38|M|scientist|98199\n",
      "431|24|M|marketing|92629\n",
      "432|22|M|entertainment|50311\n",
      "433|27|M|artist|11211\n",
      "434|16|F|student|49705\n",
      "435|24|M|engineer|60007\n",
      "436|30|F|administrator|17345\n",
      "437|27|F|other|20009\n",
      "438|51|F|administrator|43204\n",
      "439|23|F|administrator|20817\n",
      "440|30|M|other|48076\n",
      "441|50|M|technician|55013\n",
      "442|22|M|student|85282\n",
      "443|35|M|salesman|33308\n",
      "444|51|F|lawyer|53202\n",
      "445|21|M|writer|92653\n",
      "446|57|M|educator|60201\n",
      "447|30|M|administrator|55113\n",
      "448|23|M|entertainment|10021\n",
      "449|23|M|librarian|55021\n",
      "450|35|F|educator|11758\n",
      "451|16|M|student|48446\n",
      "452|35|M|administrator|28018\n",
      "453|18|M|student|06333\n",
      "454|57|M|other|97330\n",
      "455|48|M|administrator|83709\n",
      "456|24|M|technician|31820\n",
      "457|33|F|salesman|30011\n",
      "458|47|M|technician|Y1A6B\n",
      "459|22|M|student|29201\n",
      "460|44|F|other|60630\n",
      "461|15|M|student|98102\n",
      "462|19|F|student|02918\n",
      "463|48|F|healthcare|75218\n",
      "464|60|M|writer|94583\n",
      "465|32|M|other|05001\n",
      "466|22|M|student|90804\n",
      "467|29|M|engineer|91201\n",
      "468|28|M|engineer|02341\n",
      "469|60|M|educator|78628\n",
      "470|24|M|programmer|10021\n",
      "471|10|M|student|77459\n",
      "472|24|M|student|87544\n",
      "473|29|M|student|94708\n",
      "474|51|M|executive|93711\n",
      "475|30|M|programmer|75230\n",
      "476|28|M|student|60440\n",
      "477|23|F|student|02125\n",
      "478|29|M|other|10019\n",
      "479|30|M|educator|55409\n",
      "480|57|M|retired|98257\n",
      "481|73|M|retired|37771\n",
      "482|18|F|student|40256\n",
      "483|29|M|scientist|43212\n",
      "484|27|M|student|21208\n",
      "485|44|F|educator|95821\n",
      "486|39|M|educator|93101\n",
      "487|22|M|engineer|92121\n",
      "488|48|M|technician|21012\n",
      "489|55|M|other|45218\n",
      "490|29|F|artist|V5A2B\n",
      "491|43|F|writer|53711\n",
      "492|57|M|educator|94618\n",
      "493|22|M|engineer|60090\n",
      "494|38|F|administrator|49428\n",
      "495|29|M|engineer|03052\n",
      "496|21|F|student|55414\n",
      "497|20|M|student|50112\n",
      "498|26|M|writer|55408\n",
      "499|42|M|programmer|75006\n",
      "500|28|M|administrator|94305\n",
      "501|22|M|student|10025\n",
      "502|22|M|student|23092\n",
      "503|50|F|writer|27514\n",
      "504|40|F|writer|92115\n",
      "505|27|F|other|20657\n",
      "506|46|M|programmer|03869\n",
      "507|18|F|writer|28450\n",
      "508|27|M|marketing|19382\n",
      "509|23|M|administrator|10011\n",
      "510|34|M|other|98038\n",
      "511|22|M|student|21250\n",
      "512|29|M|other|20090\n",
      "513|43|M|administrator|26241\n",
      "514|27|M|programmer|20707\n",
      "515|53|M|marketing|49508\n",
      "516|53|F|librarian|10021\n",
      "517|24|M|student|55454\n",
      "518|49|F|writer|99709\n",
      "519|22|M|other|55320\n",
      "520|62|M|healthcare|12603\n",
      "521|19|M|student|02146\n",
      "522|36|M|engineer|55443\n",
      "523|50|F|administrator|04102\n",
      "524|56|M|educator|02159\n",
      "525|27|F|administrator|19711\n",
      "526|30|M|marketing|97124\n",
      "527|33|M|librarian|12180\n",
      "528|18|M|student|55104\n",
      "529|47|F|administrator|44224\n",
      "530|29|M|engineer|94040\n",
      "531|30|F|salesman|97408\n",
      "532|20|M|student|92705\n",
      "533|43|M|librarian|02324\n",
      "534|20|M|student|05464\n",
      "535|45|F|educator|80302\n",
      "536|38|M|engineer|30078\n",
      "537|36|M|engineer|22902\n",
      "538|31|M|scientist|21010\n",
      "539|53|F|administrator|80303\n",
      "540|28|M|engineer|91201\n",
      "541|19|F|student|84302\n",
      "542|21|M|student|60515\n",
      "543|33|M|scientist|95123\n",
      "544|44|F|other|29464\n",
      "545|27|M|technician|08052\n",
      "546|36|M|executive|22911\n",
      "547|50|M|educator|14534\n",
      "548|51|M|writer|95468\n",
      "549|42|M|scientist|45680\n",
      "550|16|F|student|95453\n",
      "551|25|M|programmer|55414\n",
      "552|45|M|other|68147\n",
      "553|58|M|educator|62901\n",
      "554|32|M|scientist|62901\n",
      "555|29|F|educator|23227\n",
      "556|35|F|educator|30606\n",
      "557|30|F|writer|11217\n",
      "558|56|F|writer|63132\n",
      "559|69|M|executive|10022\n",
      "560|32|M|student|10003\n",
      "561|23|M|engineer|60005\n",
      "562|54|F|administrator|20879\n",
      "563|39|F|librarian|32707\n",
      "564|65|M|retired|94591\n",
      "565|40|M|student|55422\n",
      "566|20|M|student|14627\n",
      "567|24|M|entertainment|10003\n",
      "568|39|M|educator|01915\n",
      "569|34|M|educator|91903\n",
      "570|26|M|educator|14627\n",
      "571|34|M|artist|01945\n",
      "572|51|M|educator|20003\n",
      "573|68|M|retired|48911\n",
      "574|56|M|educator|53188\n",
      "575|33|M|marketing|46032\n",
      "576|48|M|executive|98281\n",
      "577|36|F|student|77845\n",
      "578|31|M|administrator|M7A1A\n",
      "579|32|M|educator|48103\n",
      "580|16|M|student|17961\n",
      "581|37|M|other|94131\n",
      "582|17|M|student|93003\n",
      "583|44|M|engineer|29631\n",
      "584|25|M|student|27511\n",
      "585|69|M|librarian|98501\n",
      "586|20|M|student|79508\n",
      "587|26|M|other|14216\n",
      "588|18|F|student|93063\n",
      "589|21|M|lawyer|90034\n",
      "590|50|M|educator|82435\n",
      "591|57|F|librarian|92093\n",
      "592|18|M|student|97520\n",
      "593|31|F|educator|68767\n",
      "594|46|M|educator|M4J2K\n",
      "595|25|M|programmer|31909\n",
      "596|20|M|artist|77073\n",
      "597|23|M|other|84116\n",
      "598|40|F|marketing|43085\n",
      "599|22|F|student|R3T5K\n",
      "600|34|M|programmer|02320\n",
      "601|19|F|artist|99687\n",
      "602|47|F|other|34656\n",
      "603|21|M|programmer|47905\n",
      "604|39|M|educator|11787\n",
      "605|33|M|engineer|33716\n",
      "606|28|M|programmer|63044\n",
      "607|49|F|healthcare|02154\n",
      "608|22|M|other|10003\n",
      "609|13|F|student|55106\n",
      "610|22|M|student|21227\n",
      "611|46|M|librarian|77008\n",
      "612|36|M|educator|79070\n",
      "613|37|F|marketing|29678\n",
      "614|54|M|educator|80227\n",
      "615|38|M|educator|27705\n",
      "616|55|M|scientist|50613\n",
      "617|27|F|writer|11201\n",
      "618|15|F|student|44212\n",
      "619|17|M|student|44134\n",
      "620|18|F|writer|81648\n",
      "621|17|M|student|60402\n",
      "622|25|M|programmer|14850\n",
      "623|50|F|educator|60187\n",
      "624|19|M|student|30067\n",
      "625|27|M|programmer|20723\n",
      "626|23|M|scientist|19807\n",
      "627|24|M|engineer|08034\n",
      "628|13|M|none|94306\n",
      "629|46|F|other|44224\n",
      "630|26|F|healthcare|55408\n",
      "631|18|F|student|38866\n",
      "632|18|M|student|55454\n",
      "633|35|M|programmer|55414\n",
      "634|39|M|engineer|T8H1N\n",
      "635|22|M|other|23237\n",
      "636|47|M|educator|48043\n",
      "637|30|M|other|74101\n",
      "638|45|M|engineer|01940\n",
      "639|42|F|librarian|12065\n",
      "640|20|M|student|61801\n",
      "641|24|M|student|60626\n",
      "642|18|F|student|95521\n",
      "643|39|M|scientist|55122\n",
      "644|51|M|retired|63645\n",
      "645|27|M|programmer|53211\n",
      "646|17|F|student|51250\n",
      "647|40|M|educator|45810\n",
      "648|43|M|engineer|91351\n",
      "649|20|M|student|39762\n",
      "650|42|M|engineer|83814\n",
      "651|65|M|retired|02903\n",
      "652|35|M|other|22911\n",
      "653|31|M|executive|55105\n",
      "654|27|F|student|78739\n",
      "655|50|F|healthcare|60657\n",
      "656|48|M|educator|10314\n",
      "657|26|F|none|78704\n",
      "658|33|M|programmer|92626\n",
      "659|31|M|educator|54248\n",
      "660|26|M|student|77380\n",
      "661|28|M|programmer|98121\n",
      "662|55|M|librarian|19102\n",
      "663|26|M|other|19341\n",
      "664|30|M|engineer|94115\n",
      "665|25|M|administrator|55412\n",
      "666|44|M|administrator|61820\n",
      "667|35|M|librarian|01970\n",
      "668|29|F|writer|10016\n",
      "669|37|M|other|20009\n",
      "670|30|M|technician|21114\n",
      "671|21|M|programmer|91919\n",
      "672|54|F|administrator|90095\n",
      "673|51|M|educator|22906\n",
      "674|13|F|student|55337\n",
      "675|34|M|other|28814\n",
      "676|30|M|programmer|32712\n",
      "677|20|M|other|99835\n",
      "678|50|M|educator|61462\n",
      "679|20|F|student|54302\n",
      "680|33|M|lawyer|90405\n",
      "681|44|F|marketing|97208\n",
      "682|23|M|programmer|55128\n",
      "683|42|M|librarian|23509\n",
      "684|28|M|student|55414\n",
      "685|32|F|librarian|55409\n",
      "686|32|M|educator|26506\n",
      "687|31|F|healthcare|27713\n",
      "688|37|F|administrator|60476\n",
      "689|25|M|other|45439\n",
      "690|35|M|salesman|63304\n",
      "691|34|M|educator|60089\n",
      "692|34|M|engineer|18053\n",
      "693|43|F|healthcare|85210\n",
      "694|60|M|programmer|06365\n",
      "695|26|M|writer|38115\n",
      "696|55|M|other|94920\n",
      "697|25|M|other|77042\n",
      "698|28|F|programmer|06906\n",
      "699|44|M|other|96754\n",
      "700|17|M|student|76309\n",
      "701|51|F|librarian|56321\n",
      "702|37|M|other|89104\n",
      "703|26|M|educator|49512\n",
      "704|51|F|librarian|91105\n",
      "705|21|F|student|54494\n",
      "706|23|M|student|55454\n",
      "707|56|F|librarian|19146\n",
      "708|26|F|homemaker|96349\n",
      "709|21|M|other|N4T1A\n",
      "710|19|M|student|92020\n",
      "711|22|F|student|15203\n",
      "712|22|F|student|54901\n",
      "713|42|F|other|07204\n",
      "714|26|M|engineer|55343\n",
      "715|21|M|technician|91206\n",
      "716|36|F|administrator|44265\n",
      "717|24|M|technician|84105\n",
      "718|42|M|technician|64118\n",
      "719|37|F|other|V0R2H\n",
      "720|49|F|administrator|16506\n",
      "721|24|F|entertainment|11238\n",
      "722|50|F|homemaker|17331\n",
      "723|26|M|executive|94403\n",
      "724|31|M|executive|40243\n",
      "725|21|M|student|91711\n",
      "726|25|F|administrator|80538\n",
      "727|25|M|student|78741\n",
      "728|58|M|executive|94306\n",
      "729|19|M|student|56567\n",
      "730|31|F|scientist|32114\n",
      "731|41|F|educator|70403\n",
      "732|28|F|other|98405\n",
      "733|44|F|other|60630\n",
      "734|25|F|other|63108\n",
      "735|29|F|healthcare|85719\n",
      "736|48|F|writer|94618\n",
      "737|30|M|programmer|98072\n",
      "738|35|M|technician|95403\n",
      "739|35|M|technician|73162\n",
      "740|25|F|educator|22206\n",
      "741|25|M|writer|63108\n",
      "742|35|M|student|29210\n",
      "743|31|M|programmer|92660\n",
      "744|35|M|marketing|47024\n",
      "745|42|M|writer|55113\n",
      "746|25|M|engineer|19047\n",
      "747|19|M|other|93612\n",
      "748|28|M|administrator|94720\n",
      "749|33|M|other|80919\n",
      "750|28|M|administrator|32303\n",
      "751|24|F|other|90034\n",
      "752|60|M|retired|21201\n",
      "753|56|M|salesman|91206\n",
      "754|59|F|librarian|62901\n",
      "755|44|F|educator|97007\n",
      "756|30|F|none|90247\n",
      "757|26|M|student|55104\n",
      "758|27|M|student|53706\n",
      "759|20|F|student|68503\n",
      "760|35|F|other|14211\n",
      "761|17|M|student|97302\n",
      "762|32|M|administrator|95050\n",
      "763|27|M|scientist|02113\n",
      "764|27|F|educator|62903\n",
      "765|31|M|student|33066\n",
      "766|42|M|other|10960\n",
      "767|70|M|engineer|00000\n",
      "768|29|M|administrator|12866\n",
      "769|39|M|executive|06927\n",
      "770|28|M|student|14216\n",
      "771|26|M|student|15232\n",
      "772|50|M|writer|27105\n",
      "773|20|M|student|55414\n",
      "774|30|M|student|80027\n",
      "775|46|M|executive|90036\n",
      "776|30|M|librarian|51157\n",
      "777|63|M|programmer|01810\n",
      "778|34|M|student|01960\n",
      "779|31|M|student|K7L5J\n",
      "780|49|M|programmer|94560\n",
      "781|20|M|student|48825\n",
      "782|21|F|artist|33205\n",
      "783|30|M|marketing|77081\n",
      "784|47|M|administrator|91040\n",
      "785|32|M|engineer|23322\n",
      "786|36|F|engineer|01754\n",
      "787|18|F|student|98620\n",
      "788|51|M|administrator|05779\n",
      "789|29|M|other|55420\n",
      "790|27|M|technician|80913\n",
      "791|31|M|educator|20064\n",
      "792|40|M|programmer|12205\n",
      "793|22|M|student|85281\n",
      "794|32|M|educator|57197\n",
      "795|30|M|programmer|08610\n",
      "796|32|F|writer|33755\n",
      "797|44|F|other|62522\n",
      "798|40|F|writer|64131\n",
      "799|49|F|administrator|19716\n",
      "800|25|M|programmer|55337\n",
      "801|22|M|writer|92154\n",
      "802|35|M|administrator|34105\n",
      "803|70|M|administrator|78212\n",
      "804|39|M|educator|61820\n",
      "805|27|F|other|20009\n",
      "806|27|M|marketing|11217\n",
      "807|41|F|healthcare|93555\n",
      "808|45|M|salesman|90016\n",
      "809|50|F|marketing|30803\n",
      "810|55|F|other|80526\n",
      "811|40|F|educator|73013\n",
      "812|22|M|technician|76234\n",
      "813|14|F|student|02136\n",
      "814|30|M|other|12345\n",
      "815|32|M|other|28806\n",
      "816|34|M|other|20755\n",
      "817|19|M|student|60152\n",
      "818|28|M|librarian|27514\n",
      "819|59|M|administrator|40205\n",
      "820|22|M|student|37725\n",
      "821|37|M|engineer|77845\n",
      "822|29|F|librarian|53144\n",
      "823|27|M|artist|50322\n",
      "824|31|M|other|15017\n",
      "825|44|M|engineer|05452\n",
      "826|28|M|artist|77048\n",
      "827|23|F|engineer|80228\n",
      "828|28|M|librarian|85282\n",
      "829|48|M|writer|80209\n",
      "830|46|M|programmer|53066\n",
      "831|21|M|other|33765\n",
      "832|24|M|technician|77042\n",
      "833|34|M|writer|90019\n",
      "834|26|M|other|64153\n",
      "835|44|F|executive|11577\n",
      "836|44|M|artist|10018\n",
      "837|36|F|artist|55409\n",
      "838|23|M|student|01375\n",
      "839|38|F|entertainment|90814\n",
      "840|39|M|artist|55406\n",
      "841|45|M|doctor|47401\n",
      "842|40|M|writer|93055\n",
      "843|35|M|librarian|44212\n",
      "844|22|M|engineer|95662\n",
      "845|64|M|doctor|97405\n",
      "846|27|M|lawyer|47130\n",
      "847|29|M|student|55417\n",
      "848|46|M|engineer|02146\n",
      "849|15|F|student|25652\n",
      "850|34|M|technician|78390\n",
      "851|18|M|other|29646\n",
      "852|46|M|administrator|94086\n",
      "853|49|M|writer|40515\n",
      "854|29|F|student|55408\n",
      "855|53|M|librarian|04988\n",
      "856|43|F|marketing|97215\n",
      "857|35|F|administrator|V1G4L\n",
      "858|63|M|educator|09645\n",
      "859|18|F|other|06492\n",
      "860|70|F|retired|48322\n",
      "861|38|F|student|14085\n",
      "862|25|M|executive|13820\n",
      "863|17|M|student|60089\n",
      "864|27|M|programmer|63021\n",
      "865|25|M|artist|11231\n",
      "866|45|M|other|60302\n",
      "867|24|M|scientist|92507\n",
      "868|21|M|programmer|55303\n",
      "869|30|M|student|10025\n",
      "870|22|M|student|65203\n",
      "871|31|M|executive|44648\n",
      "872|19|F|student|74078\n",
      "873|48|F|administrator|33763\n",
      "874|36|M|scientist|37076\n",
      "875|24|F|student|35802\n",
      "876|41|M|other|20902\n",
      "877|30|M|other|77504\n",
      "878|50|F|educator|98027\n",
      "879|33|F|administrator|55337\n",
      "880|13|M|student|83702\n",
      "881|39|M|marketing|43017\n",
      "882|35|M|engineer|40503\n",
      "883|49|M|librarian|50266\n",
      "884|44|M|engineer|55337\n",
      "885|30|F|other|95316\n",
      "886|20|M|student|61820\n",
      "887|14|F|student|27249\n",
      "888|41|M|scientist|17036\n",
      "889|24|M|technician|78704\n",
      "890|32|M|student|97301\n",
      "891|51|F|administrator|03062\n",
      "892|36|M|other|45243\n",
      "893|25|M|student|95823\n",
      "894|47|M|educator|74075\n",
      "895|31|F|librarian|32301\n",
      "896|28|M|writer|91505\n",
      "897|30|M|other|33484\n",
      "898|23|M|homemaker|61755\n",
      "899|32|M|other|55116\n",
      "900|60|M|retired|18505\n",
      "901|38|M|executive|L1V3W\n",
      "902|45|F|artist|97203\n",
      "903|28|M|educator|20850\n",
      "904|17|F|student|61073\n",
      "905|27|M|other|30350\n",
      "906|45|M|librarian|70124\n",
      "907|25|F|other|80526\n",
      "908|44|F|librarian|68504\n",
      "909|50|F|educator|53171\n",
      "910|28|M|healthcare|29301\n",
      "911|37|F|writer|53210\n",
      "912|51|M|other|06512\n",
      "913|27|M|student|76201\n",
      "914|44|F|other|08105\n",
      "915|50|M|entertainment|60614\n",
      "916|27|M|engineer|N2L5N\n",
      "917|22|F|student|20006\n",
      "918|40|M|scientist|70116\n",
      "919|25|M|other|14216\n",
      "920|30|F|artist|90008\n",
      "921|20|F|student|98801\n",
      "922|29|F|administrator|21114\n",
      "923|21|M|student|E2E3R\n",
      "924|29|M|other|11753\n",
      "925|18|F|salesman|49036\n",
      "926|49|M|entertainment|01701\n",
      "927|23|M|programmer|55428\n",
      "928|21|M|student|55408\n",
      "929|44|M|scientist|53711\n",
      "930|28|F|scientist|07310\n",
      "931|60|M|educator|33556\n",
      "932|58|M|educator|06437\n",
      "933|28|M|student|48105\n",
      "934|61|M|engineer|22902\n",
      "935|42|M|doctor|66221\n",
      "936|24|M|other|32789\n",
      "937|48|M|educator|98072\n",
      "938|38|F|technician|55038\n",
      "939|26|F|student|33319\n",
      "940|32|M|administrator|02215\n",
      "941|20|M|student|97229\n",
      "942|48|F|librarian|78209\n",
      "943|22|M|student|77841\n"
     ]
    }
   ],
   "source": [
    "! cat movieusers"
   ]
  },
  {
   "cell_type": "markdown",
   "metadata": {},
   "source": [
    "##### Read the file using the '|' separator:"
   ]
  },
  {
   "cell_type": "code",
   "execution_count": 83,
   "metadata": {
    "colab": {
     "base_uri": "https://localhost:8080/",
     "height": 206
    },
    "id": "uS5jF-dIEzSo",
    "outputId": "95a96b24-9fdb-4745-c0bb-dbfd1b7c2165"
   },
   "outputs": [
    {
     "data": {
      "text/html": [
       "<div>\n",
       "<style scoped>\n",
       "    .dataframe tbody tr th:only-of-type {\n",
       "        vertical-align: middle;\n",
       "    }\n",
       "\n",
       "    .dataframe tbody tr th {\n",
       "        vertical-align: top;\n",
       "    }\n",
       "\n",
       "    .dataframe thead th {\n",
       "        text-align: right;\n",
       "    }\n",
       "</style>\n",
       "<table border=\"1\" class=\"dataframe\">\n",
       "  <thead>\n",
       "    <tr style=\"text-align: right;\">\n",
       "      <th></th>\n",
       "      <th>1</th>\n",
       "      <th>24</th>\n",
       "      <th>M</th>\n",
       "      <th>technician</th>\n",
       "      <th>85711</th>\n",
       "    </tr>\n",
       "  </thead>\n",
       "  <tbody>\n",
       "    <tr>\n",
       "      <th>0</th>\n",
       "      <td>2</td>\n",
       "      <td>53</td>\n",
       "      <td>F</td>\n",
       "      <td>other</td>\n",
       "      <td>94043</td>\n",
       "    </tr>\n",
       "    <tr>\n",
       "      <th>1</th>\n",
       "      <td>3</td>\n",
       "      <td>23</td>\n",
       "      <td>M</td>\n",
       "      <td>writer</td>\n",
       "      <td>32067</td>\n",
       "    </tr>\n",
       "    <tr>\n",
       "      <th>2</th>\n",
       "      <td>4</td>\n",
       "      <td>24</td>\n",
       "      <td>M</td>\n",
       "      <td>technician</td>\n",
       "      <td>43537</td>\n",
       "    </tr>\n",
       "    <tr>\n",
       "      <th>3</th>\n",
       "      <td>5</td>\n",
       "      <td>33</td>\n",
       "      <td>F</td>\n",
       "      <td>other</td>\n",
       "      <td>15213</td>\n",
       "    </tr>\n",
       "    <tr>\n",
       "      <th>4</th>\n",
       "      <td>6</td>\n",
       "      <td>42</td>\n",
       "      <td>M</td>\n",
       "      <td>executive</td>\n",
       "      <td>98101</td>\n",
       "    </tr>\n",
       "    <tr>\n",
       "      <th>...</th>\n",
       "      <td>...</td>\n",
       "      <td>...</td>\n",
       "      <td>...</td>\n",
       "      <td>...</td>\n",
       "      <td>...</td>\n",
       "    </tr>\n",
       "    <tr>\n",
       "      <th>937</th>\n",
       "      <td>939</td>\n",
       "      <td>26</td>\n",
       "      <td>F</td>\n",
       "      <td>student</td>\n",
       "      <td>33319</td>\n",
       "    </tr>\n",
       "    <tr>\n",
       "      <th>938</th>\n",
       "      <td>940</td>\n",
       "      <td>32</td>\n",
       "      <td>M</td>\n",
       "      <td>administrator</td>\n",
       "      <td>02215</td>\n",
       "    </tr>\n",
       "    <tr>\n",
       "      <th>939</th>\n",
       "      <td>941</td>\n",
       "      <td>20</td>\n",
       "      <td>M</td>\n",
       "      <td>student</td>\n",
       "      <td>97229</td>\n",
       "    </tr>\n",
       "    <tr>\n",
       "      <th>940</th>\n",
       "      <td>942</td>\n",
       "      <td>48</td>\n",
       "      <td>F</td>\n",
       "      <td>librarian</td>\n",
       "      <td>78209</td>\n",
       "    </tr>\n",
       "    <tr>\n",
       "      <th>941</th>\n",
       "      <td>943</td>\n",
       "      <td>22</td>\n",
       "      <td>M</td>\n",
       "      <td>student</td>\n",
       "      <td>77841</td>\n",
       "    </tr>\n",
       "  </tbody>\n",
       "</table>\n",
       "<p>942 rows × 5 columns</p>\n",
       "</div>"
      ],
      "text/plain": [
       "       1  24  M     technician  85711\n",
       "0      2  53  F          other  94043\n",
       "1      3  23  M         writer  32067\n",
       "2      4  24  M     technician  43537\n",
       "3      5  33  F          other  15213\n",
       "4      6  42  M      executive  98101\n",
       "..   ...  .. ..            ...    ...\n",
       "937  939  26  F        student  33319\n",
       "938  940  32  M  administrator  02215\n",
       "939  941  20  M        student  97229\n",
       "940  942  48  F      librarian  78209\n",
       "941  943  22  M        student  77841\n",
       "\n",
       "[942 rows x 5 columns]"
      ]
     },
     "execution_count": 83,
     "metadata": {},
     "output_type": "execute_result"
    }
   ],
   "source": [
    "df_movieusers = pd.read_csv('http://bit.ly/movieusers', sep='|')\n",
    "df_movieusers"
   ]
  },
  {
   "cell_type": "markdown",
   "metadata": {
    "id": "oY6wtNUeGSfI"
   },
   "source": [
    "##### Remove the firt-row-header default:"
   ]
  },
  {
   "cell_type": "code",
   "execution_count": 84,
   "metadata": {
    "colab": {
     "base_uri": "https://localhost:8080/",
     "height": 206
    },
    "id": "67Yr2-ekGhOQ",
    "outputId": "65184dd7-a686-4184-f1f2-df1eeb164c80"
   },
   "outputs": [
    {
     "data": {
      "text/html": [
       "<div>\n",
       "<style scoped>\n",
       "    .dataframe tbody tr th:only-of-type {\n",
       "        vertical-align: middle;\n",
       "    }\n",
       "\n",
       "    .dataframe tbody tr th {\n",
       "        vertical-align: top;\n",
       "    }\n",
       "\n",
       "    .dataframe thead th {\n",
       "        text-align: right;\n",
       "    }\n",
       "</style>\n",
       "<table border=\"1\" class=\"dataframe\">\n",
       "  <thead>\n",
       "    <tr style=\"text-align: right;\">\n",
       "      <th></th>\n",
       "      <th>0</th>\n",
       "      <th>1</th>\n",
       "      <th>2</th>\n",
       "      <th>3</th>\n",
       "      <th>4</th>\n",
       "    </tr>\n",
       "  </thead>\n",
       "  <tbody>\n",
       "    <tr>\n",
       "      <th>0</th>\n",
       "      <td>1</td>\n",
       "      <td>24</td>\n",
       "      <td>M</td>\n",
       "      <td>technician</td>\n",
       "      <td>85711</td>\n",
       "    </tr>\n",
       "    <tr>\n",
       "      <th>1</th>\n",
       "      <td>2</td>\n",
       "      <td>53</td>\n",
       "      <td>F</td>\n",
       "      <td>other</td>\n",
       "      <td>94043</td>\n",
       "    </tr>\n",
       "    <tr>\n",
       "      <th>2</th>\n",
       "      <td>3</td>\n",
       "      <td>23</td>\n",
       "      <td>M</td>\n",
       "      <td>writer</td>\n",
       "      <td>32067</td>\n",
       "    </tr>\n",
       "    <tr>\n",
       "      <th>3</th>\n",
       "      <td>4</td>\n",
       "      <td>24</td>\n",
       "      <td>M</td>\n",
       "      <td>technician</td>\n",
       "      <td>43537</td>\n",
       "    </tr>\n",
       "    <tr>\n",
       "      <th>4</th>\n",
       "      <td>5</td>\n",
       "      <td>33</td>\n",
       "      <td>F</td>\n",
       "      <td>other</td>\n",
       "      <td>15213</td>\n",
       "    </tr>\n",
       "  </tbody>\n",
       "</table>\n",
       "</div>"
      ],
      "text/plain": [
       "   0   1  2           3      4\n",
       "0  1  24  M  technician  85711\n",
       "1  2  53  F       other  94043\n",
       "2  3  23  M      writer  32067\n",
       "3  4  24  M  technician  43537\n",
       "4  5  33  F       other  15213"
      ]
     },
     "execution_count": 84,
     "metadata": {},
     "output_type": "execute_result"
    }
   ],
   "source": [
    "df_movieusers = pd.read_csv('http://bit.ly/movieusers', sep='|', header=None)\n",
    "df_movieusers.head()"
   ]
  },
  {
   "cell_type": "markdown",
   "metadata": {
    "id": "gMUOpFvBGyX4"
   },
   "source": [
    "##### Rename the columns:"
   ]
  },
  {
   "cell_type": "code",
   "execution_count": 85,
   "metadata": {
    "colab": {
     "base_uri": "https://localhost:8080/",
     "height": 206
    },
    "id": "T9-nOLGUG9bR",
    "outputId": "25bedcb7-5738-4af8-c514-47ba0ffac16d"
   },
   "outputs": [
    {
     "data": {
      "text/html": [
       "<div>\n",
       "<style scoped>\n",
       "    .dataframe tbody tr th:only-of-type {\n",
       "        vertical-align: middle;\n",
       "    }\n",
       "\n",
       "    .dataframe tbody tr th {\n",
       "        vertical-align: top;\n",
       "    }\n",
       "\n",
       "    .dataframe thead th {\n",
       "        text-align: right;\n",
       "    }\n",
       "</style>\n",
       "<table border=\"1\" class=\"dataframe\">\n",
       "  <thead>\n",
       "    <tr style=\"text-align: right;\">\n",
       "      <th></th>\n",
       "      <th>user_id</th>\n",
       "      <th>age</th>\n",
       "      <th>gender</th>\n",
       "      <th>occupation</th>\n",
       "      <th>zip_code</th>\n",
       "    </tr>\n",
       "  </thead>\n",
       "  <tbody>\n",
       "    <tr>\n",
       "      <th>0</th>\n",
       "      <td>1</td>\n",
       "      <td>24</td>\n",
       "      <td>M</td>\n",
       "      <td>technician</td>\n",
       "      <td>85711</td>\n",
       "    </tr>\n",
       "    <tr>\n",
       "      <th>1</th>\n",
       "      <td>2</td>\n",
       "      <td>53</td>\n",
       "      <td>F</td>\n",
       "      <td>other</td>\n",
       "      <td>94043</td>\n",
       "    </tr>\n",
       "    <tr>\n",
       "      <th>2</th>\n",
       "      <td>3</td>\n",
       "      <td>23</td>\n",
       "      <td>M</td>\n",
       "      <td>writer</td>\n",
       "      <td>32067</td>\n",
       "    </tr>\n",
       "    <tr>\n",
       "      <th>3</th>\n",
       "      <td>4</td>\n",
       "      <td>24</td>\n",
       "      <td>M</td>\n",
       "      <td>technician</td>\n",
       "      <td>43537</td>\n",
       "    </tr>\n",
       "    <tr>\n",
       "      <th>4</th>\n",
       "      <td>5</td>\n",
       "      <td>33</td>\n",
       "      <td>F</td>\n",
       "      <td>other</td>\n",
       "      <td>15213</td>\n",
       "    </tr>\n",
       "    <tr>\n",
       "      <th>...</th>\n",
       "      <td>...</td>\n",
       "      <td>...</td>\n",
       "      <td>...</td>\n",
       "      <td>...</td>\n",
       "      <td>...</td>\n",
       "    </tr>\n",
       "    <tr>\n",
       "      <th>938</th>\n",
       "      <td>939</td>\n",
       "      <td>26</td>\n",
       "      <td>F</td>\n",
       "      <td>student</td>\n",
       "      <td>33319</td>\n",
       "    </tr>\n",
       "    <tr>\n",
       "      <th>939</th>\n",
       "      <td>940</td>\n",
       "      <td>32</td>\n",
       "      <td>M</td>\n",
       "      <td>administrator</td>\n",
       "      <td>02215</td>\n",
       "    </tr>\n",
       "    <tr>\n",
       "      <th>940</th>\n",
       "      <td>941</td>\n",
       "      <td>20</td>\n",
       "      <td>M</td>\n",
       "      <td>student</td>\n",
       "      <td>97229</td>\n",
       "    </tr>\n",
       "    <tr>\n",
       "      <th>941</th>\n",
       "      <td>942</td>\n",
       "      <td>48</td>\n",
       "      <td>F</td>\n",
       "      <td>librarian</td>\n",
       "      <td>78209</td>\n",
       "    </tr>\n",
       "    <tr>\n",
       "      <th>942</th>\n",
       "      <td>943</td>\n",
       "      <td>22</td>\n",
       "      <td>M</td>\n",
       "      <td>student</td>\n",
       "      <td>77841</td>\n",
       "    </tr>\n",
       "  </tbody>\n",
       "</table>\n",
       "<p>943 rows × 5 columns</p>\n",
       "</div>"
      ],
      "text/plain": [
       "     user_id  age gender     occupation zip_code\n",
       "0          1   24      M     technician    85711\n",
       "1          2   53      F          other    94043\n",
       "2          3   23      M         writer    32067\n",
       "3          4   24      M     technician    43537\n",
       "4          5   33      F          other    15213\n",
       "..       ...  ...    ...            ...      ...\n",
       "938      939   26      F        student    33319\n",
       "939      940   32      M  administrator    02215\n",
       "940      941   20      M        student    97229\n",
       "941      942   48      F      librarian    78209\n",
       "942      943   22      M        student    77841\n",
       "\n",
       "[943 rows x 5 columns]"
      ]
     },
     "execution_count": 85,
     "metadata": {},
     "output_type": "execute_result"
    }
   ],
   "source": [
    "df_movieusers.columns = ['user_id', 'age', 'gender', 'occupation', 'zip_code']\n",
    "df_movieusers\n",
    "\n",
    "        # Or give names to columns while reading the file\n",
    "\n",
    "# user_cols = ['user_id', 'age', 'gender', 'occupation', 'zip_code']\n",
    "# df_movieusers = pd.read_csv('http://bit.ly/movieusers', sep='|', header=None, names=user_cols)\n",
    "# df_movieusers.head()"
   ]
  },
  {
   "cell_type": "markdown",
   "metadata": {},
   "source": [
    "##### Get general info about the new dataframe:"
   ]
  },
  {
   "cell_type": "code",
   "execution_count": null,
   "metadata": {
    "colab": {
     "base_uri": "https://localhost:8080/"
    },
    "id": "G_qRxmVWI_AJ",
    "outputId": "2eff8f59-5c0b-454d-9aba-52aab4308d7f"
   },
   "outputs": [],
   "source": [
    "df_movieusers.shape"
   ]
  },
  {
   "cell_type": "code",
   "execution_count": null,
   "metadata": {
    "colab": {
     "base_uri": "https://localhost:8080/"
    },
    "id": "ujHFF7YQJXMq",
    "outputId": "7fd5825a-1231-4aac-d937-e486b2f2dddb"
   },
   "outputs": [],
   "source": [
    "df_movieusers.size"
   ]
  },
  {
   "cell_type": "code",
   "execution_count": null,
   "metadata": {
    "colab": {
     "base_uri": "https://localhost:8080/"
    },
    "id": "GMdJkbEFJozA",
    "outputId": "04b0588e-3cb8-4299-c998-d81912595649"
   },
   "outputs": [],
   "source": [
    "df_movieusers.info(memory_usage='deep')"
   ]
  },
  {
   "cell_type": "code",
   "execution_count": null,
   "metadata": {},
   "outputs": [],
   "source": [
    "# df_movieusers.describe()\n",
    "\n",
    "df_movieusers.describe(include = 'all')  # include also non numerical values"
   ]
  },
  {
   "cell_type": "markdown",
   "metadata": {},
   "source": [
    "##### Find out how many different occupations are there:"
   ]
  },
  {
   "cell_type": "code",
   "execution_count": null,
   "metadata": {},
   "outputs": [],
   "source": [
    "df_movieusers.occupation.unique()\n"
   ]
  },
  {
   "cell_type": "markdown",
   "metadata": {},
   "source": [
    "##### Other ways of getting the number of unique occupations:"
   ]
  },
  {
   "cell_type": "code",
   "execution_count": null,
   "metadata": {},
   "outputs": [],
   "source": [
    "#df_movieusers.occupation.unique().size\n",
    "\n",
    "df_movieusers.occupation.unique().shape"
   ]
  },
  {
   "cell_type": "code",
   "execution_count": null,
   "metadata": {},
   "outputs": [],
   "source": [
    "len(df_movieusers.occupation.unique())"
   ]
  },
  {
   "cell_type": "code",
   "execution_count": null,
   "metadata": {},
   "outputs": [],
   "source": [
    "pd.Series(df_movieusers.occupation.unique()).count()"
   ]
  },
  {
   "cell_type": "markdown",
   "metadata": {},
   "source": [
    "##### Find out how many persons per occupation type:"
   ]
  },
  {
   "cell_type": "code",
   "execution_count": 86,
   "metadata": {},
   "outputs": [
    {
     "data": {
      "text/plain": [
       "student          196\n",
       "other            105\n",
       "educator          95\n",
       "administrator     79\n",
       "engineer          67\n",
       "programmer        66\n",
       "librarian         51\n",
       "writer            45\n",
       "executive         32\n",
       "scientist         31\n",
       "artist            28\n",
       "technician        27\n",
       "marketing         26\n",
       "entertainment     18\n",
       "healthcare        16\n",
       "retired           14\n",
       "lawyer            12\n",
       "salesman          12\n",
       "none               9\n",
       "homemaker          7\n",
       "doctor             7\n",
       "Name: occupation, dtype: int64"
      ]
     },
     "execution_count": 86,
     "metadata": {},
     "output_type": "execute_result"
    }
   ],
   "source": [
    "df_movieusers.occupation.value_counts()\n"
   ]
  },
  {
   "cell_type": "markdown",
   "metadata": {},
   "source": [
    "##### Yet a different way of counting:"
   ]
  },
  {
   "cell_type": "code",
   "execution_count": 87,
   "metadata": {},
   "outputs": [
    {
     "data": {
      "text/plain": [
       "21"
      ]
     },
     "execution_count": 87,
     "metadata": {},
     "output_type": "execute_result"
    }
   ],
   "source": [
    "df_movieusers.occupation.value_counts().count()"
   ]
  },
  {
   "cell_type": "markdown",
   "metadata": {},
   "source": [
    "##### Convert the Series into a Dataframe:"
   ]
  },
  {
   "cell_type": "code",
   "execution_count": 88,
   "metadata": {},
   "outputs": [
    {
     "data": {
      "text/html": [
       "<div>\n",
       "<style scoped>\n",
       "    .dataframe tbody tr th:only-of-type {\n",
       "        vertical-align: middle;\n",
       "    }\n",
       "\n",
       "    .dataframe tbody tr th {\n",
       "        vertical-align: top;\n",
       "    }\n",
       "\n",
       "    .dataframe thead th {\n",
       "        text-align: right;\n",
       "    }\n",
       "</style>\n",
       "<table border=\"1\" class=\"dataframe\">\n",
       "  <thead>\n",
       "    <tr style=\"text-align: right;\">\n",
       "      <th></th>\n",
       "      <th>occupation #</th>\n",
       "    </tr>\n",
       "  </thead>\n",
       "  <tbody>\n",
       "    <tr>\n",
       "      <th>student</th>\n",
       "      <td>196</td>\n",
       "    </tr>\n",
       "    <tr>\n",
       "      <th>other</th>\n",
       "      <td>105</td>\n",
       "    </tr>\n",
       "    <tr>\n",
       "      <th>educator</th>\n",
       "      <td>95</td>\n",
       "    </tr>\n",
       "    <tr>\n",
       "      <th>administrator</th>\n",
       "      <td>79</td>\n",
       "    </tr>\n",
       "    <tr>\n",
       "      <th>engineer</th>\n",
       "      <td>67</td>\n",
       "    </tr>\n",
       "    <tr>\n",
       "      <th>programmer</th>\n",
       "      <td>66</td>\n",
       "    </tr>\n",
       "    <tr>\n",
       "      <th>librarian</th>\n",
       "      <td>51</td>\n",
       "    </tr>\n",
       "    <tr>\n",
       "      <th>writer</th>\n",
       "      <td>45</td>\n",
       "    </tr>\n",
       "    <tr>\n",
       "      <th>executive</th>\n",
       "      <td>32</td>\n",
       "    </tr>\n",
       "    <tr>\n",
       "      <th>scientist</th>\n",
       "      <td>31</td>\n",
       "    </tr>\n",
       "    <tr>\n",
       "      <th>artist</th>\n",
       "      <td>28</td>\n",
       "    </tr>\n",
       "    <tr>\n",
       "      <th>technician</th>\n",
       "      <td>27</td>\n",
       "    </tr>\n",
       "    <tr>\n",
       "      <th>marketing</th>\n",
       "      <td>26</td>\n",
       "    </tr>\n",
       "    <tr>\n",
       "      <th>entertainment</th>\n",
       "      <td>18</td>\n",
       "    </tr>\n",
       "    <tr>\n",
       "      <th>healthcare</th>\n",
       "      <td>16</td>\n",
       "    </tr>\n",
       "    <tr>\n",
       "      <th>retired</th>\n",
       "      <td>14</td>\n",
       "    </tr>\n",
       "    <tr>\n",
       "      <th>lawyer</th>\n",
       "      <td>12</td>\n",
       "    </tr>\n",
       "    <tr>\n",
       "      <th>salesman</th>\n",
       "      <td>12</td>\n",
       "    </tr>\n",
       "    <tr>\n",
       "      <th>none</th>\n",
       "      <td>9</td>\n",
       "    </tr>\n",
       "    <tr>\n",
       "      <th>homemaker</th>\n",
       "      <td>7</td>\n",
       "    </tr>\n",
       "    <tr>\n",
       "      <th>doctor</th>\n",
       "      <td>7</td>\n",
       "    </tr>\n",
       "  </tbody>\n",
       "</table>\n",
       "</div>"
      ],
      "text/plain": [
       "               occupation #\n",
       "student                 196\n",
       "other                   105\n",
       "educator                 95\n",
       "administrator            79\n",
       "engineer                 67\n",
       "programmer               66\n",
       "librarian                51\n",
       "writer                   45\n",
       "executive                32\n",
       "scientist                31\n",
       "artist                   28\n",
       "technician               27\n",
       "marketing                26\n",
       "entertainment            18\n",
       "healthcare               16\n",
       "retired                  14\n",
       "lawyer                   12\n",
       "salesman                 12\n",
       "none                      9\n",
       "homemaker                 7\n",
       "doctor                    7"
      ]
     },
     "execution_count": 88,
     "metadata": {},
     "output_type": "execute_result"
    }
   ],
   "source": [
    "df_occ = pd.DataFrame({'occupation #': df_movieusers.occupation.value_counts()})\n",
    "df_occ\n",
    "# df_occ.count() "
   ]
  },
  {
   "cell_type": "markdown",
   "metadata": {},
   "source": [
    "### 5. Plot data "
   ]
  },
  {
   "cell_type": "markdown",
   "metadata": {},
   "source": [
    "##### Plot data with matplotlib:"
   ]
  },
  {
   "cell_type": "code",
   "execution_count": 89,
   "metadata": {},
   "outputs": [],
   "source": [
    "# Notice: this line might be redundant\n",
    "\n",
    "%matplotlib inline"
   ]
  },
  {
   "cell_type": "markdown",
   "metadata": {},
   "source": [
    "##### Create a simple dataframe:"
   ]
  },
  {
   "cell_type": "code",
   "execution_count": 90,
   "metadata": {},
   "outputs": [
    {
     "data": {
      "text/html": [
       "<div>\n",
       "<style scoped>\n",
       "    .dataframe tbody tr th:only-of-type {\n",
       "        vertical-align: middle;\n",
       "    }\n",
       "\n",
       "    .dataframe tbody tr th {\n",
       "        vertical-align: top;\n",
       "    }\n",
       "\n",
       "    .dataframe thead th {\n",
       "        text-align: right;\n",
       "    }\n",
       "</style>\n",
       "<table border=\"1\" class=\"dataframe\">\n",
       "  <thead>\n",
       "    <tr style=\"text-align: right;\">\n",
       "      <th></th>\n",
       "      <th>x</th>\n",
       "      <th>y</th>\n",
       "    </tr>\n",
       "  </thead>\n",
       "  <tbody>\n",
       "    <tr>\n",
       "      <th>0</th>\n",
       "      <td>2</td>\n",
       "      <td>4</td>\n",
       "    </tr>\n",
       "    <tr>\n",
       "      <th>1</th>\n",
       "      <td>4</td>\n",
       "      <td>16</td>\n",
       "    </tr>\n",
       "    <tr>\n",
       "      <th>2</th>\n",
       "      <td>6</td>\n",
       "      <td>36</td>\n",
       "    </tr>\n",
       "    <tr>\n",
       "      <th>3</th>\n",
       "      <td>8</td>\n",
       "      <td>64</td>\n",
       "    </tr>\n",
       "    <tr>\n",
       "      <th>4</th>\n",
       "      <td>10</td>\n",
       "      <td>100</td>\n",
       "    </tr>\n",
       "    <tr>\n",
       "      <th>5</th>\n",
       "      <td>12</td>\n",
       "      <td>144</td>\n",
       "    </tr>\n",
       "    <tr>\n",
       "      <th>6</th>\n",
       "      <td>14</td>\n",
       "      <td>196</td>\n",
       "    </tr>\n",
       "  </tbody>\n",
       "</table>\n",
       "</div>"
      ],
      "text/plain": [
       "    x    y\n",
       "0   2    4\n",
       "1   4   16\n",
       "2   6   36\n",
       "3   8   64\n",
       "4  10  100\n",
       "5  12  144\n",
       "6  14  196"
      ]
     },
     "execution_count": 90,
     "metadata": {},
     "output_type": "execute_result"
    }
   ],
   "source": [
    "df_parabola = pd.DataFrame({'x': range(2,15,2), 'y':list(i*i for i in range(2,15,2)) })\n",
    "df_parabola"
   ]
  },
  {
   "cell_type": "code",
   "execution_count": 91,
   "metadata": {},
   "outputs": [
    {
     "data": {
      "text/plain": [
       "<AxesSubplot:>"
      ]
     },
     "execution_count": 91,
     "metadata": {},
     "output_type": "execute_result"
    },
    {
     "data": {
      "image/png": "[encoded data removed]",
      "text/plain": [
       "<Figure size 432x288 with 1 Axes>"
      ]
     },
     "metadata": {
      "needs_background": "light"
     },
     "output_type": "display_data"
    }
   ],
   "source": [
    "df_parabola.plot()"
   ]
  },
  {
   "cell_type": "markdown",
   "metadata": {},
   "source": [
    "##### We do need to specify which column is ascissa and which one is ordinate:"
   ]
  },
  {
   "cell_type": "code",
   "execution_count": 92,
   "metadata": {},
   "outputs": [
    {
     "data": {
      "text/plain": [
       "<AxesSubplot:xlabel='x'>"
      ]
     },
     "execution_count": 92,
     "metadata": {},
     "output_type": "execute_result"
    },
    {
     "data": {
      "image/png": "[encoded data removed]",
      "text/plain": [
       "<Figure size 432x288 with 1 Axes>"
      ]
     },
     "metadata": {
      "needs_background": "light"
     },
     "output_type": "display_data"
    }
   ],
   "source": [
    "df_parabola.plot(x='x', y='y')"
   ]
  },
  {
   "cell_type": "code",
   "execution_count": 93,
   "metadata": {},
   "outputs": [
    {
     "data": {
      "text/plain": [
       "<AxesSubplot:xlabel='x'>"
      ]
     },
     "execution_count": 93,
     "metadata": {},
     "output_type": "execute_result"
    },
    {
     "data": {
      "image/png": "[encoded data removed]",
      "text/plain": [
       "<Figure size 432x288 with 1 Axes>"
      ]
     },
     "metadata": {
      "needs_background": "light"
     },
     "output_type": "display_data"
    }
   ],
   "source": [
    "#df_parabola.plot(x='x', y='y', kind ='bar')\n",
    "\n",
    "df_parabola.plot.bar(x='x', y='y')"
   ]
  },
  {
   "cell_type": "code",
   "execution_count": 94,
   "metadata": {},
   "outputs": [
    {
     "data": {
      "text/html": [
       "<div>\n",
       "<style scoped>\n",
       "    .dataframe tbody tr th:only-of-type {\n",
       "        vertical-align: middle;\n",
       "    }\n",
       "\n",
       "    .dataframe tbody tr th {\n",
       "        vertical-align: top;\n",
       "    }\n",
       "\n",
       "    .dataframe thead th {\n",
       "        text-align: right;\n",
       "    }\n",
       "</style>\n",
       "<table border=\"1\" class=\"dataframe\">\n",
       "  <thead>\n",
       "    <tr style=\"text-align: right;\">\n",
       "      <th></th>\n",
       "      <th>x</th>\n",
       "      <th>y</th>\n",
       "      <th>z</th>\n",
       "    </tr>\n",
       "  </thead>\n",
       "  <tbody>\n",
       "    <tr>\n",
       "      <th>0</th>\n",
       "      <td>2</td>\n",
       "      <td>4</td>\n",
       "      <td>8</td>\n",
       "    </tr>\n",
       "    <tr>\n",
       "      <th>1</th>\n",
       "      <td>4</td>\n",
       "      <td>16</td>\n",
       "      <td>64</td>\n",
       "    </tr>\n",
       "    <tr>\n",
       "      <th>2</th>\n",
       "      <td>6</td>\n",
       "      <td>36</td>\n",
       "      <td>216</td>\n",
       "    </tr>\n",
       "    <tr>\n",
       "      <th>3</th>\n",
       "      <td>8</td>\n",
       "      <td>64</td>\n",
       "      <td>512</td>\n",
       "    </tr>\n",
       "    <tr>\n",
       "      <th>4</th>\n",
       "      <td>10</td>\n",
       "      <td>100</td>\n",
       "      <td>1000</td>\n",
       "    </tr>\n",
       "    <tr>\n",
       "      <th>5</th>\n",
       "      <td>12</td>\n",
       "      <td>144</td>\n",
       "      <td>1728</td>\n",
       "    </tr>\n",
       "    <tr>\n",
       "      <th>6</th>\n",
       "      <td>14</td>\n",
       "      <td>196</td>\n",
       "      <td>2744</td>\n",
       "    </tr>\n",
       "  </tbody>\n",
       "</table>\n",
       "</div>"
      ],
      "text/plain": [
       "    x    y     z\n",
       "0   2    4     8\n",
       "1   4   16    64\n",
       "2   6   36   216\n",
       "3   8   64   512\n",
       "4  10  100  1000\n",
       "5  12  144  1728\n",
       "6  14  196  2744"
      ]
     },
     "execution_count": 94,
     "metadata": {},
     "output_type": "execute_result"
    }
   ],
   "source": [
    "df_cubic = pd.DataFrame({'x':list(range(2,15,2)), 'y':list(i*i for i in range(2,15,2)), 'z':list(i**3 for i in range(2,15,2)) })\n",
    "df_cubic"
   ]
  },
  {
   "cell_type": "code",
   "execution_count": 95,
   "metadata": {},
   "outputs": [
    {
     "data": {
      "text/plain": [
       "<AxesSubplot:xlabel='x'>"
      ]
     },
     "execution_count": 95,
     "metadata": {},
     "output_type": "execute_result"
    },
    {
     "data": {
      "image/png": "[encoded data removed]",
      "text/plain": [
       "<Figure size 432x288 with 1 Axes>"
      ]
     },
     "metadata": {
      "needs_background": "light"
     },
     "output_type": "display_data"
    }
   ],
   "source": [
    "df_cubic.plot(x='x', y='z')"
   ]
  },
  {
   "cell_type": "markdown",
   "metadata": {},
   "source": [
    "#####  The pyplot library allows for different formattings:"
   ]
  },
  {
   "cell_type": "code",
   "execution_count": 96,
   "metadata": {},
   "outputs": [
    {
     "data": {
      "image/png": "[encoded data removed]",
      "text/plain": [
       "<Figure size 432x288 with 1 Axes>"
      ]
     },
     "metadata": {
      "needs_background": "light"
     },
     "output_type": "display_data"
    }
   ],
   "source": [
    "import matplotlib.pyplot as plt\n",
    "df_cubic.plot(x='x', y='z')\n",
    "plt.show()"
   ]
  },
  {
   "cell_type": "code",
   "execution_count": 97,
   "metadata": {},
   "outputs": [
    {
     "data": {
      "text/plain": [
       "<AxesSubplot:xlabel='x'>"
      ]
     },
     "execution_count": 97,
     "metadata": {},
     "output_type": "execute_result"
    },
    {
     "data": {
      "image/png": "[encoded data removed]",
      "text/plain": [
       "<Figure size 432x288 with 4 Axes>"
      ]
     },
     "metadata": {
      "needs_background": "light"
     },
     "output_type": "display_data"
    }
   ],
   "source": [
    "fig, axes = plt.subplots(nrows=2,ncols=2)\n",
    "df_parabola.plot(x='x', y='y',ax=axes[0,0]); axes[0,0].set_title('parabola')\n",
    "df_parabola.plot(x='x', y='y',ax=axes[1,0], kind='bar')\n",
    "df_cubic.plot(x='x', y='z',ax=axes[0,1]); axes[0,1].set_title('cubic')\n",
    "df_cubic.plot(x='x', y='z',ax=axes[1,1], kind='bar') \n",
    " \n"
   ]
  },
  {
   "cell_type": "markdown",
   "metadata": {},
   "source": [
    "##### Plot data with seaborn:"
   ]
  },
  {
   "cell_type": "code",
   "execution_count": 98,
   "metadata": {},
   "outputs": [
    {
     "data": {
      "image/png": "[encoded data removed]",
      "text/plain": [
       "<Figure size 432x288 with 1 Axes>"
      ]
     },
     "metadata": {
      "needs_background": "light"
     },
     "output_type": "display_data"
    }
   ],
   "source": [
    "import seaborn as sns\n",
    "\n",
    "sns.lineplot(x=df_cubic.x, y=df_cubic.z)\n",
    "\n",
    "plt.show()"
   ]
  },
  {
   "cell_type": "code",
   "execution_count": 99,
   "metadata": {},
   "outputs": [
    {
     "data": {
      "image/png": "[encoded data removed]",
      "text/plain": [
       "<Figure size 432x288 with 1 Axes>"
      ]
     },
     "metadata": {
      "needs_background": "light"
     },
     "output_type": "display_data"
    }
   ],
   "source": [
    "sns.barplot(x=df_cubic.x, y=df_cubic.z)\n",
    "\n",
    "plt.show()"
   ]
  },
  {
   "cell_type": "markdown",
   "metadata": {},
   "source": [
    "### 6. Grouping "
   ]
  },
  {
   "cell_type": "markdown",
   "metadata": {},
   "source": [
    "##### Grouping is probably one of the most popular methods in data analysis. In pandas you can use the .groupby method.\n",
    "##### For demonstration we use the movieusers database:"
   ]
  },
  {
   "cell_type": "code",
   "execution_count": null,
   "metadata": {},
   "outputs": [],
   "source": [
    "# user_cols = ['user_id', 'age', 'gender', 'occupation', 'zip_code']\n",
    "# df_movieusers = pd.read_csv('http://bit.ly/movieusers', sep='|', header=None, names=user_cols)\n",
    "df_movieusers.head()"
   ]
  },
  {
   "cell_type": "code",
   "execution_count": null,
   "metadata": {},
   "outputs": [],
   "source": [
    "df_movieusers.describe(include='all')\n"
   ]
  },
  {
   "cell_type": "code",
   "execution_count": null,
   "metadata": {},
   "outputs": [],
   "source": [
    "df_movieusers.groupby(['gender']).count()\n",
    "\n",
    "            # show only the column 'user_id':\n",
    "\n",
    "# df_movieusers.groupby(['gender'])[['user_id']].count() # Dataframe\n",
    "# df_movieusers.groupby(['gender'])['user_id'].count()   # Series"
   ]
  },
  {
   "cell_type": "markdown",
   "metadata": {},
   "source": [
    "##### To analyze the same data by occupation, let's combine the twos:"
   ]
  },
  {
   "cell_type": "code",
   "execution_count": null,
   "metadata": {},
   "outputs": [],
   "source": [
    "df_grouped_1 = df_movieusers.groupby(['gender','occupation'])[['user_id']].count()\n",
    "df_grouped_1"
   ]
  },
  {
   "cell_type": "code",
   "execution_count": null,
   "metadata": {},
   "outputs": [],
   "source": [
    "df_grouped_1.unstack()"
   ]
  },
  {
   "cell_type": "code",
   "execution_count": null,
   "metadata": {},
   "outputs": [],
   "source": [
    "type(df_movieusers.groupby(['gender','occupation'])[['user_id']].count())"
   ]
  },
  {
   "cell_type": "markdown",
   "metadata": {},
   "source": [
    "##### Invert the order:"
   ]
  },
  {
   "cell_type": "code",
   "execution_count": null,
   "metadata": {},
   "outputs": [],
   "source": [
    "df_grouped_2 = df_movieusers.groupby(['occupation', 'gender'])[['user_id']].count()\n",
    "df_grouped_2"
   ]
  },
  {
   "cell_type": "code",
   "execution_count": null,
   "metadata": {},
   "outputs": [],
   "source": [
    "df_grouped_2.unstack()\n",
    "\n",
    "# my_df.unstack().fillna(0).astype('int32')\n"
   ]
  },
  {
   "cell_type": "markdown",
   "metadata": {},
   "source": [
    "##### Before unstacking, the index of the grouped df_movieusers dataframe is of the type 'multiIndex':"
   ]
  },
  {
   "cell_type": "code",
   "execution_count": null,
   "metadata": {},
   "outputs": [],
   "source": [
    "print (type(df_grouped_1.index))\n",
    "print (df_grouped_1.index)\n"
   ]
  },
  {
   "cell_type": "markdown",
   "metadata": {},
   "source": [
    "##### After unstacking:"
   ]
  },
  {
   "cell_type": "code",
   "execution_count": null,
   "metadata": {},
   "outputs": [],
   "source": [
    "print (type(df_grouped_1.unstack().index))\n",
    "print (df_grouped_1.unstack().index)"
   ]
  },
  {
   "cell_type": "markdown",
   "metadata": {},
   "source": [
    "##### Pivot table:"
   ]
  },
  {
   "cell_type": "code",
   "execution_count": null,
   "metadata": {},
   "outputs": [],
   "source": [
    "pvt = df_movieusers.pivot_table(index=['gender'], columns=['occupation'],  values='user_id', aggfunc='count')\n",
    "pvt"
   ]
  },
  {
   "cell_type": "code",
   "execution_count": null,
   "metadata": {},
   "outputs": [],
   "source": [
    "pvt = df_movieusers.pivot_table(index=['occupation'], columns=['gender'],  values='user_id', aggfunc='count')\n",
    "pvt"
   ]
  },
  {
   "cell_type": "markdown",
   "metadata": {},
   "source": [
    "##### Pivot tables -- Data analysis often implies a process of grouping, summarising, \n",
    "##### aggregating and calculating statistics about this data. Pandas pivot tables \n",
    "##### provide a tool to perform these analysis.  In the figure below an additional example:\n"
   ]
  },
  {
   "cell_type": "code",
   "execution_count": 100,
   "metadata": {},
   "outputs": [
    {
     "data": {
      "text/html": [
       "<img src=\"pvt.jpg\" width=\"400\" height=\"400\"/>"
      ],
      "text/plain": [
       "<IPython.core.display.Image object>"
      ]
     },
     "execution_count": 100,
     "metadata": {},
     "output_type": "execute_result"
    }
   ],
   "source": [
    "# import image module\n",
    "from IPython.display import Image\n",
    "  \n",
    "# get the image\n",
    "Image(url=\"pvt.jpg\", width=400, height=400)"
   ]
  },
  {
   "cell_type": "code",
   "execution_count": null,
   "metadata": {},
   "outputs": [],
   "source": []
  }
 ],
 "metadata": {
  "colab": {
   "collapsed_sections": [],
   "name": "pandas_tutorial.ipynb",
   "provenance": []
  },
  "kernelspec": {
   "display_name": "Python 3 (ipykernel)",
   "language": "python",
   "name": "python3"
  },
  "language_info": {
   "codemirror_mode": {
    "name": "ipython",
    "version": 3
   },
   "file_extension": ".py",
   "mimetype": "text/x-python",
   "name": "python",
   "nbconvert_exporter": "python",
   "pygments_lexer": "ipython3",
   "version": "3.9.7"
  }
 },
 "nbformat": 4,
 "nbformat_minor": 4
}
